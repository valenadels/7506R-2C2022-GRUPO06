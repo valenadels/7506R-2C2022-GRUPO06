{
 "cells": [
  {
   "cell_type": "markdown",
   "source": "",
   "metadata": {
    "is_collapsed": false,
    "cell_id": "7a7e9f45-c3ec-452d-a4dc-907c1e06c926",
    "tags": [],
    "formattedRanges": [],
    "deepnote_cell_type": "text-cell-p"
   }
  },
  {
   "cell_type": "markdown",
   "source": "Importamos todas las librerías que vamos a utilizar   ",
   "metadata": {
    "is_collapsed": false,
    "cell_id": "b23a20b2-a6be-4c98-a1e2-f8f83c0aea52",
    "tags": [],
    "formattedRanges": [],
    "deepnote_cell_type": "text-cell-p"
   }
  },
  {
   "cell_type": "code",
   "source": "import pandas as pd\nimport numpy as np\nimport matplotlib.pyplot as plt\nimport seaborn as sns",
   "metadata": {
    "cell_id": "deb756049cd9449f988eb41fb5e6ca02",
    "tags": [],
    "deepnote_to_be_reexecuted": false,
    "source_hash": "24b26b86",
    "execution_start": 1665719905660,
    "execution_millis": 1778,
    "deepnote_cell_type": "code",
    "deepnote_cell_height": 130
   },
   "outputs": [],
   "execution_count": 1
  },
  {
   "cell_type": "markdown",
   "source": "Importamos el data set de vuelta",
   "metadata": {
    "is_collapsed": false,
    "cell_id": "4d049bbd998246fc81fb9274377dcbc0",
    "tags": [],
    "formattedRanges": [],
    "deepnote_cell_type": "text-cell-p"
   }
  },
  {
   "cell_type": "code",
   "source": "ds_properati = pd.read_csv('nuevo_dataset_properati.csv')\nds_properati.drop(columns=['Unnamed: 0'], inplace=True)\nds_properati.head() ",
   "metadata": {
    "cell_id": "55e2a74883be4733b69ae9b8d361e39b",
    "tags": [],
    "deepnote_to_be_reexecuted": false,
    "source_hash": "71620c55",
    "execution_start": 1665719907441,
    "execution_millis": 327,
    "deepnote_cell_type": "code",
    "deepnote_cell_height": 440.390625
   },
   "outputs": [
    {
     "output_type": "execute_result",
     "execution_count": 2,
     "data": {
      "application/vnd.deepnote.dataframe.v3+json": {
       "column_count": 14,
       "row_count": 5,
       "columns": [
        {
         "name": "created_on",
         "dtype": "object",
         "stats": {
          "unique_count": 1,
          "nan_count": 0,
          "categories": [
           {
            "name": "2021-09-09",
            "count": 5
           }
          ]
         }
        },
        {
         "name": "latitud",
         "dtype": "float64",
         "stats": {
          "unique_count": 5,
          "nan_count": 0,
          "min": "-34.6316207",
          "max": "-34.6238858",
          "histogram": [
           {
            "bin_start": -34.6316207,
            "bin_end": -34.63084721,
            "count": 1
           },
           {
            "bin_start": -34.63084721,
            "bin_end": -34.63007372,
            "count": 0
           },
           {
            "bin_start": -34.63007372,
            "bin_end": -34.62930023,
            "count": 1
           },
           {
            "bin_start": -34.62930023,
            "bin_end": -34.62852674,
            "count": 0
           },
           {
            "bin_start": -34.62852674,
            "bin_end": -34.62775325,
            "count": 0
           },
           {
            "bin_start": -34.62775325,
            "bin_end": -34.62697976,
            "count": 0
           },
           {
            "bin_start": -34.62697976,
            "bin_end": -34.62620627,
            "count": 1
           },
           {
            "bin_start": -34.62620627,
            "bin_end": -34.62543278,
            "count": 1
           },
           {
            "bin_start": -34.62543278,
            "bin_end": -34.62465929,
            "count": 0
           },
           {
            "bin_start": -34.62465929,
            "bin_end": -34.6238858,
            "count": 1
           }
          ]
         }
        },
        {
         "name": "longitud",
         "dtype": "float64",
         "stats": {
          "unique_count": 5,
          "nan_count": 0,
          "min": "-58.425852",
          "max": "-58.4127457",
          "histogram": [
           {
            "bin_start": -58.425852,
            "bin_end": -58.42454137,
            "count": 1
           },
           {
            "bin_start": -58.42454137,
            "bin_end": -58.42323074,
            "count": 0
           },
           {
            "bin_start": -58.42323074,
            "bin_end": -58.42192011,
            "count": 1
           },
           {
            "bin_start": -58.42192011,
            "bin_end": -58.42060948,
            "count": 0
           },
           {
            "bin_start": -58.42060948,
            "bin_end": -58.419298850000004,
            "count": 1
           },
           {
            "bin_start": -58.419298850000004,
            "bin_end": -58.41798822,
            "count": 0
           },
           {
            "bin_start": -58.41798822,
            "bin_end": -58.41667759,
            "count": 1
           },
           {
            "bin_start": -58.41667759,
            "bin_end": -58.41536696,
            "count": 0
           },
           {
            "bin_start": -58.41536696,
            "bin_end": -58.41405633,
            "count": 0
           },
           {
            "bin_start": -58.41405633,
            "bin_end": -58.4127457,
            "count": 1
           }
          ]
         }
        },
        {
         "name": "provincia",
         "dtype": "object",
         "stats": {
          "unique_count": 1,
          "nan_count": 0,
          "categories": [
           {
            "name": "Capital Federal",
            "count": 5
           }
          ]
         }
        },
        {
         "name": "barrio",
         "dtype": "object",
         "stats": {
          "unique_count": 1,
          "nan_count": 0,
          "categories": [
           {
            "name": "BOEDO",
            "count": 5
           }
          ]
         }
        },
        {
         "name": "operation",
         "dtype": "object",
         "stats": {
          "unique_count": 1,
          "nan_count": 0,
          "categories": [
           {
            "name": "Venta",
            "count": 5
           }
          ]
         }
        },
        {
         "name": "property_type",
         "dtype": "object",
         "stats": {
          "unique_count": 2,
          "nan_count": 0,
          "categories": [
           {
            "name": "PH",
            "count": 4
           },
           {
            "name": "Departamento",
            "count": 1
           }
          ]
         }
        },
        {
         "name": "property_rooms",
         "dtype": "float64",
         "stats": {
          "unique_count": 2,
          "nan_count": 0,
          "min": "2.0",
          "max": "4.0",
          "histogram": [
           {
            "bin_start": 2,
            "bin_end": 2.2,
            "count": 2
           },
           {
            "bin_start": 2.2,
            "bin_end": 2.4,
            "count": 0
           },
           {
            "bin_start": 2.4,
            "bin_end": 2.6,
            "count": 0
           },
           {
            "bin_start": 2.6,
            "bin_end": 2.8,
            "count": 0
           },
           {
            "bin_start": 2.8,
            "bin_end": 3,
            "count": 0
           },
           {
            "bin_start": 3,
            "bin_end": 3.2,
            "count": 0
           },
           {
            "bin_start": 3.2,
            "bin_end": 3.4000000000000004,
            "count": 0
           },
           {
            "bin_start": 3.4000000000000004,
            "bin_end": 3.6,
            "count": 0
           },
           {
            "bin_start": 3.6,
            "bin_end": 3.8,
            "count": 0
           },
           {
            "bin_start": 3.8,
            "bin_end": 4,
            "count": 3
           }
          ]
         }
        },
        {
         "name": "property_bedrooms",
         "dtype": "float64",
         "stats": {
          "unique_count": 3,
          "nan_count": 0,
          "min": "1.0",
          "max": "3.0",
          "histogram": [
           {
            "bin_start": 1,
            "bin_end": 1.2,
            "count": 2
           },
           {
            "bin_start": 1.2,
            "bin_end": 1.4,
            "count": 0
           },
           {
            "bin_start": 1.4,
            "bin_end": 1.6,
            "count": 0
           },
           {
            "bin_start": 1.6,
            "bin_end": 1.8,
            "count": 0
           },
           {
            "bin_start": 1.8,
            "bin_end": 2,
            "count": 0
           },
           {
            "bin_start": 2,
            "bin_end": 2.2,
            "count": 2
           },
           {
            "bin_start": 2.2,
            "bin_end": 2.4000000000000004,
            "count": 0
           },
           {
            "bin_start": 2.4000000000000004,
            "bin_end": 2.6,
            "count": 0
           },
           {
            "bin_start": 2.6,
            "bin_end": 2.8,
            "count": 0
           },
           {
            "bin_start": 2.8,
            "bin_end": 3,
            "count": 1
           }
          ]
         }
        },
        {
         "name": "property_surface_total",
         "dtype": "float64",
         "stats": {
          "unique_count": 5,
          "nan_count": 0,
          "min": "61.0",
          "max": "111.0",
          "histogram": [
           {
            "bin_start": 61,
            "bin_end": 66,
            "count": 2
           },
           {
            "bin_start": 66,
            "bin_end": 71,
            "count": 0
           },
           {
            "bin_start": 71,
            "bin_end": 76,
            "count": 0
           },
           {
            "bin_start": 76,
            "bin_end": 81,
            "count": 0
           },
           {
            "bin_start": 81,
            "bin_end": 86,
            "count": 0
           },
           {
            "bin_start": 86,
            "bin_end": 91,
            "count": 0
           },
           {
            "bin_start": 91,
            "bin_end": 96,
            "count": 0
           },
           {
            "bin_start": 96,
            "bin_end": 101,
            "count": 0
           },
           {
            "bin_start": 101,
            "bin_end": 106,
            "count": 1
           },
           {
            "bin_start": 106,
            "bin_end": 111,
            "count": 2
           }
          ]
         }
        },
        {
         "name": "property_surface_covered",
         "dtype": "float64",
         "stats": {
          "unique_count": 5,
          "nan_count": 0,
          "min": "44.0",
          "max": "101.0",
          "histogram": [
           {
            "bin_start": 44,
            "bin_end": 49.7,
            "count": 2
           },
           {
            "bin_start": 49.7,
            "bin_end": 55.4,
            "count": 1
           },
           {
            "bin_start": 55.4,
            "bin_end": 61.1,
            "count": 0
           },
           {
            "bin_start": 61.1,
            "bin_end": 66.8,
            "count": 0
           },
           {
            "bin_start": 66.8,
            "bin_end": 72.5,
            "count": 0
           },
           {
            "bin_start": 72.5,
            "bin_end": 78.2,
            "count": 1
           },
           {
            "bin_start": 78.2,
            "bin_end": 83.9,
            "count": 0
           },
           {
            "bin_start": 83.9,
            "bin_end": 89.6,
            "count": 0
           },
           {
            "bin_start": 89.6,
            "bin_end": 95.30000000000001,
            "count": 0
           },
           {
            "bin_start": 95.30000000000001,
            "bin_end": 101,
            "count": 1
           }
          ]
         }
        },
        {
         "name": "property_price",
         "dtype": "float64",
         "stats": {
          "unique_count": 4,
          "nan_count": 0,
          "min": "100000.0",
          "max": "250000.0",
          "histogram": [
           {
            "bin_start": 100000,
            "bin_end": 115000,
            "count": 3
           },
           {
            "bin_start": 115000,
            "bin_end": 130000,
            "count": 0
           },
           {
            "bin_start": 130000,
            "bin_end": 145000,
            "count": 0
           },
           {
            "bin_start": 145000,
            "bin_end": 160000,
            "count": 0
           },
           {
            "bin_start": 160000,
            "bin_end": 175000,
            "count": 0
           },
           {
            "bin_start": 175000,
            "bin_end": 190000,
            "count": 1
           },
           {
            "bin_start": 190000,
            "bin_end": 205000,
            "count": 0
           },
           {
            "bin_start": 205000,
            "bin_end": 220000,
            "count": 0
           },
           {
            "bin_start": 220000,
            "bin_end": 235000,
            "count": 0
           },
           {
            "bin_start": 235000,
            "bin_end": 250000,
            "count": 1
           }
          ]
         }
        },
        {
         "name": "property_currency",
         "dtype": "object",
         "stats": {
          "unique_count": 1,
          "nan_count": 0,
          "categories": [
           {
            "name": "USD",
            "count": 5
           }
          ]
         }
        },
        {
         "name": "geometry",
         "dtype": "object",
         "stats": {
          "unique_count": 5,
          "nan_count": 0,
          "categories": [
           {
            "name": "POINT (-58.416825 -34.6316207)",
            "count": 1
           },
           {
            "name": "POINT (-58.4127457 -34.6238858)",
            "count": 1
           },
           {
            "name": "3 others",
            "count": 3
           }
          ]
         }
        },
        {
         "name": "_deepnote_index_column",
         "dtype": "int64"
        }
       ],
       "rows": [
        {
         "created_on": "2021-09-09",
         "latitud": "-34.6316207",
         "longitud": "-58.416825",
         "provincia": "Capital Federal",
         "barrio": "BOEDO",
         "operation": "Venta",
         "property_type": "PH",
         "property_rooms": "4.0",
         "property_bedrooms": "2.0",
         "property_surface_total": "109.39470095892688",
         "property_surface_covered": "73.0",
         "property_price": "250000.0",
         "property_currency": "USD",
         "geometry": "POINT (-58.416825 -34.6316207)",
         "_deepnote_index_column": "0"
        },
        {
         "created_on": "2021-09-09",
         "latitud": "-34.6238858",
         "longitud": "-58.4127457",
         "provincia": "Capital Federal",
         "barrio": "BOEDO",
         "operation": "Venta",
         "property_type": "PH",
         "property_rooms": "2.0",
         "property_bedrooms": "1.0",
         "property_surface_total": "61.0",
         "property_surface_covered": "46.0",
         "property_price": "100000.0",
         "property_currency": "USD",
         "geometry": "POINT (-58.4127457 -34.6238858)",
         "_deepnote_index_column": "1"
        },
        {
         "created_on": "2021-09-09",
         "latitud": "-34.6255875",
         "longitud": "-58.4230558",
         "provincia": "Capital Federal",
         "barrio": "BOEDO",
         "operation": "Venta",
         "property_type": "PH",
         "property_rooms": "4.0",
         "property_bedrooms": "2.0",
         "property_surface_total": "104.0",
         "property_surface_covered": "54.0",
         "property_price": "185000.0",
         "property_currency": "USD",
         "geometry": "POINT (-58.4230558 -34.6255875)",
         "_deepnote_index_column": "2"
        },
        {
         "created_on": "2021-09-09",
         "latitud": "-34.629398",
         "longitud": "-58.425852",
         "provincia": "Capital Federal",
         "barrio": "BOEDO",
         "operation": "Venta",
         "property_type": "Departamento",
         "property_rooms": "2.0",
         "property_bedrooms": "1.0",
         "property_surface_total": "62.0",
         "property_surface_covered": "44.0",
         "property_price": "100000.0",
         "property_currency": "USD",
         "geometry": "POINT (-58.425852 -34.629398)",
         "_deepnote_index_column": "3"
        },
        {
         "created_on": "2021-09-09",
         "latitud": "-34.6265951",
         "longitud": "-58.4200194",
         "provincia": "Capital Federal",
         "barrio": "BOEDO",
         "operation": "Venta",
         "property_type": "PH",
         "property_rooms": "4.0",
         "property_bedrooms": "3.0",
         "property_surface_total": "111.0",
         "property_surface_covered": "101.0",
         "property_price": "110000.0",
         "property_currency": "USD",
         "geometry": "POINT (-58.4200194 -34.6265951)",
         "_deepnote_index_column": "4"
        }
       ]
      },
      "text/plain": "   created_on    latitud   longitud        provincia barrio operation  \\\n0  2021-09-09 -34.631621 -58.416825  Capital Federal  BOEDO     Venta   \n1  2021-09-09 -34.623886 -58.412746  Capital Federal  BOEDO     Venta   \n2  2021-09-09 -34.625588 -58.423056  Capital Federal  BOEDO     Venta   \n3  2021-09-09 -34.629398 -58.425852  Capital Federal  BOEDO     Venta   \n4  2021-09-09 -34.626595 -58.420019  Capital Federal  BOEDO     Venta   \n\n  property_type  property_rooms  property_bedrooms  property_surface_total  \\\n0            PH             4.0                2.0              109.394701   \n1            PH             2.0                1.0               61.000000   \n2            PH             4.0                2.0              104.000000   \n3  Departamento             2.0                1.0               62.000000   \n4            PH             4.0                3.0              111.000000   \n\n   property_surface_covered  property_price property_currency  \\\n0                      73.0        250000.0               USD   \n1                      46.0        100000.0               USD   \n2                      54.0        185000.0               USD   \n3                      44.0        100000.0               USD   \n4                     101.0        110000.0               USD   \n\n                          geometry  \n0   POINT (-58.416825 -34.6316207)  \n1  POINT (-58.4127457 -34.6238858)  \n2  POINT (-58.4230558 -34.6255875)  \n3    POINT (-58.425852 -34.629398)  \n4  POINT (-58.4200194 -34.6265951)  ",
      "text/html": "<div>\n<style scoped>\n    .dataframe tbody tr th:only-of-type {\n        vertical-align: middle;\n    }\n\n    .dataframe tbody tr th {\n        vertical-align: top;\n    }\n\n    .dataframe thead th {\n        text-align: right;\n    }\n</style>\n<table border=\"1\" class=\"dataframe\">\n  <thead>\n    <tr style=\"text-align: right;\">\n      <th></th>\n      <th>created_on</th>\n      <th>latitud</th>\n      <th>longitud</th>\n      <th>provincia</th>\n      <th>barrio</th>\n      <th>operation</th>\n      <th>property_type</th>\n      <th>property_rooms</th>\n      <th>property_bedrooms</th>\n      <th>property_surface_total</th>\n      <th>property_surface_covered</th>\n      <th>property_price</th>\n      <th>property_currency</th>\n      <th>geometry</th>\n    </tr>\n  </thead>\n  <tbody>\n    <tr>\n      <th>0</th>\n      <td>2021-09-09</td>\n      <td>-34.631621</td>\n      <td>-58.416825</td>\n      <td>Capital Federal</td>\n      <td>BOEDO</td>\n      <td>Venta</td>\n      <td>PH</td>\n      <td>4.0</td>\n      <td>2.0</td>\n      <td>109.394701</td>\n      <td>73.0</td>\n      <td>250000.0</td>\n      <td>USD</td>\n      <td>POINT (-58.416825 -34.6316207)</td>\n    </tr>\n    <tr>\n      <th>1</th>\n      <td>2021-09-09</td>\n      <td>-34.623886</td>\n      <td>-58.412746</td>\n      <td>Capital Federal</td>\n      <td>BOEDO</td>\n      <td>Venta</td>\n      <td>PH</td>\n      <td>2.0</td>\n      <td>1.0</td>\n      <td>61.000000</td>\n      <td>46.0</td>\n      <td>100000.0</td>\n      <td>USD</td>\n      <td>POINT (-58.4127457 -34.6238858)</td>\n    </tr>\n    <tr>\n      <th>2</th>\n      <td>2021-09-09</td>\n      <td>-34.625588</td>\n      <td>-58.423056</td>\n      <td>Capital Federal</td>\n      <td>BOEDO</td>\n      <td>Venta</td>\n      <td>PH</td>\n      <td>4.0</td>\n      <td>2.0</td>\n      <td>104.000000</td>\n      <td>54.0</td>\n      <td>185000.0</td>\n      <td>USD</td>\n      <td>POINT (-58.4230558 -34.6255875)</td>\n    </tr>\n    <tr>\n      <th>3</th>\n      <td>2021-09-09</td>\n      <td>-34.629398</td>\n      <td>-58.425852</td>\n      <td>Capital Federal</td>\n      <td>BOEDO</td>\n      <td>Venta</td>\n      <td>Departamento</td>\n      <td>2.0</td>\n      <td>1.0</td>\n      <td>62.000000</td>\n      <td>44.0</td>\n      <td>100000.0</td>\n      <td>USD</td>\n      <td>POINT (-58.425852 -34.629398)</td>\n    </tr>\n    <tr>\n      <th>4</th>\n      <td>2021-09-09</td>\n      <td>-34.626595</td>\n      <td>-58.420019</td>\n      <td>Capital Federal</td>\n      <td>BOEDO</td>\n      <td>Venta</td>\n      <td>PH</td>\n      <td>4.0</td>\n      <td>3.0</td>\n      <td>111.000000</td>\n      <td>101.0</td>\n      <td>110000.0</td>\n      <td>USD</td>\n      <td>POINT (-58.4200194 -34.6265951)</td>\n    </tr>\n  </tbody>\n</table>\n</div>"
     },
     "metadata": {}
    }
   ],
   "execution_count": 2
  },
  {
   "cell_type": "markdown",
   "source": "#### Construcción del target\n\nPara esta sección crearemos una nueva variable tipo_precio que tendrá tres categorías:alto, medio, bajo. Esta nueva variable será nuestra clase en el problema de clasificación. Para determinar cuándo el tipo_precio de una propiedad es alto, medio o bajo se deberá analizar el precio por metro cuadrado (pxm2).\n\nSe divide a la variable en un número específico de bins\nLos criterios de agrupamiento pueden ser por ejemplo:\n● Igual-Frecuencia: La misma cantidad de observaciones en un bin\n● Igual-Ancho: Definimos rangos o intervalos de clases para cada bin\n● Cuantiles: Separar en intervalos utilizando Mediana, Cuantiles, Percentiles.",
   "metadata": {
    "cell_id": "3c4c162640324b40bc44cf0e072107c8",
    "tags": [],
    "deepnote_cell_type": "markdown",
    "deepnote_cell_height": 236.796875
   }
  },
  {
   "cell_type": "markdown",
   "source": "Creamos una nueva columna precio por metro cuadrado en el dataframe.",
   "metadata": {
    "is_collapsed": false,
    "cell_id": "1d9ff5932fb344c5a4ac27086c13e173",
    "tags": [],
    "formattedRanges": [],
    "deepnote_cell_type": "text-cell-p"
   }
  },
  {
   "cell_type": "code",
   "source": "ds_properati[\"precio_metro_cuadrado\"] = ds_properati[\"property_price\"] / ds_properati[\"property_surface_total\"]\nds_properati.head()",
   "metadata": {
    "cell_id": "71728a5726fe47ffaee8c6a9ae148be7",
    "tags": [],
    "deepnote_to_be_reexecuted": false,
    "source_hash": "2eb6cd54",
    "execution_start": 1665719907752,
    "execution_millis": 61,
    "deepnote_cell_type": "code",
    "deepnote_cell_height": 422.390625
   },
   "outputs": [
    {
     "output_type": "execute_result",
     "execution_count": 3,
     "data": {
      "application/vnd.deepnote.dataframe.v3+json": {
       "column_count": 15,
       "row_count": 5,
       "columns": [
        {
         "name": "created_on",
         "dtype": "object",
         "stats": {
          "unique_count": 1,
          "nan_count": 0,
          "categories": [
           {
            "name": "2021-09-09",
            "count": 5
           }
          ]
         }
        },
        {
         "name": "latitud",
         "dtype": "float64",
         "stats": {
          "unique_count": 5,
          "nan_count": 0,
          "min": "-34.6316207",
          "max": "-34.6238858",
          "histogram": [
           {
            "bin_start": -34.6316207,
            "bin_end": -34.63084721,
            "count": 1
           },
           {
            "bin_start": -34.63084721,
            "bin_end": -34.63007372,
            "count": 0
           },
           {
            "bin_start": -34.63007372,
            "bin_end": -34.62930023,
            "count": 1
           },
           {
            "bin_start": -34.62930023,
            "bin_end": -34.62852674,
            "count": 0
           },
           {
            "bin_start": -34.62852674,
            "bin_end": -34.62775325,
            "count": 0
           },
           {
            "bin_start": -34.62775325,
            "bin_end": -34.62697976,
            "count": 0
           },
           {
            "bin_start": -34.62697976,
            "bin_end": -34.62620627,
            "count": 1
           },
           {
            "bin_start": -34.62620627,
            "bin_end": -34.62543278,
            "count": 1
           },
           {
            "bin_start": -34.62543278,
            "bin_end": -34.62465929,
            "count": 0
           },
           {
            "bin_start": -34.62465929,
            "bin_end": -34.6238858,
            "count": 1
           }
          ]
         }
        },
        {
         "name": "longitud",
         "dtype": "float64",
         "stats": {
          "unique_count": 5,
          "nan_count": 0,
          "min": "-58.425852",
          "max": "-58.4127457",
          "histogram": [
           {
            "bin_start": -58.425852,
            "bin_end": -58.42454137,
            "count": 1
           },
           {
            "bin_start": -58.42454137,
            "bin_end": -58.42323074,
            "count": 0
           },
           {
            "bin_start": -58.42323074,
            "bin_end": -58.42192011,
            "count": 1
           },
           {
            "bin_start": -58.42192011,
            "bin_end": -58.42060948,
            "count": 0
           },
           {
            "bin_start": -58.42060948,
            "bin_end": -58.419298850000004,
            "count": 1
           },
           {
            "bin_start": -58.419298850000004,
            "bin_end": -58.41798822,
            "count": 0
           },
           {
            "bin_start": -58.41798822,
            "bin_end": -58.41667759,
            "count": 1
           },
           {
            "bin_start": -58.41667759,
            "bin_end": -58.41536696,
            "count": 0
           },
           {
            "bin_start": -58.41536696,
            "bin_end": -58.41405633,
            "count": 0
           },
           {
            "bin_start": -58.41405633,
            "bin_end": -58.4127457,
            "count": 1
           }
          ]
         }
        },
        {
         "name": "provincia",
         "dtype": "object",
         "stats": {
          "unique_count": 1,
          "nan_count": 0,
          "categories": [
           {
            "name": "Capital Federal",
            "count": 5
           }
          ]
         }
        },
        {
         "name": "barrio",
         "dtype": "object",
         "stats": {
          "unique_count": 1,
          "nan_count": 0,
          "categories": [
           {
            "name": "BOEDO",
            "count": 5
           }
          ]
         }
        },
        {
         "name": "operation",
         "dtype": "object",
         "stats": {
          "unique_count": 1,
          "nan_count": 0,
          "categories": [
           {
            "name": "Venta",
            "count": 5
           }
          ]
         }
        },
        {
         "name": "property_type",
         "dtype": "object",
         "stats": {
          "unique_count": 2,
          "nan_count": 0,
          "categories": [
           {
            "name": "PH",
            "count": 4
           },
           {
            "name": "Departamento",
            "count": 1
           }
          ]
         }
        },
        {
         "name": "property_rooms",
         "dtype": "float64",
         "stats": {
          "unique_count": 2,
          "nan_count": 0,
          "min": "2.0",
          "max": "4.0",
          "histogram": [
           {
            "bin_start": 2,
            "bin_end": 2.2,
            "count": 2
           },
           {
            "bin_start": 2.2,
            "bin_end": 2.4,
            "count": 0
           },
           {
            "bin_start": 2.4,
            "bin_end": 2.6,
            "count": 0
           },
           {
            "bin_start": 2.6,
            "bin_end": 2.8,
            "count": 0
           },
           {
            "bin_start": 2.8,
            "bin_end": 3,
            "count": 0
           },
           {
            "bin_start": 3,
            "bin_end": 3.2,
            "count": 0
           },
           {
            "bin_start": 3.2,
            "bin_end": 3.4000000000000004,
            "count": 0
           },
           {
            "bin_start": 3.4000000000000004,
            "bin_end": 3.6,
            "count": 0
           },
           {
            "bin_start": 3.6,
            "bin_end": 3.8,
            "count": 0
           },
           {
            "bin_start": 3.8,
            "bin_end": 4,
            "count": 3
           }
          ]
         }
        },
        {
         "name": "property_bedrooms",
         "dtype": "float64",
         "stats": {
          "unique_count": 3,
          "nan_count": 0,
          "min": "1.0",
          "max": "3.0",
          "histogram": [
           {
            "bin_start": 1,
            "bin_end": 1.2,
            "count": 2
           },
           {
            "bin_start": 1.2,
            "bin_end": 1.4,
            "count": 0
           },
           {
            "bin_start": 1.4,
            "bin_end": 1.6,
            "count": 0
           },
           {
            "bin_start": 1.6,
            "bin_end": 1.8,
            "count": 0
           },
           {
            "bin_start": 1.8,
            "bin_end": 2,
            "count": 0
           },
           {
            "bin_start": 2,
            "bin_end": 2.2,
            "count": 2
           },
           {
            "bin_start": 2.2,
            "bin_end": 2.4000000000000004,
            "count": 0
           },
           {
            "bin_start": 2.4000000000000004,
            "bin_end": 2.6,
            "count": 0
           },
           {
            "bin_start": 2.6,
            "bin_end": 2.8,
            "count": 0
           },
           {
            "bin_start": 2.8,
            "bin_end": 3,
            "count": 1
           }
          ]
         }
        },
        {
         "name": "property_surface_total",
         "dtype": "float64",
         "stats": {
          "unique_count": 5,
          "nan_count": 0,
          "min": "61.0",
          "max": "111.0",
          "histogram": [
           {
            "bin_start": 61,
            "bin_end": 66,
            "count": 2
           },
           {
            "bin_start": 66,
            "bin_end": 71,
            "count": 0
           },
           {
            "bin_start": 71,
            "bin_end": 76,
            "count": 0
           },
           {
            "bin_start": 76,
            "bin_end": 81,
            "count": 0
           },
           {
            "bin_start": 81,
            "bin_end": 86,
            "count": 0
           },
           {
            "bin_start": 86,
            "bin_end": 91,
            "count": 0
           },
           {
            "bin_start": 91,
            "bin_end": 96,
            "count": 0
           },
           {
            "bin_start": 96,
            "bin_end": 101,
            "count": 0
           },
           {
            "bin_start": 101,
            "bin_end": 106,
            "count": 1
           },
           {
            "bin_start": 106,
            "bin_end": 111,
            "count": 2
           }
          ]
         }
        },
        {
         "name": "property_surface_covered",
         "dtype": "float64",
         "stats": {
          "unique_count": 5,
          "nan_count": 0,
          "min": "44.0",
          "max": "101.0",
          "histogram": [
           {
            "bin_start": 44,
            "bin_end": 49.7,
            "count": 2
           },
           {
            "bin_start": 49.7,
            "bin_end": 55.4,
            "count": 1
           },
           {
            "bin_start": 55.4,
            "bin_end": 61.1,
            "count": 0
           },
           {
            "bin_start": 61.1,
            "bin_end": 66.8,
            "count": 0
           },
           {
            "bin_start": 66.8,
            "bin_end": 72.5,
            "count": 0
           },
           {
            "bin_start": 72.5,
            "bin_end": 78.2,
            "count": 1
           },
           {
            "bin_start": 78.2,
            "bin_end": 83.9,
            "count": 0
           },
           {
            "bin_start": 83.9,
            "bin_end": 89.6,
            "count": 0
           },
           {
            "bin_start": 89.6,
            "bin_end": 95.30000000000001,
            "count": 0
           },
           {
            "bin_start": 95.30000000000001,
            "bin_end": 101,
            "count": 1
           }
          ]
         }
        },
        {
         "name": "property_price",
         "dtype": "float64",
         "stats": {
          "unique_count": 4,
          "nan_count": 0,
          "min": "100000.0",
          "max": "250000.0",
          "histogram": [
           {
            "bin_start": 100000,
            "bin_end": 115000,
            "count": 3
           },
           {
            "bin_start": 115000,
            "bin_end": 130000,
            "count": 0
           },
           {
            "bin_start": 130000,
            "bin_end": 145000,
            "count": 0
           },
           {
            "bin_start": 145000,
            "bin_end": 160000,
            "count": 0
           },
           {
            "bin_start": 160000,
            "bin_end": 175000,
            "count": 0
           },
           {
            "bin_start": 175000,
            "bin_end": 190000,
            "count": 1
           },
           {
            "bin_start": 190000,
            "bin_end": 205000,
            "count": 0
           },
           {
            "bin_start": 205000,
            "bin_end": 220000,
            "count": 0
           },
           {
            "bin_start": 220000,
            "bin_end": 235000,
            "count": 0
           },
           {
            "bin_start": 235000,
            "bin_end": 250000,
            "count": 1
           }
          ]
         }
        },
        {
         "name": "property_currency",
         "dtype": "object",
         "stats": {
          "unique_count": 1,
          "nan_count": 0,
          "categories": [
           {
            "name": "USD",
            "count": 5
           }
          ]
         }
        },
        {
         "name": "geometry",
         "dtype": "object",
         "stats": {
          "unique_count": 5,
          "nan_count": 0,
          "categories": [
           {
            "name": "POINT (-58.416825 -34.6316207)",
            "count": 1
           },
           {
            "name": "POINT (-58.4127457 -34.6238858)",
            "count": 1
           },
           {
            "name": "3 others",
            "count": 3
           }
          ]
         }
        },
        {
         "name": "precio_metro_cuadrado",
         "dtype": "float64",
         "stats": {
          "unique_count": 5,
          "nan_count": 0,
          "min": "990.990990990991",
          "max": "2285.3026500238298",
          "histogram": [
           {
            "bin_start": 990.990990990991,
            "bin_end": 1120.4221568942748,
            "count": 1
           },
           {
            "bin_start": 1120.4221568942748,
            "bin_end": 1249.8533227975588,
            "count": 0
           },
           {
            "bin_start": 1249.8533227975588,
            "bin_end": 1379.2844887008428,
            "count": 0
           },
           {
            "bin_start": 1379.2844887008428,
            "bin_end": 1508.7156546041265,
            "count": 0
           },
           {
            "bin_start": 1508.7156546041265,
            "bin_end": 1638.1468205074102,
            "count": 1
           },
           {
            "bin_start": 1638.1468205074102,
            "bin_end": 1767.5779864106944,
            "count": 1
           },
           {
            "bin_start": 1767.5779864106944,
            "bin_end": 1897.0091523139781,
            "count": 1
           },
           {
            "bin_start": 1897.0091523139781,
            "bin_end": 2026.4403182172618,
            "count": 0
           },
           {
            "bin_start": 2026.4403182172618,
            "bin_end": 2155.871484120546,
            "count": 0
           },
           {
            "bin_start": 2155.871484120546,
            "bin_end": 2285.3026500238298,
            "count": 1
           }
          ]
         }
        },
        {
         "name": "_deepnote_index_column",
         "dtype": "int64"
        }
       ],
       "rows": [
        {
         "created_on": "2021-09-09",
         "latitud": "-34.6316207",
         "longitud": "-58.416825",
         "provincia": "Capital Federal",
         "barrio": "BOEDO",
         "operation": "Venta",
         "property_type": "PH",
         "property_rooms": "4.0",
         "property_bedrooms": "2.0",
         "property_surface_total": "109.39470095892688",
         "property_surface_covered": "73.0",
         "property_price": "250000.0",
         "property_currency": "USD",
         "geometry": "POINT (-58.416825 -34.6316207)",
         "precio_metro_cuadrado": "2285.3026500238298",
         "_deepnote_index_column": "0"
        },
        {
         "created_on": "2021-09-09",
         "latitud": "-34.6238858",
         "longitud": "-58.4127457",
         "provincia": "Capital Federal",
         "barrio": "BOEDO",
         "operation": "Venta",
         "property_type": "PH",
         "property_rooms": "2.0",
         "property_bedrooms": "1.0",
         "property_surface_total": "61.0",
         "property_surface_covered": "46.0",
         "property_price": "100000.0",
         "property_currency": "USD",
         "geometry": "POINT (-58.4127457 -34.6238858)",
         "precio_metro_cuadrado": "1639.344262295082",
         "_deepnote_index_column": "1"
        },
        {
         "created_on": "2021-09-09",
         "latitud": "-34.6255875",
         "longitud": "-58.4230558",
         "provincia": "Capital Federal",
         "barrio": "BOEDO",
         "operation": "Venta",
         "property_type": "PH",
         "property_rooms": "4.0",
         "property_bedrooms": "2.0",
         "property_surface_total": "104.0",
         "property_surface_covered": "54.0",
         "property_price": "185000.0",
         "property_currency": "USD",
         "geometry": "POINT (-58.4230558 -34.6255875)",
         "precio_metro_cuadrado": "1778.8461538461538",
         "_deepnote_index_column": "2"
        },
        {
         "created_on": "2021-09-09",
         "latitud": "-34.629398",
         "longitud": "-58.425852",
         "provincia": "Capital Federal",
         "barrio": "BOEDO",
         "operation": "Venta",
         "property_type": "Departamento",
         "property_rooms": "2.0",
         "property_bedrooms": "1.0",
         "property_surface_total": "62.0",
         "property_surface_covered": "44.0",
         "property_price": "100000.0",
         "property_currency": "USD",
         "geometry": "POINT (-58.425852 -34.629398)",
         "precio_metro_cuadrado": "1612.9032258064517",
         "_deepnote_index_column": "3"
        },
        {
         "created_on": "2021-09-09",
         "latitud": "-34.6265951",
         "longitud": "-58.4200194",
         "provincia": "Capital Federal",
         "barrio": "BOEDO",
         "operation": "Venta",
         "property_type": "PH",
         "property_rooms": "4.0",
         "property_bedrooms": "3.0",
         "property_surface_total": "111.0",
         "property_surface_covered": "101.0",
         "property_price": "110000.0",
         "property_currency": "USD",
         "geometry": "POINT (-58.4200194 -34.6265951)",
         "precio_metro_cuadrado": "990.990990990991",
         "_deepnote_index_column": "4"
        }
       ]
      },
      "text/plain": "   created_on    latitud   longitud        provincia barrio operation  \\\n0  2021-09-09 -34.631621 -58.416825  Capital Federal  BOEDO     Venta   \n1  2021-09-09 -34.623886 -58.412746  Capital Federal  BOEDO     Venta   \n2  2021-09-09 -34.625588 -58.423056  Capital Federal  BOEDO     Venta   \n3  2021-09-09 -34.629398 -58.425852  Capital Federal  BOEDO     Venta   \n4  2021-09-09 -34.626595 -58.420019  Capital Federal  BOEDO     Venta   \n\n  property_type  property_rooms  property_bedrooms  property_surface_total  \\\n0            PH             4.0                2.0              109.394701   \n1            PH             2.0                1.0               61.000000   \n2            PH             4.0                2.0              104.000000   \n3  Departamento             2.0                1.0               62.000000   \n4            PH             4.0                3.0              111.000000   \n\n   property_surface_covered  property_price property_currency  \\\n0                      73.0        250000.0               USD   \n1                      46.0        100000.0               USD   \n2                      54.0        185000.0               USD   \n3                      44.0        100000.0               USD   \n4                     101.0        110000.0               USD   \n\n                          geometry  precio_metro_cuadrado  \n0   POINT (-58.416825 -34.6316207)            2285.302650  \n1  POINT (-58.4127457 -34.6238858)            1639.344262  \n2  POINT (-58.4230558 -34.6255875)            1778.846154  \n3    POINT (-58.425852 -34.629398)            1612.903226  \n4  POINT (-58.4200194 -34.6265951)             990.990991  ",
      "text/html": "<div>\n<style scoped>\n    .dataframe tbody tr th:only-of-type {\n        vertical-align: middle;\n    }\n\n    .dataframe tbody tr th {\n        vertical-align: top;\n    }\n\n    .dataframe thead th {\n        text-align: right;\n    }\n</style>\n<table border=\"1\" class=\"dataframe\">\n  <thead>\n    <tr style=\"text-align: right;\">\n      <th></th>\n      <th>created_on</th>\n      <th>latitud</th>\n      <th>longitud</th>\n      <th>provincia</th>\n      <th>barrio</th>\n      <th>operation</th>\n      <th>property_type</th>\n      <th>property_rooms</th>\n      <th>property_bedrooms</th>\n      <th>property_surface_total</th>\n      <th>property_surface_covered</th>\n      <th>property_price</th>\n      <th>property_currency</th>\n      <th>geometry</th>\n      <th>precio_metro_cuadrado</th>\n    </tr>\n  </thead>\n  <tbody>\n    <tr>\n      <th>0</th>\n      <td>2021-09-09</td>\n      <td>-34.631621</td>\n      <td>-58.416825</td>\n      <td>Capital Federal</td>\n      <td>BOEDO</td>\n      <td>Venta</td>\n      <td>PH</td>\n      <td>4.0</td>\n      <td>2.0</td>\n      <td>109.394701</td>\n      <td>73.0</td>\n      <td>250000.0</td>\n      <td>USD</td>\n      <td>POINT (-58.416825 -34.6316207)</td>\n      <td>2285.302650</td>\n    </tr>\n    <tr>\n      <th>1</th>\n      <td>2021-09-09</td>\n      <td>-34.623886</td>\n      <td>-58.412746</td>\n      <td>Capital Federal</td>\n      <td>BOEDO</td>\n      <td>Venta</td>\n      <td>PH</td>\n      <td>2.0</td>\n      <td>1.0</td>\n      <td>61.000000</td>\n      <td>46.0</td>\n      <td>100000.0</td>\n      <td>USD</td>\n      <td>POINT (-58.4127457 -34.6238858)</td>\n      <td>1639.344262</td>\n    </tr>\n    <tr>\n      <th>2</th>\n      <td>2021-09-09</td>\n      <td>-34.625588</td>\n      <td>-58.423056</td>\n      <td>Capital Federal</td>\n      <td>BOEDO</td>\n      <td>Venta</td>\n      <td>PH</td>\n      <td>4.0</td>\n      <td>2.0</td>\n      <td>104.000000</td>\n      <td>54.0</td>\n      <td>185000.0</td>\n      <td>USD</td>\n      <td>POINT (-58.4230558 -34.6255875)</td>\n      <td>1778.846154</td>\n    </tr>\n    <tr>\n      <th>3</th>\n      <td>2021-09-09</td>\n      <td>-34.629398</td>\n      <td>-58.425852</td>\n      <td>Capital Federal</td>\n      <td>BOEDO</td>\n      <td>Venta</td>\n      <td>Departamento</td>\n      <td>2.0</td>\n      <td>1.0</td>\n      <td>62.000000</td>\n      <td>44.0</td>\n      <td>100000.0</td>\n      <td>USD</td>\n      <td>POINT (-58.425852 -34.629398)</td>\n      <td>1612.903226</td>\n    </tr>\n    <tr>\n      <th>4</th>\n      <td>2021-09-09</td>\n      <td>-34.626595</td>\n      <td>-58.420019</td>\n      <td>Capital Federal</td>\n      <td>BOEDO</td>\n      <td>Venta</td>\n      <td>PH</td>\n      <td>4.0</td>\n      <td>3.0</td>\n      <td>111.000000</td>\n      <td>101.0</td>\n      <td>110000.0</td>\n      <td>USD</td>\n      <td>POINT (-58.4200194 -34.6265951)</td>\n      <td>990.990991</td>\n    </tr>\n  </tbody>\n</table>\n</div>"
     },
     "metadata": {}
    }
   ],
   "execution_count": 3
  },
  {
   "cell_type": "markdown",
   "source": "Ahora la discretizamos en 3 intervalos de igual cantidad de observaciones.",
   "metadata": {
    "is_collapsed": false,
    "cell_id": "25fde52a51ab47759c1f2a9421d39b92",
    "tags": [],
    "formattedRanges": [],
    "deepnote_cell_type": "text-cell-p"
   }
  },
  {
   "cell_type": "code",
   "source": "ds_discreto = ds_properati.loc[:,\"precio_metro_cuadrado\"]",
   "metadata": {
    "cell_id": "f7264c4f9d274804b47eb8efce63ab23",
    "tags": [],
    "deepnote_to_be_reexecuted": false,
    "source_hash": "15ea831",
    "execution_start": 1665719907855,
    "execution_millis": 0,
    "deepnote_cell_type": "code",
    "deepnote_cell_height": 76
   },
   "outputs": [],
   "execution_count": 4
  },
  {
   "cell_type": "code",
   "source": "labels=[\"bajo\",\"medio\",\"alto\"]\ndef dist_equitativa(dataframe):\n    dataframe[\"pxm2_igual_frec\"] = pd.qcut(dataframe[\"precio_metro_cuadrado\"],q=3, labels=labels)\n\n    ds_bygroup = dataframe.groupby(['pxm2_igual_frec']).count()  \n\n    eje_x = ds_bygroup.index.tolist()  \n    eje_y = ds_bygroup['precio_metro_cuadrado'].tolist()  \n\n    sns_bar_plot=sns.barplot(x=eje_x, y=eje_y, data=ds_bygroup ,alpha=0.5).set(title=\"División del precio/metro cuadrado por igual frecuencia\",ylabel='Frecuencia',xlabel='pxm2')\n    plt.show()\ndataframe_copy = ds_properati.copy()\ndist_equitativa(dataframe_copy)",
   "metadata": {
    "cell_id": "d78affc360f64cdeb97b5f444a1c30d5",
    "tags": [],
    "deepnote_to_be_reexecuted": false,
    "source_hash": "e35f3e68",
    "execution_start": 1665720760520,
    "execution_millis": 422,
    "deepnote_cell_type": "code",
    "deepnote_cell_height": 769,
    "deepnote_output_heights": [
     456
    ]
   },
   "outputs": [
    {
     "data": {
      "text/plain": "<Figure size 640x480 with 1 Axes>",
      "image/png": "[encoded data removed]"
     },
     "metadata": {
      "image/png": {
       "width": 589,
       "height": 455
      }
     },
     "output_type": "display_data"
    }
   ],
   "execution_count": 22
  },
  {
   "cell_type": "markdown",
   "source": "Ahora dividimos en 3 intervalos, el primero con el 25% de las observaciones,\nel siguiente con el 50% y el último con el 25% de las observaciones restantes.\n",
   "metadata": {
    "is_collapsed": false,
    "cell_id": "c44c5512f7234cef8d0f5ff16a50d69b",
    "tags": [],
    "formattedRanges": [],
    "deepnote_cell_type": "text-cell-p"
   }
  },
  {
   "cell_type": "code",
   "source": "labels=[\"bajo\",\"medio\",\"alto\"]\ndataframe = ds_properati.copy()\n\ndef dist_25_50_25(dataframe, description):\n    dataframe[\"pxm2_25_50_25\"]=pd.qcut(dataframe[\"precio_metro_cuadrado\"],q=[0,0.25,0.75,1], labels=labels)\n\n    #Gráfico de barras con Seaborn\n    ds_bygroup=dataframe.groupby(['pxm2_25_50_25']).count()  #Calculo la frecuencia de cada categoría\n\n    eje_x = ds_bygroup.index.tolist()   ## Declaramos valores para el eje x\n    eje_y = ds_bygroup['precio_metro_cuadrado'].tolist()  ## Declaramos valores para el eje y\n\n    sns_bar_plot=sns.barplot(x=eje_x, y=eje_y, data=ds_agrupado_duracion_recorrido ,alpha=0.5).set(title=description,ylabel='Frecuencia',xlabel='pxm2')\n    plt.show()\n    \ndataframe = ds_properati.copy()\ndist_25_50_25(dataframe, \"Precio/metro cuadrado por cuartiles\")",
   "metadata": {
    "cell_id": "a281626be31c4e12a0c76d6c9b1d030b",
    "tags": [],
    "deepnote_to_be_reexecuted": false,
    "source_hash": "40bad9d7",
    "execution_start": 1665720868390,
    "execution_millis": 345,
    "deepnote_cell_type": "code",
    "deepnote_cell_height": 841,
    "deepnote_output_heights": [
     456
    ]
   },
   "outputs": [
    {
     "data": {
      "text/plain": "<Figure size 640x480 with 1 Axes>",
      "image/png": "[encoded data removed]"
     },
     "metadata": {
      "image/png": {
       "width": 589,
       "height": 455
      }
     },
     "output_type": "display_data"
    }
   ],
   "execution_count": null
  },
  {
   "cell_type": "markdown",
   "source": "Ahora vamos a filtrar por tipo de propiedad y luego dividir como en el punto anterior.",
   "metadata": {
    "cell_id": "02bf8e0b575048a6b69cf789b57a6713",
    "tags": [],
    "deepnote_cell_type": "markdown",
    "deepnote_cell_height": 52.390625
   }
  },
  {
   "cell_type": "markdown",
   "source": "Primero con la propiedad de Departamento",
   "metadata": {
    "is_collapsed": false,
    "cell_id": "9a81f18c2749482691a2a9254a107552",
    "tags": [],
    "formattedRanges": [],
    "deepnote_cell_type": "text-cell-p"
   }
  },
  {
   "cell_type": "markdown",
   "source": "Mostramos la distribución equitativa del tipo departamento",
   "metadata": {
    "is_collapsed": false,
    "cell_id": "64888016-9379-4200-a1c6-72eaf65ce588",
    "tags": [],
    "formattedRanges": [],
    "deepnote_cell_type": "text-cell-p"
   }
  },
  {
   "cell_type": "code",
   "source": "ds_properati_depto = ds_properati.loc[ds_properati[\"property_type\"]==\"Departamento\"]\ndist_equitativa(ds_properati_depto)",
   "metadata": {
    "cell_id": "c1f1aceab1ba47e893e5e621ccf8fd40",
    "tags": [],
    "deepnote_to_be_reexecuted": false,
    "source_hash": "80860848",
    "execution_start": 1665720821131,
    "execution_millis": 514,
    "deepnote_cell_type": "code",
    "deepnote_cell_height": 707.1875,
    "deepnote_output_heights": [
     null,
     456
    ]
   },
   "outputs": [
    {
     "name": "stderr",
     "text": "/tmp/ipykernel_1041/2287054347.py:3: SettingWithCopyWarning: \nA value is trying to be set on a copy of a slice from a DataFrame.\nTry using .loc[row_indexer,col_indexer] = value instead\n\nSee the caveats in the documentation: https://pandas.pydata.org/pandas-docs/stable/user_guide/indexing.html#returning-a-view-versus-a-copy\n  dataframe[\"pxm2_igual_frec\"] = pd.qcut(dataframe[\"precio_metro_cuadrado\"],q=3, labels=labels)\n",
     "output_type": "stream"
    },
    {
     "data": {
      "text/plain": "<Figure size 640x480 with 1 Axes>",
      "image/png": "[encoded data removed]"
     },
     "metadata": {
      "image/png": {
       "width": 589,
       "height": 455
      }
     },
     "output_type": "display_data"
    }
   ],
   "execution_count": 23
  },
  {
   "cell_type": "markdown",
   "source": "Mostramos la distribución 25_50_25 del tipo departamento",
   "metadata": {
    "is_collapsed": false,
    "cell_id": "d502d5f7b42948d78f0a1df7fa1c71b9",
    "tags": [],
    "formattedRanges": [],
    "deepnote_cell_type": "text-cell-p"
   }
  },
  {
   "cell_type": "code",
   "source": "ds_properati_depto = ds_properati.loc[ds_properati[\"property_type\"]==\"Departamento\"]\ndist_25_50_25(ds_properati_depto,\"Precio/metro cuadrado de departamentos por cuartiles\")",
   "metadata": {
    "cell_id": "2eae04336c89497f937f31a6a593df49",
    "tags": [],
    "deepnote_to_be_reexecuted": false,
    "source_hash": "45d0a18e",
    "execution_start": 1665720875539,
    "execution_millis": 1123,
    "deepnote_cell_type": "code",
    "deepnote_cell_height": 707.1875,
    "deepnote_output_heights": [
     null,
     456
    ]
   },
   "outputs": [
    {
     "name": "stderr",
     "text": "/tmp/ipykernel_1041/1455063776.py:4: SettingWithCopyWarning: \nA value is trying to be set on a copy of a slice from a DataFrame.\nTry using .loc[row_indexer,col_indexer] = value instead\n\nSee the caveats in the documentation: https://pandas.pydata.org/pandas-docs/stable/user_guide/indexing.html#returning-a-view-versus-a-copy\n  dataframe[\"pxm2_25_50_25\"]=pd.qcut(dataframe[\"precio_metro_cuadrado\"],q=[0,0.25,0.75,1], labels=labels)\n",
     "output_type": "stream"
    },
    {
     "data": {
      "text/plain": "<Figure size 640x480 with 1 Axes>",
      "image/png": "[encoded data removed]"
     },
     "metadata": {
      "image/png": {
       "width": 589,
       "height": 455
      }
     },
     "output_type": "display_data"
    }
   ],
   "execution_count": 26
  },
  {
   "cell_type": "markdown",
   "source": "Procedemos a mostrar la distribucion de precio por metro cuadrado",
   "metadata": {
    "is_collapsed": false,
    "cell_id": "d65d84096a3143ba9890fada8b682e96",
    "tags": [],
    "formattedRanges": [],
    "deepnote_cell_type": "text-cell-p"
   }
  },
  {
   "cell_type": "code",
   "source": "ds_properati_casa = ds_properati.loc[ds_properati[\"property_type\"]==\"Casa\"]\ndist_25_50_25(ds_properati_casa, \"Precio/metro cuadrado de casas por cuartiles\")",
   "metadata": {
    "cell_id": "5c803d1ffb874433bd0d912509e8e897",
    "tags": [],
    "deepnote_to_be_reexecuted": false,
    "source_hash": "fb48607d",
    "execution_start": 1665720881608,
    "execution_millis": 1124,
    "deepnote_cell_type": "code",
    "deepnote_cell_height": 707.1875,
    "deepnote_output_heights": [
     231.390625,
     456
    ]
   },
   "outputs": [
    {
     "name": "stderr",
     "text": "/tmp/ipykernel_1041/1455063776.py:4: SettingWithCopyWarning: \nA value is trying to be set on a copy of a slice from a DataFrame.\nTry using .loc[row_indexer,col_indexer] = value instead\n\nSee the caveats in the documentation: https://pandas.pydata.org/pandas-docs/stable/user_guide/indexing.html#returning-a-view-versus-a-copy\n  dataframe[\"pxm2_25_50_25\"]=pd.qcut(dataframe[\"precio_metro_cuadrado\"],q=[0,0.25,0.75,1], labels=labels)\n",
     "output_type": "stream"
    },
    {
     "data": {
      "text/plain": "<Figure size 640x480 with 1 Axes>",
      "image/png": "[encoded data removed]"
     },
     "metadata": {
      "image/png": {
       "width": 580,
       "height": 455
      }
     },
     "output_type": "display_data"
    }
   ],
   "execution_count": 27
  },
  {
   "cell_type": "code",
   "source": "ds_properati_ph = ds_properati.loc[ds_properati[\"property_type\"]==\"PH\"]\ndist_25_50_25(ds_properati_ph, \"Precio/metro cuadrado de phs por cuartiles\")",
   "metadata": {
    "cell_id": "ad4b29b4df5e43c29d1b7d3d1d12cc6f",
    "tags": [],
    "deepnote_to_be_reexecuted": false,
    "source_hash": "94e09c11",
    "execution_start": 1665720886135,
    "execution_millis": 321,
    "deepnote_cell_type": "code",
    "deepnote_cell_height": 707.1875,
    "deepnote_output_heights": [
     null,
     456
    ]
   },
   "outputs": [
    {
     "name": "stderr",
     "text": "/tmp/ipykernel_1041/1455063776.py:4: SettingWithCopyWarning: \nA value is trying to be set on a copy of a slice from a DataFrame.\nTry using .loc[row_indexer,col_indexer] = value instead\n\nSee the caveats in the documentation: https://pandas.pydata.org/pandas-docs/stable/user_guide/indexing.html#returning-a-view-versus-a-copy\n  dataframe[\"pxm2_25_50_25\"]=pd.qcut(dataframe[\"precio_metro_cuadrado\"],q=[0,0.25,0.75,1], labels=labels)\n",
     "output_type": "stream"
    },
    {
     "data": {
      "text/plain": "<Figure size 640x480 with 1 Axes>",
      "image/png": "[encoded data removed]"
     },
     "metadata": {
      "image/png": {
       "width": 580,
       "height": 455
      }
     },
     "output_type": "display_data"
    }
   ],
   "execution_count": 28
  },
  {
   "cell_type": "markdown",
   "source": "<a style='text-decoration:none;line-height:16px;display:flex;color:#5B5B62;padding:10px;justify-content:end;' href='https://deepnote.com?utm_source=created-in-deepnote-cell&projectId=fcb02109-3268-4805-81b4-1fba96795907' target=\"_blank\">\n<img alt='Created in deepnote.com' style='display:inline;max-height:16px;margin:0px;margin-right:7.5px;' src='data:image/svg+xml;base64,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' > </img>\nCreated in <span style='font-weight:600;margin-left:4px;'>Deepnote</span></a>",
   "metadata": {
    "tags": [],
    "created_in_deepnote_cell": true,
    "deepnote_cell_type": "markdown"
   }
  }
 ],
 "nbformat": 4,
 "nbformat_minor": 2,
 "metadata": {
  "orig_nbformat": 2,
  "deepnote": {},
  "deepnote_notebook_id": "b2e462c8-6a65-461f-903b-694e73352b2c",
  "deepnote_execution_queue": []
 }
}