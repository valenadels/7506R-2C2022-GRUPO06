{
 "cells": [
  {
   "cell_type": "markdown",
   "source": "# Regresion",
   "metadata": {
    "cell_id": "3f2b3555-9c84-47b2-8197-4f2f69cc462f",
    "deepnote_cell_type": "markdown",
    "deepnote_cell_height": 82
   }
  },
  {
   "cell_type": "markdown",
   "source": "Importamos librerias a utilizar",
   "metadata": {
    "cell_id": "00001-3c2b3ee2-7d42-4960-a498-b22e965acabb",
    "deepnote_cell_type": "markdown",
    "deepnote_cell_height": 52.390625
   }
  },
  {
   "cell_type": "code",
   "metadata": {
    "cell_id": "00002-b724c4e4-fe39-4770-851e-c567c96886e8",
    "deepnote_to_be_reexecuted": false,
    "source_hash": "f3365555",
    "execution_start": 1667173156269,
    "execution_millis": 3110,
    "deepnote_cell_type": "code",
    "deepnote_cell_height": 225
   },
   "source": "import numpy as np\nimport pandas as pd\n\nimport matplotlib.pyplot as plt\nimport seaborn as sns\n\nfrom sklearn.model_selection import train_test_split\nfrom sklearn.neighbors import KNeighborsClassifier\nfrom sklearn.metrics import accuracy_score",
   "execution_count": 1,
   "outputs": []
  },
  {
   "cell_type": "markdown",
   "source": "Importamos las bases de datos a utilizar",
   "metadata": {
    "cell_id": "00003-c02da26b-3eb2-40c6-b771-ef57a41a5402",
    "deepnote_cell_type": "markdown",
    "deepnote_cell_height": 52.390625
   }
  },
  {
   "cell_type": "code",
   "metadata": {
    "cell_id": "00004-906e1e0a-e7a9-4588-ab9e-436e2b0b79a9",
    "deepnote_to_be_reexecuted": false,
    "source_hash": "52713614",
    "execution_start": 1667173159383,
    "execution_millis": 392,
    "deepnote_cell_type": "code",
    "deepnote_cell_height": 99
   },
   "source": "ds_properati = pd.read_csv('dataset_properati_train.csv')\nds_properati_test = pd.read_csv('dataset_properati_test.csv')",
   "execution_count": 2,
   "outputs": []
  },
  {
   "cell_type": "markdown",
   "source": "Armamos el conjunto de train y test a partir del primer database",
   "metadata": {
    "cell_id": "00005-3853cfa5-2c04-4f36-9170-dd67861a9b51",
    "deepnote_cell_type": "markdown",
    "deepnote_cell_height": 74.796875
   }
  },
  {
   "cell_type": "code",
   "source": "x_train = ds_properati.drop(['property_price'], axis='columns', inplace=False)\ny_train = ds_properati.property_price.copy()\n\nx_test = ds_properati_test.drop(['property_price'], axis='columns', inplace=False)\ny_test = ds_properati_test.property_price.copy()",
   "metadata": {
    "cell_id": "00006-196fe517-bd9e-43f3-9465-d2908e5d5152",
    "deepnote_to_be_reexecuted": false,
    "source_hash": "9946f25",
    "execution_start": 1667173159784,
    "execution_millis": 9,
    "deepnote_cell_type": "code",
    "deepnote_cell_height": 153
   },
   "execution_count": 3,
   "outputs": []
  },
  {
   "cell_type": "markdown",
   "source": "#### KNN\n",
   "metadata": {
    "cell_id": "00007-f92fe52b-6f8b-4d2e-9106-eec8eeee7d09",
    "deepnote_cell_type": "markdown",
    "deepnote_cell_height": 54
   }
  },
  {
   "cell_type": "markdown",
   "source": "La lógica de regresión KNN es muy similar a lo que se explicó anteriormente para clasificación.\nEl algoritmo KNN calculará la regresión para el conjunto de datos y luego tomará la cantidad K de vecinos, verificará los resultados de esos vecinos y promediará los resultados, generando una estimación.",
   "metadata": {
    "cell_id": "00008-7cc38c35-4bec-4fcf-ac33-ce97c681dfca",
    "deepnote_cell_type": "markdown",
    "deepnote_cell_height": 164.390625
   }
  },
  {
   "cell_type": "markdown",
   "source": "Primero observamos el mapa de correlacion para ver que variables pueden ser buenos features. ",
   "metadata": {
    "cell_id": "00009-19933e82-502f-4a2f-a3ae-f2526c2b4ba9",
    "deepnote_cell_type": "markdown",
    "deepnote_cell_height": 74.796875
   }
  },
  {
   "cell_type": "code",
   "source": "# sns.pairplot(ds_properati)\n",
   "metadata": {
    "cell_id": "00010-a33beba8-71a1-4d36-bcd9-802d97c497bb",
    "deepnote_to_be_reexecuted": false,
    "source_hash": "c61f1b45",
    "execution_start": 1667173159795,
    "execution_millis": 11,
    "deepnote_cell_type": "code",
    "deepnote_cell_height": 94,
    "deepnote_output_heights": [
     20
    ]
   },
   "execution_count": 4,
   "outputs": []
  },
  {
   "cell_type": "code",
   "metadata": {
    "cell_id": "00011-59f2273d-d13f-43fe-be85-067e4cf6959c",
    "deepnote_to_be_reexecuted": false,
    "source_hash": "233a2db6",
    "execution_start": 1667173159860,
    "execution_millis": 330,
    "deepnote_cell_type": "code",
    "deepnote_cell_height": 378,
    "deepnote_output_heights": [
     263,
     263
    ]
   },
   "source": "#Heatmap correlación\nds_properati.corr().style.background_gradient(cmap='coolwarm')",
   "execution_count": 5,
   "outputs": [
    {
     "output_type": "execute_result",
     "execution_count": 5,
     "data": {
      "text/plain": "<pandas.io.formats.style.Styler at 0x7f87d2b89790>",
      "text/html": "<style  type=\"text/css\" >\n#T_f7103_row0_col0,#T_f7103_row1_col1,#T_f7103_row2_col2,#T_f7103_row3_col3,#T_f7103_row4_col4,#T_f7103_row5_col5,#T_f7103_row6_col6,#T_f7103_row7_col7{\n            background-color:  #b40426;\n            color:  #f1f1f1;\n        }#T_f7103_row0_col1{\n            background-color:  #6b8df0;\n            color:  #000000;\n        }#T_f7103_row0_col2,#T_f7103_row0_col3,#T_f7103_row0_col4{\n            background-color:  #7699f6;\n            color:  #000000;\n        }#T_f7103_row0_col5{\n            background-color:  #7396f5;\n            color:  #000000;\n        }#T_f7103_row0_col6{\n            background-color:  #7093f3;\n            color:  #000000;\n        }#T_f7103_row0_col7{\n            background-color:  #6a8bef;\n            color:  #000000;\n        }#T_f7103_row1_col0,#T_f7103_row2_col0,#T_f7103_row2_col3,#T_f7103_row2_col4,#T_f7103_row2_col5,#T_f7103_row2_col6,#T_f7103_row2_col7,#T_f7103_row3_col0,#T_f7103_row3_col2,#T_f7103_row4_col1,#T_f7103_row4_col2,#T_f7103_row5_col0,#T_f7103_row6_col0{\n            background-color:  #3b4cc0;\n            color:  #f1f1f1;\n        }#T_f7103_row1_col2{\n            background-color:  #5470de;\n            color:  #000000;\n        }#T_f7103_row1_col3,#T_f7103_row6_col1{\n            background-color:  #485fd1;\n            color:  #f1f1f1;\n        }#T_f7103_row1_col4{\n            background-color:  #4358cb;\n            color:  #f1f1f1;\n        }#T_f7103_row1_col5{\n            background-color:  #4c66d6;\n            color:  #000000;\n        }#T_f7103_row1_col6{\n            background-color:  #4b64d5;\n            color:  #f1f1f1;\n        }#T_f7103_row1_col7{\n            background-color:  #88abfd;\n            color:  #000000;\n        }#T_f7103_row2_col1{\n            background-color:  #4a63d3;\n            color:  #f1f1f1;\n        }#T_f7103_row3_col1,#T_f7103_row5_col2{\n            background-color:  #3d50c3;\n            color:  #f1f1f1;\n        }#T_f7103_row3_col4,#T_f7103_row4_col3{\n            background-color:  #d1493f;\n            color:  #f1f1f1;\n        }#T_f7103_row3_col5,#T_f7103_row5_col7{\n            background-color:  #ea7b60;\n            color:  #000000;\n        }#T_f7103_row3_col6,#T_f7103_row4_col6{\n            background-color:  #e7745b;\n            color:  #000000;\n        }#T_f7103_row3_col7{\n            background-color:  #f6a385;\n            color:  #000000;\n        }#T_f7103_row4_col0,#T_f7103_row7_col0{\n            background-color:  #3c4ec2;\n            color:  #f1f1f1;\n        }#T_f7103_row4_col5,#T_f7103_row5_col4{\n            background-color:  #e9785d;\n            color:  #000000;\n        }#T_f7103_row4_col7{\n            background-color:  #f7ad90;\n            color:  #000000;\n        }#T_f7103_row5_col1{\n            background-color:  #455cce;\n            color:  #f1f1f1;\n        }#T_f7103_row5_col3,#T_f7103_row7_col5{\n            background-color:  #e97a5f;\n            color:  #000000;\n        }#T_f7103_row5_col6{\n            background-color:  #cc403a;\n            color:  #f1f1f1;\n        }#T_f7103_row6_col2{\n            background-color:  #3f53c6;\n            color:  #f1f1f1;\n        }#T_f7103_row6_col3,#T_f7103_row6_col4,#T_f7103_row6_col7{\n            background-color:  #e67259;\n            color:  #000000;\n        }#T_f7103_row6_col5{\n            background-color:  #cb3e38;\n            color:  #f1f1f1;\n        }#T_f7103_row7_col1{\n            background-color:  #8badfd;\n            color:  #000000;\n        }#T_f7103_row7_col2{\n            background-color:  #465ecf;\n            color:  #f1f1f1;\n        }#T_f7103_row7_col3{\n            background-color:  #f59f80;\n            color:  #000000;\n        }#T_f7103_row7_col4{\n            background-color:  #f7a98b;\n            color:  #000000;\n        }#T_f7103_row7_col6{\n            background-color:  #e57058;\n            color:  #000000;\n        }</style><table id=\"T_f7103_\" ><thead>    <tr>        <th class=\"blank level0\" ></th>        <th class=\"col_heading level0 col0\" >Unnamed: 0</th>        <th class=\"col_heading level0 col1\" >latitud</th>        <th class=\"col_heading level0 col2\" >longitud</th>        <th class=\"col_heading level0 col3\" >property_rooms</th>        <th class=\"col_heading level0 col4\" >property_bedrooms</th>        <th class=\"col_heading level0 col5\" >property_surface_total</th>        <th class=\"col_heading level0 col6\" >property_surface_covered</th>        <th class=\"col_heading level0 col7\" >property_price</th>    </tr></thead><tbody>\n                <tr>\n                        <th id=\"T_f7103_level0_row0\" class=\"row_heading level0 row0\" >Unnamed: 0</th>\n                        <td id=\"T_f7103_row0_col0\" class=\"data row0 col0\" >1.000000</td>\n                        <td id=\"T_f7103_row0_col1\" class=\"data row0 col1\" >-0.003342</td>\n                        <td id=\"T_f7103_row0_col2\" class=\"data row0 col2\" >-0.000589</td>\n                        <td id=\"T_f7103_row0_col3\" class=\"data row0 col3\" >0.000231</td>\n                        <td id=\"T_f7103_row0_col4\" class=\"data row0 col4\" >0.001728</td>\n                        <td id=\"T_f7103_row0_col5\" class=\"data row0 col5\" >0.000202</td>\n                        <td id=\"T_f7103_row0_col6\" class=\"data row0 col6\" >0.000167</td>\n                        <td id=\"T_f7103_row0_col7\" class=\"data row0 col7\" >0.001905</td>\n            </tr>\n            <tr>\n                        <th id=\"T_f7103_level0_row1\" class=\"row_heading level0 row1\" >latitud</th>\n                        <td id=\"T_f7103_row1_col0\" class=\"data row1 col0\" >-0.003342</td>\n                        <td id=\"T_f7103_row1_col1\" class=\"data row1 col1\" >1.000000</td>\n                        <td id=\"T_f7103_row1_col2\" class=\"data row1 col2\" >-0.127215</td>\n                        <td id=\"T_f7103_row1_col3\" class=\"data row1 col3\" >-0.174430</td>\n                        <td id=\"T_f7103_row1_col4\" class=\"data row1 col4\" >-0.188224</td>\n                        <td id=\"T_f7103_row1_col5\" class=\"data row1 col5\" >-0.143052</td>\n                        <td id=\"T_f7103_row1_col6\" class=\"data row1 col6\" >-0.135364</td>\n                        <td id=\"T_f7103_row1_col7\" class=\"data row1 col7\" >0.100136</td>\n            </tr>\n            <tr>\n                        <th id=\"T_f7103_level0_row2\" class=\"row_heading level0 row2\" >longitud</th>\n                        <td id=\"T_f7103_row2_col0\" class=\"data row2 col0\" >-0.000589</td>\n                        <td id=\"T_f7103_row2_col1\" class=\"data row2 col1\" >-0.127215</td>\n                        <td id=\"T_f7103_row2_col2\" class=\"data row2 col2\" >1.000000</td>\n                        <td id=\"T_f7103_row2_col3\" class=\"data row2 col3\" >-0.228432</td>\n                        <td id=\"T_f7103_row2_col4\" class=\"data row2 col4\" >-0.224497</td>\n                        <td id=\"T_f7103_row2_col5\" class=\"data row2 col5\" >-0.217441</td>\n                        <td id=\"T_f7103_row2_col6\" class=\"data row2 col6\" >-0.204830</td>\n                        <td id=\"T_f7103_row2_col7\" class=\"data row2 col7\" >-0.177462</td>\n            </tr>\n            <tr>\n                        <th id=\"T_f7103_level0_row3\" class=\"row_heading level0 row3\" >property_rooms</th>\n                        <td id=\"T_f7103_row3_col0\" class=\"data row3 col0\" >0.000231</td>\n                        <td id=\"T_f7103_row3_col1\" class=\"data row3 col1\" >-0.174430</td>\n                        <td id=\"T_f7103_row3_col2\" class=\"data row3 col2\" >-0.228432</td>\n                        <td id=\"T_f7103_row3_col3\" class=\"data row3 col3\" >1.000000</td>\n                        <td id=\"T_f7103_row3_col4\" class=\"data row3 col4\" >0.895099</td>\n                        <td id=\"T_f7103_row3_col5\" class=\"data row3 col5\" >0.780283</td>\n                        <td id=\"T_f7103_row3_col6\" class=\"data row3 col6\" >0.801184</td>\n                        <td id=\"T_f7103_row3_col7\" class=\"data row3 col7\" >0.673721</td>\n            </tr>\n            <tr>\n                        <th id=\"T_f7103_level0_row4\" class=\"row_heading level0 row4\" >property_bedrooms</th>\n                        <td id=\"T_f7103_row4_col0\" class=\"data row4 col0\" >0.001728</td>\n                        <td id=\"T_f7103_row4_col1\" class=\"data row4 col1\" >-0.188224</td>\n                        <td id=\"T_f7103_row4_col2\" class=\"data row4 col2\" >-0.224497</td>\n                        <td id=\"T_f7103_row4_col3\" class=\"data row4 col3\" >0.895099</td>\n                        <td id=\"T_f7103_row4_col4\" class=\"data row4 col4\" >1.000000</td>\n                        <td id=\"T_f7103_row4_col5\" class=\"data row4 col5\" >0.786597</td>\n                        <td id=\"T_f7103_row4_col6\" class=\"data row4 col6\" >0.802216</td>\n                        <td id=\"T_f7103_row4_col7\" class=\"data row4 col7\" >0.644713</td>\n            </tr>\n            <tr>\n                        <th id=\"T_f7103_level0_row5\" class=\"row_heading level0 row5\" >property_surface_total</th>\n                        <td id=\"T_f7103_row5_col0\" class=\"data row5 col0\" >0.000202</td>\n                        <td id=\"T_f7103_row5_col1\" class=\"data row5 col1\" >-0.143052</td>\n                        <td id=\"T_f7103_row5_col2\" class=\"data row5 col2\" >-0.217441</td>\n                        <td id=\"T_f7103_row5_col3\" class=\"data row5 col3\" >0.780283</td>\n                        <td id=\"T_f7103_row5_col4\" class=\"data row5 col4\" >0.786597</td>\n                        <td id=\"T_f7103_row5_col5\" class=\"data row5 col5\" >1.000000</td>\n                        <td id=\"T_f7103_row5_col6\" class=\"data row5 col6\" >0.919908</td>\n                        <td id=\"T_f7103_row5_col7\" class=\"data row5 col7\" >0.784029</td>\n            </tr>\n            <tr>\n                        <th id=\"T_f7103_level0_row6\" class=\"row_heading level0 row6\" >property_surface_covered</th>\n                        <td id=\"T_f7103_row6_col0\" class=\"data row6 col0\" >0.000167</td>\n                        <td id=\"T_f7103_row6_col1\" class=\"data row6 col1\" >-0.135364</td>\n                        <td id=\"T_f7103_row6_col2\" class=\"data row6 col2\" >-0.204830</td>\n                        <td id=\"T_f7103_row6_col3\" class=\"data row6 col3\" >0.801184</td>\n                        <td id=\"T_f7103_row6_col4\" class=\"data row6 col4\" >0.802216</td>\n                        <td id=\"T_f7103_row6_col5\" class=\"data row6 col5\" >0.919908</td>\n                        <td id=\"T_f7103_row6_col6\" class=\"data row6 col6\" >1.000000</td>\n                        <td id=\"T_f7103_row6_col7\" class=\"data row6 col7\" >0.809772</td>\n            </tr>\n            <tr>\n                        <th id=\"T_f7103_level0_row7\" class=\"row_heading level0 row7\" >property_price</th>\n                        <td id=\"T_f7103_row7_col0\" class=\"data row7 col0\" >0.001905</td>\n                        <td id=\"T_f7103_row7_col1\" class=\"data row7 col1\" >0.100136</td>\n                        <td id=\"T_f7103_row7_col2\" class=\"data row7 col2\" >-0.177462</td>\n                        <td id=\"T_f7103_row7_col3\" class=\"data row7 col3\" >0.673721</td>\n                        <td id=\"T_f7103_row7_col4\" class=\"data row7 col4\" >0.644713</td>\n                        <td id=\"T_f7103_row7_col5\" class=\"data row7 col5\" >0.784029</td>\n                        <td id=\"T_f7103_row7_col6\" class=\"data row7 col6\" >0.809772</td>\n                        <td id=\"T_f7103_row7_col7\" class=\"data row7 col7\" >1.000000</td>\n            </tr>\n    </tbody></table>"
     },
     "metadata": {}
    }
   ]
  },
  {
   "cell_type": "markdown",
   "source": "Podemos ver que los atributos de property_surface_total y property_surface_covered podrian llegar a tener una relacion lineal.",
   "metadata": {
    "cell_id": "00012-5364f1ca-0a5a-48ce-ab27-88c41860ba2e",
    "deepnote_cell_type": "markdown",
    "deepnote_cell_height": 97.1875
   }
  },
  {
   "cell_type": "code",
   "metadata": {
    "cell_id": "00013-d3eb9134-4265-4439-9654-e64a087d1cc1",
    "deepnote_to_be_reexecuted": false,
    "source_hash": "7cb65c14",
    "execution_start": 1667173160192,
    "execution_millis": 3,
    "deepnote_cell_type": "code",
    "deepnote_cell_height": 135
   },
   "source": "#selecciono variables regresoras y a predecir\nX = x_train[['property_surface_total','property_surface_covered']]\nX_test = x_test[['property_surface_total','property_surface_covered']]\nY = y_train.copy()",
   "execution_count": 6,
   "outputs": []
  },
  {
   "cell_type": "code",
   "metadata": {
    "cell_id": "00014-20411466-4f73-4622-83ec-2acf9532d528",
    "deepnote_to_be_reexecuted": false,
    "source_hash": "8ec66701",
    "execution_start": 1667173160241,
    "execution_millis": 46,
    "deepnote_cell_type": "code",
    "deepnote_cell_height": 204,
    "deepnote_output_heights": [
     89
    ]
   },
   "source": "#Heatmap correlación\nX.corr().style.background_gradient(cmap='coolwarm')",
   "execution_count": 7,
   "outputs": [
    {
     "output_type": "execute_result",
     "execution_count": 7,
     "data": {
      "text/plain": "<pandas.io.formats.style.Styler at 0x7f87b7d94a90>",
      "text/html": "<style  type=\"text/css\" >\n#T_36473_row0_col0,#T_36473_row1_col1{\n            background-color:  #b40426;\n            color:  #f1f1f1;\n        }#T_36473_row0_col1,#T_36473_row1_col0{\n            background-color:  #3b4cc0;\n            color:  #f1f1f1;\n        }</style><table id=\"T_36473_\" ><thead>    <tr>        <th class=\"blank level0\" ></th>        <th class=\"col_heading level0 col0\" >property_surface_total</th>        <th class=\"col_heading level0 col1\" >property_surface_covered</th>    </tr></thead><tbody>\n                <tr>\n                        <th id=\"T_36473_level0_row0\" class=\"row_heading level0 row0\" >property_surface_total</th>\n                        <td id=\"T_36473_row0_col0\" class=\"data row0 col0\" >1.000000</td>\n                        <td id=\"T_36473_row0_col1\" class=\"data row0 col1\" >0.919908</td>\n            </tr>\n            <tr>\n                        <th id=\"T_36473_level0_row1\" class=\"row_heading level0 row1\" >property_surface_covered</th>\n                        <td id=\"T_36473_row1_col0\" class=\"data row1 col0\" >0.919908</td>\n                        <td id=\"T_36473_row1_col1\" class=\"data row1 col1\" >1.000000</td>\n            </tr>\n    </tbody></table>"
     },
     "metadata": {}
    }
   ]
  },
  {
   "cell_type": "code",
   "metadata": {
    "cell_id": "00015-cb8621d9-4b96-4c31-89d5-afe250b57fca",
    "deepnote_to_be_reexecuted": false,
    "source_hash": "75a13816",
    "execution_start": 1667173160286,
    "execution_millis": 1809,
    "deepnote_cell_type": "code",
    "deepnote_cell_height": 433.625,
    "deepnote_output_heights": [
     20.1875,
     267.453125
    ]
   },
   "source": "sns.scatterplot(x=X.property_surface_total,y=Y)\nsns.scatterplot(x=X.property_surface_covered,y=Y)",
   "execution_count": 8,
   "outputs": [
    {
     "output_type": "execute_result",
     "execution_count": 8,
     "data": {
      "text/plain": "<AxesSubplot: xlabel='property_surface_total', ylabel='property_price'>"
     },
     "metadata": {}
    },
    {
     "data": {
      "text/plain": "<Figure size 640x480 with 1 Axes>",
      "image/png": "[encoded data removed]"
     },
     "metadata": {
      "image/png": {
       "width": 598,
       "height": 433
      }
     },
     "output_type": "display_data"
    }
   ]
  },
  {
   "cell_type": "markdown",
   "source": "Vemos que hay gran relacion entre las dos.",
   "metadata": {
    "cell_id": "00016-6bdc01bf-2d11-4528-9644-55cc31f77232",
    "deepnote_cell_type": "markdown",
    "deepnote_cell_height": 52.390625
   }
  },
  {
   "cell_type": "code",
   "metadata": {
    "cell_id": "00017-d811cb6b-3f25-4b09-8174-d968d609966e",
    "deepnote_to_be_reexecuted": false,
    "source_hash": "3f3d6a37",
    "execution_start": 1667173161204,
    "execution_millis": 53,
    "deepnote_cell_type": "code",
    "deepnote_cell_height": 117
   },
   "source": "#Grafico de a pares incluyendo variable a predecir\n# xy_train = pd.concat([X, Y], axis=1)\n# sns.pairplot(xy_train)",
   "execution_count": 9,
   "outputs": []
  },
  {
   "cell_type": "markdown",
   "source": "Creamos un modelo KNN regresor ahora ",
   "metadata": {
    "cell_id": "00018-0847940d-0a7b-4998-ad41-d3b9b526e9ee",
    "deepnote_cell_type": "markdown",
    "deepnote_cell_height": 52.390625
   }
  },
  {
   "cell_type": "code",
   "metadata": {
    "cell_id": "00019-88d9f3fb-d1b2-4c42-a696-5fc7417557a7",
    "deepnote_to_be_reexecuted": false,
    "source_hash": "635fc89",
    "execution_start": 1667173161260,
    "execution_millis": 228,
    "deepnote_cell_type": "code",
    "deepnote_cell_height": 189
   },
   "source": "from sklearn.neighbors import KNeighborsRegressor\n\n# Creo un modelo KNN para regresion y lo ajusto\nknn_regressor = KNeighborsRegressor().fit(X, Y)\n\n#Hago una predicción\ny_pred=knn_regressor.predict(X_test)",
   "execution_count": 10,
   "outputs": []
  },
  {
   "cell_type": "markdown",
   "source": "Comparamos la performance del Clasificador Regresor",
   "metadata": {
    "cell_id": "00020-47fec8fc-86c4-406e-8d1b-7bf438536112",
    "deepnote_cell_type": "markdown",
    "deepnote_cell_height": 52.390625
   }
  },
  {
   "cell_type": "code",
   "metadata": {
    "cell_id": "00021-5821198a-edb4-4749-a28e-b883ef852ee3",
    "deepnote_to_be_reexecuted": false,
    "source_hash": "9ba76d7",
    "execution_start": 1667173161495,
    "execution_millis": 604,
    "deepnote_cell_type": "code",
    "deepnote_cell_height": 730.796875,
    "deepnote_output_heights": [
     321
    ]
   },
   "source": "# Performance\nperformance = pd.DataFrame({'Valor Real': y_test,\n                            'Prediccion': y_pred,\n                            'Error': y_test - y_pred})\n# View\nperformance.head(10)",
   "execution_count": 11,
   "outputs": [
    {
     "output_type": "execute_result",
     "execution_count": 11,
     "data": {
      "application/vnd.deepnote.dataframe.v3+json": {
       "column_count": 3,
       "row_count": 10,
       "columns": [
        {
         "name": "Valor Real",
         "dtype": "float64",
         "stats": {
          "unique_count": 9,
          "nan_count": 0,
          "min": "79000.0",
          "max": "160000.0",
          "histogram": [
           {
            "bin_start": 79000,
            "bin_end": 87100,
            "count": 1
           },
           {
            "bin_start": 87100,
            "bin_end": 95200,
            "count": 3
           },
           {
            "bin_start": 95200,
            "bin_end": 103300,
            "count": 1
           },
           {
            "bin_start": 103300,
            "bin_end": 111400,
            "count": 0
           },
           {
            "bin_start": 111400,
            "bin_end": 119500,
            "count": 0
           },
           {
            "bin_start": 119500,
            "bin_end": 127600,
            "count": 0
           },
           {
            "bin_start": 127600,
            "bin_end": 135700,
            "count": 1
           },
           {
            "bin_start": 135700,
            "bin_end": 143800,
            "count": 0
           },
           {
            "bin_start": 143800,
            "bin_end": 151900,
            "count": 1
           },
           {
            "bin_start": 151900,
            "bin_end": 160000,
            "count": 3
           }
          ]
         }
        },
        {
         "name": "Prediccion",
         "dtype": "float64",
         "stats": {
          "unique_count": 10,
          "nan_count": 0,
          "min": "80400.0",
          "max": "218500.0",
          "histogram": [
           {
            "bin_start": 80400,
            "bin_end": 94210,
            "count": 1
           },
           {
            "bin_start": 94210,
            "bin_end": 108020,
            "count": 1
           },
           {
            "bin_start": 108020,
            "bin_end": 121830,
            "count": 0
           },
           {
            "bin_start": 121830,
            "bin_end": 135640,
            "count": 4
           },
           {
            "bin_start": 135640,
            "bin_end": 149450,
            "count": 1
           },
           {
            "bin_start": 149450,
            "bin_end": 163260,
            "count": 1
           },
           {
            "bin_start": 163260,
            "bin_end": 177070,
            "count": 0
           },
           {
            "bin_start": 177070,
            "bin_end": 190880,
            "count": 1
           },
           {
            "bin_start": 190880,
            "bin_end": 204690,
            "count": 0
           },
           {
            "bin_start": 204690,
            "bin_end": 218500,
            "count": 1
           }
          ]
         }
        },
        {
         "name": "Error",
         "dtype": "float64",
         "stats": {
          "unique_count": 10,
          "nan_count": 0,
          "min": "-89000.0",
          "max": "28156.79999999999",
          "histogram": [
           {
            "bin_start": -89000,
            "bin_end": -77284.32,
            "count": 1
           },
           {
            "bin_start": -77284.32,
            "bin_end": -65568.64,
            "count": 0
           },
           {
            "bin_start": -65568.64,
            "bin_end": -53852.96000000001,
            "count": 1
           },
           {
            "bin_start": -53852.96000000001,
            "bin_end": -42137.280000000006,
            "count": 1
           },
           {
            "bin_start": -42137.280000000006,
            "bin_end": -30421.600000000006,
            "count": 1
           },
           {
            "bin_start": -30421.600000000006,
            "bin_end": -18705.920000000013,
            "count": 2
           },
           {
            "bin_start": -18705.920000000013,
            "bin_end": -6990.240000000005,
            "count": 0
           },
           {
            "bin_start": -6990.240000000005,
            "bin_end": 4725.439999999988,
            "count": 0
           },
           {
            "bin_start": 4725.439999999988,
            "bin_end": 16441.11999999998,
            "count": 1
           },
           {
            "bin_start": 16441.11999999998,
            "bin_end": 28156.79999999999,
            "count": 3
           }
          ]
         }
        },
        {
         "name": "_deepnote_index_column",
         "dtype": "int64"
        }
       ],
       "rows": [
        {
         "Valor Real": "79000.0",
         "Prediccion": "103598.0",
         "Error": "-24598.0",
         "_deepnote_index_column": "0"
        },
        {
         "Valor Real": "99000.0",
         "Prediccion": "127600.0",
         "Error": "-28600.0",
         "_deepnote_index_column": "1"
        },
        {
         "Valor Real": "160000.0",
         "Prediccion": "131843.2",
         "Error": "28156.79999999999",
         "_deepnote_index_column": "2"
        },
        {
         "Valor Real": "153000.0",
         "Prediccion": "190800.0",
         "Error": "-37800.0",
         "_deepnote_index_column": "3"
        },
        {
         "Valor Real": "159000.0",
         "Prediccion": "138600.0",
         "Error": "20400.0",
         "_deepnote_index_column": "4"
        },
        {
         "Valor Real": "145000.0",
         "Prediccion": "125129.0",
         "Error": "19871.0",
         "_deepnote_index_column": "5"
        },
        {
         "Valor Real": "89900.0",
         "Prediccion": "80400.0",
         "Error": "9500.0",
         "_deepnote_index_column": "6"
        },
        {
         "Valor Real": "129500.0",
         "Prediccion": "218500.0",
         "Error": "-89000.0",
         "_deepnote_index_column": "7"
        },
        {
         "Valor Real": "89900.0",
         "Prediccion": "132940.0",
         "Error": "-43040.0",
         "_deepnote_index_column": "8"
        },
        {
         "Valor Real": "95000.0",
         "Prediccion": "152200.0",
         "Error": "-57200.0",
         "_deepnote_index_column": "9"
        }
       ]
      },
      "text/plain": "   Valor Real  Prediccion    Error\n0     79000.0    103598.0 -24598.0\n1     99000.0    127600.0 -28600.0\n2    160000.0    131843.2  28156.8\n3    153000.0    190800.0 -37800.0\n4    159000.0    138600.0  20400.0\n5    145000.0    125129.0  19871.0\n6     89900.0     80400.0   9500.0\n7    129500.0    218500.0 -89000.0\n8     89900.0    132940.0 -43040.0\n9     95000.0    152200.0 -57200.0",
      "text/html": "<div>\n<style scoped>\n    .dataframe tbody tr th:only-of-type {\n        vertical-align: middle;\n    }\n\n    .dataframe tbody tr th {\n        vertical-align: top;\n    }\n\n    .dataframe thead th {\n        text-align: right;\n    }\n</style>\n<table border=\"1\" class=\"dataframe\">\n  <thead>\n    <tr style=\"text-align: right;\">\n      <th></th>\n      <th>Valor Real</th>\n      <th>Prediccion</th>\n      <th>Error</th>\n    </tr>\n  </thead>\n  <tbody>\n    <tr>\n      <th>0</th>\n      <td>79000.0</td>\n      <td>103598.0</td>\n      <td>-24598.0</td>\n    </tr>\n    <tr>\n      <th>1</th>\n      <td>99000.0</td>\n      <td>127600.0</td>\n      <td>-28600.0</td>\n    </tr>\n    <tr>\n      <th>2</th>\n      <td>160000.0</td>\n      <td>131843.2</td>\n      <td>28156.8</td>\n    </tr>\n    <tr>\n      <th>3</th>\n      <td>153000.0</td>\n      <td>190800.0</td>\n      <td>-37800.0</td>\n    </tr>\n    <tr>\n      <th>4</th>\n      <td>159000.0</td>\n      <td>138600.0</td>\n      <td>20400.0</td>\n    </tr>\n    <tr>\n      <th>5</th>\n      <td>145000.0</td>\n      <td>125129.0</td>\n      <td>19871.0</td>\n    </tr>\n    <tr>\n      <th>6</th>\n      <td>89900.0</td>\n      <td>80400.0</td>\n      <td>9500.0</td>\n    </tr>\n    <tr>\n      <th>7</th>\n      <td>129500.0</td>\n      <td>218500.0</td>\n      <td>-89000.0</td>\n    </tr>\n    <tr>\n      <th>8</th>\n      <td>89900.0</td>\n      <td>132940.0</td>\n      <td>-43040.0</td>\n    </tr>\n    <tr>\n      <th>9</th>\n      <td>95000.0</td>\n      <td>152200.0</td>\n      <td>-57200.0</td>\n    </tr>\n  </tbody>\n</table>\n</div>"
     },
     "metadata": {}
    }
   ]
  },
  {
   "cell_type": "markdown",
   "source": "Observamos que tenemos un poco de error en las predicciones. Procedemos a buscar los mejores parametros",
   "metadata": {
    "cell_id": "00022-1bdecc19-863e-47f3-87f7-b28db355df46",
    "deepnote_cell_type": "markdown",
    "deepnote_cell_height": 97.1875
   }
  },
  {
   "cell_type": "code",
   "source": "\n# #Parámetros a optimizar\n# params_grid = {'weights':['uniform', 'distance'],\n#           'algorithm':['auto', 'ball_tree', 'kd_tree', 'brute'],\n#           'n_neighbors':list(range(5,10)),\n#           'leaf_size': list(range(25,35)),\n#           'p' : [1,2],\n#          }\n\n# #Folds\n# kfoldcv = StratifiedKFold(n_splits=5)\n\n# #Ramdom Search CV\n# randomcv = RandomizedSearchCV(KNeighborsClassifier(), params_grid, n_jobs=10, scoring='roc_auc',cv=kfoldcv, n_iter=10)\n# randomcv.fit(x_train,y_train)\n\n# print (randomcv.best_score_, randomcv.best_params_)\n\n# #Mejor Modelo\n# kn_best = randomcv.best_estimator_\n# # #Conjunto de parámetros que queremos usar",
   "metadata": {
    "cell_id": "00023-3b2d7324-b887-4255-86ea-72c4aabac321",
    "deepnote_to_be_reexecuted": false,
    "source_hash": "f87d726f",
    "execution_start": 1667173161571,
    "execution_millis": 1,
    "deepnote_cell_type": "code",
    "deepnote_cell_height": 441,
    "deepnote_output_heights": [
     null,
     605.1875
    ]
   },
   "execution_count": 12,
   "outputs": []
  },
  {
   "cell_type": "markdown",
   "source": "https://www.projectpro.io/recipes/use-nearest-neighbours-for-regression",
   "metadata": {
    "is_collapsed": false,
    "cell_id": "93ad6b994bd84234b409e5ab9a635d3d",
    "tags": [],
    "formattedRanges": [
     {
      "type": "link",
      "url": "https://www.projectpro.io/recipes/use-nearest-neighbours-for-regression",
      "fromCodePoint": 0,
      "toCodePoint": 71,
      "ranges": []
     }
    ],
    "deepnote_cell_type": "text-cell-p"
   }
  },
  {
   "cell_type": "code",
   "source": "from sklearn.preprocessing import StandardScaler\nfrom sklearn import decomposition, datasets\nfrom sklearn import neighbors\nfrom sklearn.pipeline import Pipeline\nfrom sklearn.model_selection import GridSearchCV, cross_val_score\n\nstd_slc = StandardScaler()\npca = decomposition.PCA()\npipe = Pipeline(steps=[(\"std_slc\", std_slc),\n                           (\"pca\", pca),\n                           (\"KNN\", knn_regressor)])",
   "metadata": {
    "cell_id": "84bc2434598d4f73bdc58b8870fa78e4",
    "tags": [],
    "deepnote_to_be_reexecuted": false,
    "source_hash": "94abf675",
    "execution_start": 1667181407155,
    "execution_millis": 3,
    "deepnote_cell_type": "code",
    "deepnote_cell_height": 261
   },
   "outputs": [],
   "execution_count": 41
  },
  {
   "cell_type": "code",
   "source": "n_components = list(range(1,X.shape[1]+1,1))\nn_neighbors = [2, 3, 5, 10]\nalgorithm = [\"auto\",  \"ball_tree\", \"kd_tree\", \"brute\"]\n\nparameters = dict(pca__n_components=n_components,\n                    KNN__n_neighbors=n_neighbors,\n                    KNN__algorithm=algorithm)",
   "metadata": {
    "cell_id": "e30c9391a01f4dacb7c5c2ee972698b1",
    "tags": [],
    "deepnote_to_be_reexecuted": false,
    "source_hash": "2a04ee1b",
    "execution_start": 1667181327705,
    "execution_millis": 1,
    "deepnote_cell_type": "code",
    "deepnote_cell_height": 189
   },
   "outputs": [],
   "execution_count": 39
  },
  {
   "cell_type": "code",
   "source": "clf = GridSearchCV(pipe, parameters)\nclf.fit(X, Y)",
   "metadata": {
    "cell_id": "0c7ea42e264049c9b88c2d4f45c58974",
    "tags": [],
    "deepnote_to_be_reexecuted": false,
    "source_hash": "3cdfb465",
    "execution_start": 1667181423360,
    "execution_millis": 146247,
    "deepnote_cell_type": "code",
    "deepnote_cell_height": 271.1875,
    "deepnote_output_heights": [
     161.1875
    ]
   },
   "outputs": [
    {
     "output_type": "execute_result",
     "execution_count": 43,
     "data": {
      "text/plain": "GridSearchCV(estimator=Pipeline(steps=[('std_slc', StandardScaler()),\n                                       ('pca', PCA()),\n                                       ('KNN', KNeighborsRegressor())]),\n             param_grid={'KNN__algorithm': ['auto', 'ball_tree', 'kd_tree',\n                                            'brute'],\n                         'KNN__n_neighbors': [2, 3, 5, 10],\n                         'pca__n_components': [1, 2]})",
      "text/html": "<style>#sk-container-id-1 {color: black;background-color: white;}#sk-container-id-1 pre{padding: 0;}#sk-container-id-1 div.sk-toggleable {background-color: white;}#sk-container-id-1 label.sk-toggleable__label {cursor: pointer;display: block;width: 100%;margin-bottom: 0;padding: 0.3em;box-sizing: border-box;text-align: center;}#sk-container-id-1 label.sk-toggleable__label-arrow:before {content: \"▸\";float: left;margin-right: 0.25em;color: #696969;}#sk-container-id-1 label.sk-toggleable__label-arrow:hover:before {color: black;}#sk-container-id-1 div.sk-estimator:hover label.sk-toggleable__label-arrow:before {color: black;}#sk-container-id-1 div.sk-toggleable__content {max-height: 0;max-width: 0;overflow: hidden;text-align: left;background-color: #f0f8ff;}#sk-container-id-1 div.sk-toggleable__content pre {margin: 0.2em;color: black;border-radius: 0.25em;background-color: #f0f8ff;}#sk-container-id-1 input.sk-toggleable__control:checked~div.sk-toggleable__content {max-height: 200px;max-width: 100%;overflow: auto;}#sk-container-id-1 input.sk-toggleable__control:checked~label.sk-toggleable__label-arrow:before {content: \"▾\";}#sk-container-id-1 div.sk-estimator input.sk-toggleable__control:checked~label.sk-toggleable__label {background-color: #d4ebff;}#sk-container-id-1 div.sk-label input.sk-toggleable__control:checked~label.sk-toggleable__label {background-color: #d4ebff;}#sk-container-id-1 input.sk-hidden--visually {border: 0;clip: rect(1px 1px 1px 1px);clip: rect(1px, 1px, 1px, 1px);height: 1px;margin: -1px;overflow: hidden;padding: 0;position: absolute;width: 1px;}#sk-container-id-1 div.sk-estimator {font-family: monospace;background-color: #f0f8ff;border: 1px dotted black;border-radius: 0.25em;box-sizing: border-box;margin-bottom: 0.5em;}#sk-container-id-1 div.sk-estimator:hover {background-color: #d4ebff;}#sk-container-id-1 div.sk-parallel-item::after {content: \"\";width: 100%;border-bottom: 1px solid gray;flex-grow: 1;}#sk-container-id-1 div.sk-label:hover label.sk-toggleable__label {background-color: #d4ebff;}#sk-container-id-1 div.sk-serial::before {content: \"\";position: absolute;border-left: 1px solid gray;box-sizing: border-box;top: 0;bottom: 0;left: 50%;z-index: 0;}#sk-container-id-1 div.sk-serial {display: flex;flex-direction: column;align-items: center;background-color: white;padding-right: 0.2em;padding-left: 0.2em;position: relative;}#sk-container-id-1 div.sk-item {position: relative;z-index: 1;}#sk-container-id-1 div.sk-parallel {display: flex;align-items: stretch;justify-content: center;background-color: white;position: relative;}#sk-container-id-1 div.sk-item::before, #sk-container-id-1 div.sk-parallel-item::before {content: \"\";position: absolute;border-left: 1px solid gray;box-sizing: border-box;top: 0;bottom: 0;left: 50%;z-index: -1;}#sk-container-id-1 div.sk-parallel-item {display: flex;flex-direction: column;z-index: 1;position: relative;background-color: white;}#sk-container-id-1 div.sk-parallel-item:first-child::after {align-self: flex-end;width: 50%;}#sk-container-id-1 div.sk-parallel-item:last-child::after {align-self: flex-start;width: 50%;}#sk-container-id-1 div.sk-parallel-item:only-child::after {width: 0;}#sk-container-id-1 div.sk-dashed-wrapped {border: 1px dashed gray;margin: 0 0.4em 0.5em 0.4em;box-sizing: border-box;padding-bottom: 0.4em;background-color: white;}#sk-container-id-1 div.sk-label label {font-family: monospace;font-weight: bold;display: inline-block;line-height: 1.2em;}#sk-container-id-1 div.sk-label-container {text-align: center;}#sk-container-id-1 div.sk-container {/* jupyter's `normalize.less` sets `[hidden] { display: none; }` but bootstrap.min.css set `[hidden] { display: none !important; }` so we also need the `!important` here to be able to override the default hidden behavior on the sphinx rendered scikit-learn.org. See: https://github.com/scikit-learn/scikit-learn/issues/21755 */display: inline-block !important;position: relative;}#sk-container-id-1 div.sk-text-repr-fallback {display: none;}</style><div id=\"sk-container-id-1\" class=\"sk-top-container\"><div class=\"sk-text-repr-fallback\"><pre>GridSearchCV(estimator=Pipeline(steps=[(&#x27;std_slc&#x27;, StandardScaler()),\n                                       (&#x27;pca&#x27;, PCA()),\n                                       (&#x27;KNN&#x27;, KNeighborsRegressor())]),\n             param_grid={&#x27;KNN__algorithm&#x27;: [&#x27;auto&#x27;, &#x27;ball_tree&#x27;, &#x27;kd_tree&#x27;,\n                                            &#x27;brute&#x27;],\n                         &#x27;KNN__n_neighbors&#x27;: [2, 3, 5, 10],\n                         &#x27;pca__n_components&#x27;: [1, 2]})</pre><b>In a Jupyter environment, please rerun this cell to show the HTML representation or trust the notebook. <br />On GitHub, the HTML representation is unable to render, please try loading this page with nbviewer.org.</b></div><div class=\"sk-container\" hidden><div class=\"sk-item sk-dashed-wrapped\"><div class=\"sk-label-container\"><div class=\"sk-label sk-toggleable\"><input class=\"sk-toggleable__control sk-hidden--visually\" id=\"sk-estimator-id-1\" type=\"checkbox\" ><label for=\"sk-estimator-id-1\" class=\"sk-toggleable__label sk-toggleable__label-arrow\">GridSearchCV</label><div class=\"sk-toggleable__content\"><pre>GridSearchCV(estimator=Pipeline(steps=[(&#x27;std_slc&#x27;, StandardScaler()),\n                                       (&#x27;pca&#x27;, PCA()),\n                                       (&#x27;KNN&#x27;, KNeighborsRegressor())]),\n             param_grid={&#x27;KNN__algorithm&#x27;: [&#x27;auto&#x27;, &#x27;ball_tree&#x27;, &#x27;kd_tree&#x27;,\n                                            &#x27;brute&#x27;],\n                         &#x27;KNN__n_neighbors&#x27;: [2, 3, 5, 10],\n                         &#x27;pca__n_components&#x27;: [1, 2]})</pre></div></div></div><div class=\"sk-parallel\"><div class=\"sk-parallel-item\"><div class=\"sk-item\"><div class=\"sk-label-container\"><div class=\"sk-label sk-toggleable\"><input class=\"sk-toggleable__control sk-hidden--visually\" id=\"sk-estimator-id-2\" type=\"checkbox\" ><label for=\"sk-estimator-id-2\" class=\"sk-toggleable__label sk-toggleable__label-arrow\">estimator: Pipeline</label><div class=\"sk-toggleable__content\"><pre>Pipeline(steps=[(&#x27;std_slc&#x27;, StandardScaler()), (&#x27;pca&#x27;, PCA()),\n                (&#x27;KNN&#x27;, KNeighborsRegressor())])</pre></div></div></div><div class=\"sk-serial\"><div class=\"sk-item\"><div class=\"sk-serial\"><div class=\"sk-item\"><div class=\"sk-estimator sk-toggleable\"><input class=\"sk-toggleable__control sk-hidden--visually\" id=\"sk-estimator-id-3\" type=\"checkbox\" ><label for=\"sk-estimator-id-3\" class=\"sk-toggleable__label sk-toggleable__label-arrow\">StandardScaler</label><div class=\"sk-toggleable__content\"><pre>StandardScaler()</pre></div></div></div><div class=\"sk-item\"><div class=\"sk-estimator sk-toggleable\"><input class=\"sk-toggleable__control sk-hidden--visually\" id=\"sk-estimator-id-4\" type=\"checkbox\" ><label for=\"sk-estimator-id-4\" class=\"sk-toggleable__label sk-toggleable__label-arrow\">PCA</label><div class=\"sk-toggleable__content\"><pre>PCA()</pre></div></div></div><div class=\"sk-item\"><div class=\"sk-estimator sk-toggleable\"><input class=\"sk-toggleable__control sk-hidden--visually\" id=\"sk-estimator-id-5\" type=\"checkbox\" ><label for=\"sk-estimator-id-5\" class=\"sk-toggleable__label sk-toggleable__label-arrow\">KNeighborsRegressor</label><div class=\"sk-toggleable__content\"><pre>KNeighborsRegressor()</pre></div></div></div></div></div></div></div></div></div></div></div></div>"
     },
     "metadata": {}
    }
   ],
   "execution_count": 43
  },
  {
   "cell_type": "code",
   "source": "print(\"Best Number Of Components:\", clf.best_estimator_.get_params()[\"pca__n_components\"])\nprint(); print(clf.best_estimator_.get_params()[\"KNN\"])\n\nCV_Result = cross_val_score(clf, X, Y, cv=3, n_jobs=-1, scoring=\"r2\")\nprint(); print(CV_Result)\nprint(); print(CV_Result.mean())\nprint(); print(CV_Result.std())",
   "metadata": {
    "cell_id": "8ac348bb295341659cba63aa4c1b2523",
    "tags": [],
    "deepnote_to_be_reexecuted": false,
    "source_hash": "9015f728",
    "execution_start": 1667182035778,
    "execution_millis": 312756,
    "deepnote_cell_type": "code",
    "deepnote_cell_height": 337
   },
   "outputs": [
    {
     "name": "stdout",
     "text": "Best Number Of Components: 2\n\nKNeighborsRegressor(algorithm='brute', n_neighbors=10)\n\n[0.68538369 0.68534095 0.67722742]\n\n0.6826506860435737\n\n0.0038348678983434396\n",
     "output_type": "stream"
    }
   ],
   "execution_count": 45
  },
  {
   "cell_type": "code",
   "metadata": {
    "cell_id": "00024-de81f7dd-f172-46db-8a65-6077611e9c0b",
    "deepnote_to_be_reexecuted": false,
    "source_hash": "a122b69a",
    "execution_start": 1667173161576,
    "execution_millis": 294,
    "deepnote_cell_type": "code",
    "deepnote_cell_height": 153
   },
   "source": "# Creo un modelo KNN para regresion y lo ajusto\nknn_regressor = KNeighborsRegressor().fit(X, Y)\n\n#Hago una predicción\ny_pred_train=knn_regressor.predict(X)",
   "execution_count": 13,
   "outputs": []
  },
  {
   "cell_type": "markdown",
   "source": "Comparamos con el conjunto de evaluacion",
   "metadata": {
    "cell_id": "00025-daeaf1cc-5ac8-46f6-aaa3-7793849ba5bd",
    "deepnote_cell_type": "markdown",
    "deepnote_cell_height": 52.390625
   }
  },
  {
   "cell_type": "code",
   "metadata": {
    "cell_id": "00026-4a7a7d95-09b5-442f-98e2-9ad77bfd935f",
    "deepnote_to_be_reexecuted": false,
    "source_hash": "5f7fb958",
    "execution_start": 1667173161874,
    "execution_millis": 3101,
    "deepnote_cell_type": "code",
    "deepnote_cell_height": 253.390625,
    "deepnote_output_heights": [
     321
    ]
   },
   "source": "# Performance\nperformance = pd.DataFrame({'Valor Real': y_train,\n                            'Prediccion': y_pred_train,\n                            'Error': y_train - y_pred})\n# View\nperformance.head(10)",
   "execution_count": 14,
   "outputs": [
    {
     "output_type": "error",
     "ename": "ValueError",
     "evalue": "operands could not be broadcast together with shapes (39663,) (39664,) ",
     "traceback": [
      "\u001b[0;31m---------------------------------------------------------------------------\u001b[0m",
      "\u001b[0;31mValueError\u001b[0m                                Traceback (most recent call last)",
      "Cell \u001b[0;32mIn [14], line 4\u001b[0m\n\u001b[1;32m      1\u001b[0m \u001b[38;5;66;03m# Performance\u001b[39;00m\n\u001b[1;32m      2\u001b[0m performance \u001b[38;5;241m=\u001b[39m pd\u001b[38;5;241m.\u001b[39mDataFrame({\u001b[38;5;124m'\u001b[39m\u001b[38;5;124mValor Real\u001b[39m\u001b[38;5;124m'\u001b[39m: y_train,\n\u001b[1;32m      3\u001b[0m                             \u001b[38;5;124m'\u001b[39m\u001b[38;5;124mPrediccion\u001b[39m\u001b[38;5;124m'\u001b[39m: y_pred_train,\n\u001b[0;32m----> 4\u001b[0m                             \u001b[38;5;124m'\u001b[39m\u001b[38;5;124mError\u001b[39m\u001b[38;5;124m'\u001b[39m: \u001b[43my_train\u001b[49m\u001b[43m \u001b[49m\u001b[38;5;241;43m-\u001b[39;49m\u001b[43m \u001b[49m\u001b[43my_pred\u001b[49m})\n\u001b[1;32m      5\u001b[0m \u001b[38;5;66;03m# View\u001b[39;00m\n\u001b[1;32m      6\u001b[0m performance\u001b[38;5;241m.\u001b[39mhead(\u001b[38;5;241m10\u001b[39m)\n",
      "File \u001b[0;32m/shared-libs/python3.9/py/lib/python3.9/site-packages/pandas/core/ops/common.py:65\u001b[0m, in \u001b[0;36m_unpack_zerodim_and_defer.<locals>.new_method\u001b[0;34m(self, other)\u001b[0m\n\u001b[1;32m     61\u001b[0m             \u001b[38;5;28;01mreturn\u001b[39;00m \u001b[38;5;28mNotImplemented\u001b[39m\n\u001b[1;32m     63\u001b[0m other \u001b[38;5;241m=\u001b[39m item_from_zerodim(other)\n\u001b[0;32m---> 65\u001b[0m \u001b[38;5;28;01mreturn\u001b[39;00m \u001b[43mmethod\u001b[49m\u001b[43m(\u001b[49m\u001b[38;5;28;43mself\u001b[39;49m\u001b[43m,\u001b[49m\u001b[43m \u001b[49m\u001b[43mother\u001b[49m\u001b[43m)\u001b[49m\n",
      "File \u001b[0;32m/shared-libs/python3.9/py/lib/python3.9/site-packages/pandas/core/arraylike.py:97\u001b[0m, in \u001b[0;36mOpsMixin.__sub__\u001b[0;34m(self, other)\u001b[0m\n\u001b[1;32m     95\u001b[0m \u001b[38;5;129m@unpack_zerodim_and_defer\u001b[39m(\u001b[38;5;124m\"\u001b[39m\u001b[38;5;124m__sub__\u001b[39m\u001b[38;5;124m\"\u001b[39m)\n\u001b[1;32m     96\u001b[0m \u001b[38;5;28;01mdef\u001b[39;00m \u001b[38;5;21m__sub__\u001b[39m(\u001b[38;5;28mself\u001b[39m, other):\n\u001b[0;32m---> 97\u001b[0m     \u001b[38;5;28;01mreturn\u001b[39;00m \u001b[38;5;28;43mself\u001b[39;49m\u001b[38;5;241;43m.\u001b[39;49m\u001b[43m_arith_method\u001b[49m\u001b[43m(\u001b[49m\u001b[43mother\u001b[49m\u001b[43m,\u001b[49m\u001b[43m \u001b[49m\u001b[43moperator\u001b[49m\u001b[38;5;241;43m.\u001b[39;49m\u001b[43msub\u001b[49m\u001b[43m)\u001b[49m\n",
      "File \u001b[0;32m/shared-libs/python3.9/py/lib/python3.9/site-packages/pandas/core/series.py:4998\u001b[0m, in \u001b[0;36mSeries._arith_method\u001b[0;34m(self, other, op)\u001b[0m\n\u001b[1;32m   4996\u001b[0m lvalues \u001b[38;5;241m=\u001b[39m extract_array(\u001b[38;5;28mself\u001b[39m, extract_numpy\u001b[38;5;241m=\u001b[39m\u001b[38;5;28;01mTrue\u001b[39;00m)\n\u001b[1;32m   4997\u001b[0m rvalues \u001b[38;5;241m=\u001b[39m extract_array(other, extract_numpy\u001b[38;5;241m=\u001b[39m\u001b[38;5;28;01mTrue\u001b[39;00m)\n\u001b[0;32m-> 4998\u001b[0m result \u001b[38;5;241m=\u001b[39m \u001b[43mops\u001b[49m\u001b[38;5;241;43m.\u001b[39;49m\u001b[43marithmetic_op\u001b[49m\u001b[43m(\u001b[49m\u001b[43mlvalues\u001b[49m\u001b[43m,\u001b[49m\u001b[43m \u001b[49m\u001b[43mrvalues\u001b[49m\u001b[43m,\u001b[49m\u001b[43m \u001b[49m\u001b[43mop\u001b[49m\u001b[43m)\u001b[49m\n\u001b[1;32m   5000\u001b[0m \u001b[38;5;28;01mreturn\u001b[39;00m \u001b[38;5;28mself\u001b[39m\u001b[38;5;241m.\u001b[39m_construct_result(result, name\u001b[38;5;241m=\u001b[39mres_name)\n",
      "File \u001b[0;32m/shared-libs/python3.9/py/lib/python3.9/site-packages/pandas/core/ops/array_ops.py:189\u001b[0m, in \u001b[0;36marithmetic_op\u001b[0;34m(left, right, op)\u001b[0m\n\u001b[1;32m    187\u001b[0m \u001b[38;5;28;01melse\u001b[39;00m:\n\u001b[1;32m    188\u001b[0m     \u001b[38;5;28;01mwith\u001b[39;00m np\u001b[38;5;241m.\u001b[39merrstate(\u001b[38;5;28mall\u001b[39m\u001b[38;5;241m=\u001b[39m\u001b[38;5;124m\"\u001b[39m\u001b[38;5;124mignore\u001b[39m\u001b[38;5;124m\"\u001b[39m):\n\u001b[0;32m--> 189\u001b[0m         res_values \u001b[38;5;241m=\u001b[39m \u001b[43m_na_arithmetic_op\u001b[49m\u001b[43m(\u001b[49m\u001b[43mlvalues\u001b[49m\u001b[43m,\u001b[49m\u001b[43m \u001b[49m\u001b[43mrvalues\u001b[49m\u001b[43m,\u001b[49m\u001b[43m \u001b[49m\u001b[43mop\u001b[49m\u001b[43m)\u001b[49m\n\u001b[1;32m    191\u001b[0m \u001b[38;5;28;01mreturn\u001b[39;00m res_values\n",
      "File \u001b[0;32m/shared-libs/python3.9/py/lib/python3.9/site-packages/pandas/core/ops/array_ops.py:142\u001b[0m, in \u001b[0;36m_na_arithmetic_op\u001b[0;34m(left, right, op, is_cmp)\u001b[0m\n\u001b[1;32m    139\u001b[0m \u001b[38;5;28;01mimport\u001b[39;00m \u001b[38;5;21;01mpandas\u001b[39;00m\u001b[38;5;21;01m.\u001b[39;00m\u001b[38;5;21;01mcore\u001b[39;00m\u001b[38;5;21;01m.\u001b[39;00m\u001b[38;5;21;01mcomputation\u001b[39;00m\u001b[38;5;21;01m.\u001b[39;00m\u001b[38;5;21;01mexpressions\u001b[39;00m \u001b[38;5;28;01mas\u001b[39;00m \u001b[38;5;21;01mexpressions\u001b[39;00m\n\u001b[1;32m    141\u001b[0m \u001b[38;5;28;01mtry\u001b[39;00m:\n\u001b[0;32m--> 142\u001b[0m     result \u001b[38;5;241m=\u001b[39m \u001b[43mexpressions\u001b[49m\u001b[38;5;241;43m.\u001b[39;49m\u001b[43mevaluate\u001b[49m\u001b[43m(\u001b[49m\u001b[43mop\u001b[49m\u001b[43m,\u001b[49m\u001b[43m \u001b[49m\u001b[43mleft\u001b[49m\u001b[43m,\u001b[49m\u001b[43m \u001b[49m\u001b[43mright\u001b[49m\u001b[43m)\u001b[49m\n\u001b[1;32m    143\u001b[0m \u001b[38;5;28;01mexcept\u001b[39;00m \u001b[38;5;167;01mTypeError\u001b[39;00m:\n\u001b[1;32m    144\u001b[0m     \u001b[38;5;28;01mif\u001b[39;00m is_cmp:\n\u001b[1;32m    145\u001b[0m         \u001b[38;5;66;03m# numexpr failed on comparison op, e.g. ndarray[float] > datetime\u001b[39;00m\n\u001b[1;32m    146\u001b[0m         \u001b[38;5;66;03m#  In this case we do not fall back to the masked op, as that\u001b[39;00m\n\u001b[1;32m    147\u001b[0m         \u001b[38;5;66;03m#  will handle complex numbers incorrectly, see GH#32047\u001b[39;00m\n",
      "File \u001b[0;32m/shared-libs/python3.9/py/lib/python3.9/site-packages/pandas/core/computation/expressions.py:235\u001b[0m, in \u001b[0;36mevaluate\u001b[0;34m(op, a, b, use_numexpr)\u001b[0m\n\u001b[1;32m    232\u001b[0m     use_numexpr \u001b[38;5;241m=\u001b[39m use_numexpr \u001b[38;5;129;01mand\u001b[39;00m _bool_arith_check(op_str, a, b)\n\u001b[1;32m    233\u001b[0m     \u001b[38;5;28;01mif\u001b[39;00m use_numexpr:\n\u001b[1;32m    234\u001b[0m         \u001b[38;5;66;03m# error: \"None\" not callable\u001b[39;00m\n\u001b[0;32m--> 235\u001b[0m         \u001b[38;5;28;01mreturn\u001b[39;00m \u001b[43m_evaluate\u001b[49m\u001b[43m(\u001b[49m\u001b[43mop\u001b[49m\u001b[43m,\u001b[49m\u001b[43m \u001b[49m\u001b[43mop_str\u001b[49m\u001b[43m,\u001b[49m\u001b[43m \u001b[49m\u001b[43ma\u001b[49m\u001b[43m,\u001b[49m\u001b[43m \u001b[49m\u001b[43mb\u001b[49m\u001b[43m)\u001b[49m  \u001b[38;5;66;03m# type: ignore[misc]\u001b[39;00m\n\u001b[1;32m    236\u001b[0m \u001b[38;5;28;01mreturn\u001b[39;00m _evaluate_standard(op, op_str, a, b)\n",
      "File \u001b[0;32m/shared-libs/python3.9/py/lib/python3.9/site-packages/pandas/core/computation/expressions.py:69\u001b[0m, in \u001b[0;36m_evaluate_standard\u001b[0;34m(op, op_str, a, b)\u001b[0m\n\u001b[1;32m     67\u001b[0m     _store_test_result(\u001b[38;5;28;01mFalse\u001b[39;00m)\n\u001b[1;32m     68\u001b[0m \u001b[38;5;28;01mwith\u001b[39;00m np\u001b[38;5;241m.\u001b[39merrstate(\u001b[38;5;28mall\u001b[39m\u001b[38;5;241m=\u001b[39m\u001b[38;5;124m\"\u001b[39m\u001b[38;5;124mignore\u001b[39m\u001b[38;5;124m\"\u001b[39m):\n\u001b[0;32m---> 69\u001b[0m     \u001b[38;5;28;01mreturn\u001b[39;00m \u001b[43mop\u001b[49m\u001b[43m(\u001b[49m\u001b[43ma\u001b[49m\u001b[43m,\u001b[49m\u001b[43m \u001b[49m\u001b[43mb\u001b[49m\u001b[43m)\u001b[49m\n",
      "\u001b[0;31mValueError\u001b[0m: operands could not be broadcast together with shapes (39663,) (39664,) "
     ]
    }
   ]
  },
  {
   "cell_type": "markdown",
   "source": "Evaluamos las metricas en el conjunto de entrenamiento",
   "metadata": {
    "cell_id": "00027-9a527909-85a4-4191-967f-a4d8bfc85d85",
    "deepnote_cell_type": "markdown",
    "deepnote_cell_height": 74.796875
   }
  },
  {
   "cell_type": "code",
   "metadata": {
    "cell_id": "00028-8e5e9e60-492c-45ac-b7da-4bba1dcf1b4b",
    "deepnote_to_be_reexecuted": true,
    "source_hash": "bb08e777",
    "deepnote_cell_type": "code",
    "deepnote_cell_height": 455.1875
   },
   "source": "from sklearn import metrics\n\n#Mean Square Error\nmse = metrics.mean_squared_error(\n        y_true  = y_train,\n        y_pred  = y_pred_train,\n        squared = True\n       )\n\nprint(f\"El error (mse) de test es: {mse}\")\n\n#Root Mean Square Error\nrmse = metrics.mean_squared_error(\n        y_true  = y_train,\n        y_pred  = y_pred_train,\n        squared = False\n       )\n\nprint(f\"El error (rmse) de test es: {rmse}\")",
   "outputs": [
    {
     "name": "stdout",
     "output_type": "stream",
     "text": "El error (mse) de test es: 1880602204.6255815\nEl error (rmse) de test es: 43365.91062834472\n"
    }
   ],
   "execution_count": null
  },
  {
   "cell_type": "markdown",
   "source": "Ahora con el conjunto de test",
   "metadata": {
    "cell_id": "00029-391991f3-e4d8-4004-aab4-81d49af65eb1",
    "deepnote_cell_type": "markdown",
    "deepnote_cell_height": 52.390625
   }
  },
  {
   "cell_type": "code",
   "metadata": {
    "cell_id": "00030-574e536f-361b-45b9-9c1d-686f0530f642",
    "deepnote_to_be_reexecuted": true,
    "source_hash": "2fa7249c",
    "deepnote_cell_type": "code",
    "deepnote_cell_height": 153
   },
   "source": "# Creo un modelo KNN para regresion y lo ajusto\nknn_regressor = KNeighborsRegressor().fit(X, Y)\n\n#Hago una predicción\ny_pred_test=knn_regressor.predict(X_test)",
   "outputs": [],
   "execution_count": null
  },
  {
   "cell_type": "markdown",
   "source": "Ahora evaluamos con las Metricas:",
   "metadata": {
    "cell_id": "00031-20372c3a-bc9f-433b-bc74-56eefa22c98d",
    "deepnote_cell_type": "markdown",
    "deepnote_cell_height": 52.390625
   }
  },
  {
   "cell_type": "code",
   "metadata": {
    "cell_id": "00032-2a0e074f-9ee3-4da8-8a72-533d95ade8c2",
    "deepnote_to_be_reexecuted": true,
    "source_hash": "5d62decd",
    "deepnote_cell_type": "code",
    "deepnote_cell_height": 473.1875
   },
   "source": "#Metricas para evaluar modelos\nfrom sklearn import metrics\n\n#Mean Square Error\nmse = metrics.mean_squared_error(\n        y_true  = y_test,\n        y_pred  = y_pred_test,\n        squared = True\n       )\n\nprint(f\"El error (mse) de test es: {mse}\")\n\n#Root Mean Square Error\nrmse = metrics.mean_squared_error(\n        y_true  = y_test,\n        y_pred  = y_pred_test,\n        squared = False\n       )\n\nprint(f\"El error (rmse) de test es: {rmse}\")",
   "outputs": [
    {
     "name": "stdout",
     "output_type": "stream",
     "text": "El error (mse) de test es: 1882631460.3182845\nEl error (rmse) de test es: 43389.301219520516\n"
    }
   ],
   "execution_count": null
  },
  {
   "cell_type": "markdown",
   "source": "- MSE (Mean Square Error o error cuadrático medio)\n    Medida de qué tan cercana es la recta de regresión a los puntos que representan los datos. Mientras más chico más cerca está nuestro modelo de los datos reales. Al ser un valor elevado al cuadrado, es sensible a valores de diferencias grandes.\n    \n    $MSE= \\frac{1}{n}\\sum_{i=1}^n  (y_i'-y_i)²$\n- RMSE (Root Mean Square Error o raíz del error cuadrático medio)\n    \n    Tiene las mismas unidades que los valores representados en el eje vertical. Es la distancia de un punto hasta la recta de regresión, medida en línea recta. Mide el desvío estándar (cuánto se alejan los valores de la media).\n    \n    $RMSE= \\sqrt{\\frac{1}{n}\\sum_{i=1}^n  (y_i'-y_i)²}$",
   "metadata": {
    "cell_id": "00033-81f6bd41-8ecd-413f-95f0-cf446b198d26",
    "deepnote_cell_type": "markdown",
    "deepnote_cell_height": 562.390625
   }
  },
  {
   "cell_type": "markdown",
   "source": "Consideramos que las metricas adecuadas segun el modelo de KNN son las ",
   "metadata": {
    "is_collapsed": false,
    "cell_id": "a2b19954e23146d0ba2426d86deb77aa",
    "tags": [],
    "formattedRanges": [],
    "deepnote_cell_type": "text-cell-p"
   }
  },
  {
   "cell_type": "markdown",
   "source": "",
   "metadata": {
    "cell_id": "00034-e9c3fe9d-1cc4-4d4d-81d9-d9425a09108d",
    "deepnote_cell_type": "markdown",
    "deepnote_cell_height": 46
   }
  },
  {
   "cell_type": "code",
   "metadata": {
    "cell_id": "00035-1c0ad48e-ac83-4fa8-bd0b-f81edd04dc37",
    "deepnote_to_be_reexecuted": true,
    "source_hash": "4f7f959f",
    "deepnote_cell_type": "code",
    "deepnote_cell_height": 117
   },
   "source": "#Coef. de Determinación R2\nscore_knn = knn_regressor.score(X_test, y_test)\nscore_knn",
   "execution_count": null,
   "outputs": []
  },
  {
   "cell_type": "markdown",
   "source": "### XG BOOST",
   "metadata": {
    "is_collapsed": false,
    "cell_id": "8cce4ca578244fcf92246ec083c36332",
    "tags": [],
    "formattedRanges": [],
    "deepnote_cell_type": "text-cell-h3"
   }
  },
  {
   "cell_type": "markdown",
   "source": "XGBoost es una forma más regularizada de Gradient Boosting . XGBoost utiliza la regularización avanzada (L1 y L2), que mejora las capacidades de generalización del modelo.",
   "metadata": {
    "is_collapsed": false,
    "cell_id": "9ee1284a340245daa74c5deb0df71158",
    "tags": [],
    "formattedRanges": [],
    "deepnote_cell_type": "text-cell-p"
   }
  },
  {
   "cell_type": "markdown",
   "source": "Ofrece un alto rendimiento en comparación con Gradient Boosting. Su entrenamiento es muy rápido y se puede paralelizar entre clústeres.",
   "metadata": {
    "is_collapsed": false,
    "cell_id": "e60e878c-bdc1-4ae1-a400-02c6958bb208",
    "tags": [],
    "formattedRanges": [],
    "deepnote_cell_type": "text-cell-p"
   }
  },
  {
   "cell_type": "markdown",
   "source": "Fue diseñado para Big Data, es decir para conjuntos de datos grandes y complejos.",
   "metadata": {
    "is_collapsed": false,
    "cell_id": "c9b93c38-7bb2-4901-b1df-a89140f0e2ac",
    "tags": [],
    "formattedRanges": [],
    "deepnote_cell_type": "text-cell-p"
   }
  },
  {
   "cell_type": "markdown",
   "source": "XG Boost puede usarse para problemas de regresión o de clasificación.",
   "metadata": {
    "is_collapsed": false,
    "cell_id": "c39466a8-e294-4feb-a181-c6bfbbd17db0",
    "tags": [],
    "formattedRanges": [],
    "deepnote_cell_type": "text-cell-p"
   }
  },
  {
   "cell_type": "markdown",
   "source": "Pasos:",
   "metadata": {
    "is_collapsed": false,
    "cell_id": "d5b51b2533744d77ad857a18f4e1fc63",
    "tags": [],
    "formattedRanges": [
     {
      "type": "marks",
      "fromCodePoint": 0,
      "toCodePoint": 6,
      "marks": {
       "bold": true
      }
     }
    ],
    "deepnote_cell_type": "text-cell-p"
   }
  },
  {
   "cell_type": "markdown",
   "source": "1. Hacer una predicción inicial. Esta predicción puede ser cualquier valor.\n2. Construir un árbol para los residuos. Este árbol es diferente a los usados por Gradient Boost. Primero se crea un nodo hoja y se ponen allí **todos** los residuos.\n3. Calcular el ***Similarity Score***, para los residuos: $Similarity Score=\\frac{(\\sum{residuos)^2}}{\\#residuos + \\lambda}$\n4. Tenemos que ver cuál será el siguiente nodo. Para ello vamos a calcular la **ganancia total** (Gain), según escojamos una opción u otra para partir el árbol (qué umbral tomemos). Nos quedamos con el umbral que de la mayor información ganada.\n5. Repetimos el anterior hasta alcanzar la profundidad del árbol estipulada.\n6. Poda:\n    - Elegimos un número al azar → este número se llama gamma ( **𝜸** )\n    - Calculamos la diferencia entre el **Gain** del nodo más bajo y **gamma**\n    - Si la diferencia es < 0 → removemos el nodo\n    - Sino, el nodo se queda y se terminó la poda\n7. Volvemos a calcular el árbol (repite paso 3), solo que esta vez usamos lambda 𝛌 igual a 1 al calcular el Similarity Score y el Gain.\n8. Podamos (paso quinto nuevamente).\n9. Con estos nuevos residuos, construimos un nuevo árbol.\nRepetimos todo, desde el paso 2.\nCon el nuevo árbol, calculamos la salida de cada elemento y luego los residuos.\nConstruimos otro árbol.\nSeguimos hasta que los residuos son prácticamente cero o bien alcanzamos el número máximo de árboles predefinido.",
   "metadata": {
    "is_collapsed": false,
    "cell_id": "02d4de58-2b59-4b23-877e-d1e02ad0be8a",
    "tags": [],
    "formattedRanges": [],
    "deepnote_cell_type": "text-cell-p"
   }
  },
  {
   "cell_type": "markdown",
   "source": "Hiper-parámetros",
   "metadata": {
    "is_collapsed": false,
    "cell_id": "f5684e44-551a-443b-9911-5247e8489bcf",
    "tags": [],
    "formattedRanges": [
     {
      "type": "marks",
      "fromCodePoint": 0,
      "toCodePoint": 16,
      "marks": {
       "bold": true
      }
     }
    ],
    "deepnote_cell_type": "text-cell-p"
   }
  },
  {
   "cell_type": "markdown",
   "source": "- learning_rate: tasa de aprendizaje",
   "metadata": {
    "is_collapsed": false,
    "cell_id": "13e4335a5d924db4aed8fa6ce7a4d07e",
    "tags": [],
    "formattedRanges": [],
    "deepnote_cell_type": "text-cell-bullet"
   }
  },
  {
   "cell_type": "markdown",
   "source": "- max_depth: máxima profundidad de cada árbol",
   "metadata": {
    "is_collapsed": false,
    "cell_id": "f0391d90-8983-4ea8-bbc9-b7de25c98323",
    "tags": [],
    "formattedRanges": [],
    "deepnote_cell_type": "text-cell-bullet"
   }
  },
  {
   "cell_type": "markdown",
   "source": "- subsample: porcentaje de muestras usadas para cada árbol (valor muy bajo, posible underfitting)",
   "metadata": {
    "is_collapsed": false,
    "cell_id": "1c68ac74-6194-4f2e-9ba7-c8f0a7d7320c",
    "tags": [],
    "formattedRanges": [],
    "deepnote_cell_type": "text-cell-bullet"
   }
  },
  {
   "cell_type": "markdown",
   "source": "- colsample_bytree: porcentaje de features usadas para cada árbol (valores muy alto, posible overfitting)n_estimators: cantidad de árboles a construir.",
   "metadata": {
    "is_collapsed": false,
    "cell_id": "94a73765-bc2b-450b-96b9-d060e3a78e10",
    "tags": [],
    "formattedRanges": [],
    "deepnote_cell_type": "text-cell-bullet"
   }
  },
  {
   "cell_type": "markdown",
   "source": "- objective: función de error a utilizar (algunas: reg:linear para regresión,",
   "metadata": {
    "is_collapsed": false,
    "cell_id": "618843ce-d735-440d-aa9d-424661bfa49f",
    "tags": [],
    "formattedRanges": [],
    "deepnote_cell_type": "text-cell-bullet"
   }
  },
  {
   "cell_type": "markdown",
   "source": "- reg:logistic",
   "metadata": {
    "is_collapsed": false,
    "cell_id": "e06623d6-f6c5-4622-9f9d-fc0f2c96454f",
    "tags": [],
    "formattedRanges": [],
    "deepnote_cell_type": "text-cell-bullet"
   }
  },
  {
   "cell_type": "markdown",
   "source": "- binary:logistic para clasificación)",
   "metadata": {
    "is_collapsed": false,
    "cell_id": "e180e00a-0e9a-480d-9cd7-8f623bb8908b",
    "tags": [],
    "formattedRanges": [],
    "deepnote_cell_type": "text-cell-bullet"
   }
  },
  {
   "cell_type": "markdown",
   "source": "Parámetros de regularización:",
   "metadata": {
    "is_collapsed": false,
    "cell_id": "98924444-1f38-4e35-be23-26782d489e49",
    "tags": [],
    "formattedRanges": [
     {
      "type": "marks",
      "fromCodePoint": 0,
      "toCodePoint": 29,
      "marks": {
       "bold": true
      }
     }
    ],
    "deepnote_cell_type": "text-cell-p"
   }
  },
  {
   "cell_type": "markdown",
   "source": "- gamma: umbral para hacer split basado en la reducción de error de hacer el nuevo split.",
   "metadata": {
    "is_collapsed": false,
    "cell_id": "d17af6f99bbd418794ed14c7a085b540",
    "tags": [],
    "formattedRanges": [],
    "deepnote_cell_type": "text-cell-bullet"
   }
  },
  {
   "cell_type": "markdown",
   "source": "- alpha: regularización para los pesos de las hojas. Un valor más alto genera una mayor regularización.",
   "metadata": {
    "is_collapsed": false,
    "cell_id": "48cadb06-d288-4d34-ae41-483b6319a794",
    "tags": [],
    "formattedRanges": [],
    "deepnote_cell_type": "text-cell-bullet"
   }
  },
  {
   "cell_type": "markdown",
   "source": "- lambda: similar alpha pero para la sintonia fina.",
   "metadata": {
    "is_collapsed": false,
    "cell_id": "2bde9a34-fef7-4d56-b78b-38a23aa8a5a9",
    "tags": [],
    "formattedRanges": [],
    "deepnote_cell_type": "text-cell-bullet"
   }
  },
  {
   "cell_type": "markdown",
   "source": "Los parametros se agregan al modelo para evitar el overfitting",
   "metadata": {
    "is_collapsed": false,
    "cell_id": "a50f6f748d4147969803068ebdbf9bec",
    "tags": [],
    "formattedRanges": [],
    "deepnote_cell_type": "text-cell-p"
   }
  },
  {
   "cell_type": "markdown",
   "source": "CREAMOS EL MODELO",
   "metadata": {
    "is_collapsed": false,
    "cell_id": "abb7565c2c204d0c9b8226cb7571e3af",
    "tags": [],
    "formattedRanges": [],
    "deepnote_cell_type": "text-cell-p"
   }
  },
  {
   "cell_type": "code",
   "source": "!pip install xgboost==1.6.2",
   "metadata": {
    "cell_id": "d00a57b237fd42a4b3b78d19db86f236",
    "tags": [],
    "deepnote_to_be_reexecuted": false,
    "source_hash": "9cfe2b97",
    "execution_start": 1667173683665,
    "execution_millis": 21631,
    "deepnote_cell_type": "code",
    "deepnote_cell_height": 313.1875
   },
   "outputs": [
    {
     "name": "stdout",
     "text": "Collecting xgboost==1.6.2\n  Downloading xgboost-1.6.2-py3-none-manylinux2014_x86_64.whl (255.9 MB)\n\u001b[2K     \u001b[90m━━━━━━━━━━━━━━━━━━━━━━━━━━━━━━━━━━━━━━━\u001b[0m \u001b[32m255.9/255.9 MB\u001b[0m \u001b[31m5.4 MB/s\u001b[0m eta \u001b[36m0:00:00\u001b[0m\n\u001b[?25hRequirement already satisfied: numpy in /shared-libs/python3.9/py/lib/python3.9/site-packages (from xgboost==1.6.2) (1.23.4)\nRequirement already satisfied: scipy in /shared-libs/python3.9/py/lib/python3.9/site-packages (from xgboost==1.6.2) (1.9.3)\nInstalling collected packages: xgboost\nSuccessfully installed xgboost-1.6.2\n\u001b[33mWARNING: You are using pip version 22.0.4; however, version 22.3 is available.\nYou should consider upgrading via the '/root/venv/bin/python -m pip install --upgrade pip' command.\u001b[0m\u001b[33m\n\u001b[0m",
     "output_type": "stream"
    }
   ],
   "execution_count": 16
  },
  {
   "cell_type": "code",
   "source": "#Creo el modelo y lo entreno\nfrom sklearn.preprocessing import LabelEncoder\nimport xgboost as xgb\nle = LabelEncoder()\ny_train = le.fit_transform(y_train)\nx_train = le.fit_transform(x_train)\n# print(y_train.head(10))\n\nxgb_model = xgb.XGBRegressor(random_state=0, n_estimators=100)\nxgb_model.fit(x_train, y_train)",
   "metadata": {
    "cell_id": "1cbe12f16c094304bd20ff2fcbff528f",
    "tags": [],
    "deepnote_to_be_reexecuted": false,
    "source_hash": "408fd462",
    "execution_start": 1667175817323,
    "execution_millis": 954,
    "deepnote_cell_type": "code",
    "deepnote_cell_height": 325.390625
   },
   "outputs": [
    {
     "output_type": "error",
     "ename": "ValueError",
     "evalue": "y should be a 1d array, got an array of shape (39663, 14) instead.",
     "traceback": [
      "\u001b[0;31m---------------------------------------------------------------------------\u001b[0m",
      "\u001b[0;31mValueError\u001b[0m                                Traceback (most recent call last)",
      "Cell \u001b[0;32mIn [35], line 6\u001b[0m\n\u001b[1;32m      4\u001b[0m le \u001b[38;5;241m=\u001b[39m LabelEncoder()\n\u001b[1;32m      5\u001b[0m y_train \u001b[38;5;241m=\u001b[39m le\u001b[38;5;241m.\u001b[39mfit_transform(y_train)\n\u001b[0;32m----> 6\u001b[0m x_train \u001b[38;5;241m=\u001b[39m \u001b[43mle\u001b[49m\u001b[38;5;241;43m.\u001b[39;49m\u001b[43mfit_transform\u001b[49m\u001b[43m(\u001b[49m\u001b[43mx_train\u001b[49m\u001b[43m)\u001b[49m\n\u001b[1;32m      7\u001b[0m \u001b[38;5;66;03m# print(y_train.head(10))\u001b[39;00m\n\u001b[1;32m      9\u001b[0m xgb_model \u001b[38;5;241m=\u001b[39m xgb\u001b[38;5;241m.\u001b[39mXGBRegressor(random_state\u001b[38;5;241m=\u001b[39m\u001b[38;5;241m0\u001b[39m, n_estimators\u001b[38;5;241m=\u001b[39m\u001b[38;5;241m100\u001b[39m)\n",
      "File \u001b[0;32m/shared-libs/python3.9/py/lib/python3.9/site-packages/sklearn/preprocessing/_label.py:115\u001b[0m, in \u001b[0;36mLabelEncoder.fit_transform\u001b[0;34m(self, y)\u001b[0m\n\u001b[1;32m    102\u001b[0m \u001b[38;5;28;01mdef\u001b[39;00m \u001b[38;5;21mfit_transform\u001b[39m(\u001b[38;5;28mself\u001b[39m, y):\n\u001b[1;32m    103\u001b[0m     \u001b[38;5;124;03m\"\"\"Fit label encoder and return encoded labels.\u001b[39;00m\n\u001b[1;32m    104\u001b[0m \n\u001b[1;32m    105\u001b[0m \u001b[38;5;124;03m    Parameters\u001b[39;00m\n\u001b[0;32m   (...)\u001b[0m\n\u001b[1;32m    113\u001b[0m \u001b[38;5;124;03m        Encoded labels.\u001b[39;00m\n\u001b[1;32m    114\u001b[0m \u001b[38;5;124;03m    \"\"\"\u001b[39;00m\n\u001b[0;32m--> 115\u001b[0m     y \u001b[38;5;241m=\u001b[39m \u001b[43mcolumn_or_1d\u001b[49m\u001b[43m(\u001b[49m\u001b[43my\u001b[49m\u001b[43m,\u001b[49m\u001b[43m \u001b[49m\u001b[43mwarn\u001b[49m\u001b[38;5;241;43m=\u001b[39;49m\u001b[38;5;28;43;01mTrue\u001b[39;49;00m\u001b[43m)\u001b[49m\n\u001b[1;32m    116\u001b[0m     \u001b[38;5;28mself\u001b[39m\u001b[38;5;241m.\u001b[39mclasses_, y \u001b[38;5;241m=\u001b[39m _unique(y, return_inverse\u001b[38;5;241m=\u001b[39m\u001b[38;5;28;01mTrue\u001b[39;00m)\n\u001b[1;32m    117\u001b[0m     \u001b[38;5;28;01mreturn\u001b[39;00m y\n",
      "File \u001b[0;32m/shared-libs/python3.9/py/lib/python3.9/site-packages/sklearn/utils/validation.py:1156\u001b[0m, in \u001b[0;36mcolumn_or_1d\u001b[0;34m(y, warn)\u001b[0m\n\u001b[1;32m   1147\u001b[0m         warnings\u001b[38;5;241m.\u001b[39mwarn(\n\u001b[1;32m   1148\u001b[0m             \u001b[38;5;124m\"\u001b[39m\u001b[38;5;124mA column-vector y was passed when a 1d array was\u001b[39m\u001b[38;5;124m\"\u001b[39m\n\u001b[1;32m   1149\u001b[0m             \u001b[38;5;124m\"\u001b[39m\u001b[38;5;124m expected. Please change the shape of y to \u001b[39m\u001b[38;5;124m\"\u001b[39m\n\u001b[0;32m   (...)\u001b[0m\n\u001b[1;32m   1152\u001b[0m             stacklevel\u001b[38;5;241m=\u001b[39m\u001b[38;5;241m2\u001b[39m,\n\u001b[1;32m   1153\u001b[0m         )\n\u001b[1;32m   1154\u001b[0m     \u001b[38;5;28;01mreturn\u001b[39;00m np\u001b[38;5;241m.\u001b[39mravel(y)\n\u001b[0;32m-> 1156\u001b[0m \u001b[38;5;28;01mraise\u001b[39;00m \u001b[38;5;167;01mValueError\u001b[39;00m(\n\u001b[1;32m   1157\u001b[0m     \u001b[38;5;124m\"\u001b[39m\u001b[38;5;124my should be a 1d array, got an array of shape \u001b[39m\u001b[38;5;132;01m{}\u001b[39;00m\u001b[38;5;124m instead.\u001b[39m\u001b[38;5;124m\"\u001b[39m\u001b[38;5;241m.\u001b[39mformat(shape)\n\u001b[1;32m   1158\u001b[0m )\n",
      "\u001b[0;31mValueError\u001b[0m: y should be a 1d array, got an array of shape (39663, 14) instead."
     ]
    }
   ],
   "execution_count": 35
  },
  {
   "cell_type": "markdown",
   "source": "Evaluamos sobre el conjunto de entrenamiento",
   "metadata": {
    "is_collapsed": false,
    "cell_id": "2139a75f838c435d968a3dde93035996",
    "tags": [],
    "formattedRanges": [],
    "deepnote_cell_type": "text-cell-p"
   }
  },
  {
   "cell_type": "code",
   "source": "y_pred_proba= xgb_model.predict_proba(x_train)[:, 1]\nprint('AUC:',roc_auc_score(y_train, y_pred_proba))\n\n#Matriz de Confusion\ny_pred=xgb_model.predict(x_train)\n\ncm = confusion_matrix(y_train,y_pred)\nsns.heatmap(cm, cmap='Blues',annot=True,fmt='g')\nplt.xlabel('Predicted')\nplt.ylabel('True')\n\n#Reporte\nprint(classification_report(y_test,y_pred))",
   "metadata": {
    "cell_id": "f16f5707bfb9442a8a5db9ababad4515",
    "tags": [],
    "deepnote_to_be_reexecuted": false,
    "source_hash": "da217925",
    "execution_start": 1667173799709,
    "execution_millis": 179,
    "deepnote_cell_type": "code",
    "deepnote_cell_height": 379.390625
   },
   "outputs": [
    {
     "output_type": "error",
     "ename": "NotFittedError",
     "evalue": "need to call fit or load_model beforehand",
     "traceback": [
      "\u001b[0;31m---------------------------------------------------------------------------\u001b[0m",
      "\u001b[0;31mNotFittedError\u001b[0m                            Traceback (most recent call last)",
      "Cell \u001b[0;32mIn [18], line 1\u001b[0m\n\u001b[0;32m----> 1\u001b[0m y_pred_proba\u001b[38;5;241m=\u001b[39m \u001b[43mxgb_model\u001b[49m\u001b[38;5;241;43m.\u001b[39;49m\u001b[43mpredict_proba\u001b[49m\u001b[43m(\u001b[49m\u001b[43mx_train\u001b[49m\u001b[43m)\u001b[49m[:, \u001b[38;5;241m1\u001b[39m]\n\u001b[1;32m      2\u001b[0m \u001b[38;5;28mprint\u001b[39m(\u001b[38;5;124m'\u001b[39m\u001b[38;5;124mAUC:\u001b[39m\u001b[38;5;124m'\u001b[39m,roc_auc_score(y_train, y_pred_proba))\n\u001b[1;32m      4\u001b[0m \u001b[38;5;66;03m#Matriz de Confusion\u001b[39;00m\n",
      "File \u001b[0;32m~/venv/lib/python3.9/site-packages/xgboost/sklearn.py:1512\u001b[0m, in \u001b[0;36mXGBClassifier.predict_proba\u001b[0;34m(self, X, ntree_limit, validate_features, base_margin, iteration_range)\u001b[0m\n\u001b[1;32m   1504\u001b[0m \u001b[38;5;28;01mif\u001b[39;00m \u001b[38;5;28mself\u001b[39m\u001b[38;5;241m.\u001b[39mobjective \u001b[38;5;241m==\u001b[39m \u001b[38;5;124m\"\u001b[39m\u001b[38;5;124mmulti:softmax\u001b[39m\u001b[38;5;124m\"\u001b[39m:\n\u001b[1;32m   1505\u001b[0m     \u001b[38;5;66;03m# We need to run a Python implementation of softmax for it.  Just ask user to\u001b[39;00m\n\u001b[1;32m   1506\u001b[0m     \u001b[38;5;66;03m# use softprob since XGBoost's implementation has mitigation for floating\u001b[39;00m\n\u001b[1;32m   1507\u001b[0m     \u001b[38;5;66;03m# point overflow.  No need to reinvent the wheel.\u001b[39;00m\n\u001b[1;32m   1508\u001b[0m     \u001b[38;5;28;01mraise\u001b[39;00m \u001b[38;5;167;01mValueError\u001b[39;00m(\n\u001b[1;32m   1509\u001b[0m         \u001b[38;5;124m\"\u001b[39m\u001b[38;5;124mmulti:softmax doesn\u001b[39m\u001b[38;5;124m'\u001b[39m\u001b[38;5;124mt support `predict_proba`.  \u001b[39m\u001b[38;5;124m\"\u001b[39m\n\u001b[1;32m   1510\u001b[0m         \u001b[38;5;124m\"\u001b[39m\u001b[38;5;124mSwitch to `multi:softproba` instead\u001b[39m\u001b[38;5;124m\"\u001b[39m\n\u001b[1;32m   1511\u001b[0m     )\n\u001b[0;32m-> 1512\u001b[0m class_probs \u001b[38;5;241m=\u001b[39m \u001b[38;5;28;43msuper\u001b[39;49m\u001b[43m(\u001b[49m\u001b[43m)\u001b[49m\u001b[38;5;241;43m.\u001b[39;49m\u001b[43mpredict\u001b[49m\u001b[43m(\u001b[49m\n\u001b[1;32m   1513\u001b[0m \u001b[43m    \u001b[49m\u001b[43mX\u001b[49m\u001b[38;5;241;43m=\u001b[39;49m\u001b[43mX\u001b[49m\u001b[43m,\u001b[49m\n\u001b[1;32m   1514\u001b[0m \u001b[43m    \u001b[49m\u001b[43mntree_limit\u001b[49m\u001b[38;5;241;43m=\u001b[39;49m\u001b[43mntree_limit\u001b[49m\u001b[43m,\u001b[49m\n\u001b[1;32m   1515\u001b[0m \u001b[43m    \u001b[49m\u001b[43mvalidate_features\u001b[49m\u001b[38;5;241;43m=\u001b[39;49m\u001b[43mvalidate_features\u001b[49m\u001b[43m,\u001b[49m\n\u001b[1;32m   1516\u001b[0m \u001b[43m    \u001b[49m\u001b[43mbase_margin\u001b[49m\u001b[38;5;241;43m=\u001b[39;49m\u001b[43mbase_margin\u001b[49m\u001b[43m,\u001b[49m\n\u001b[1;32m   1517\u001b[0m \u001b[43m    \u001b[49m\u001b[43miteration_range\u001b[49m\u001b[38;5;241;43m=\u001b[39;49m\u001b[43miteration_range\u001b[49m\n\u001b[1;32m   1518\u001b[0m \u001b[43m\u001b[49m\u001b[43m)\u001b[49m\n\u001b[1;32m   1519\u001b[0m \u001b[38;5;66;03m# If model is loaded from a raw booster there's no `n_classes_`\u001b[39;00m\n\u001b[1;32m   1520\u001b[0m \u001b[38;5;28;01mreturn\u001b[39;00m _cls_predict_proba(\u001b[38;5;28mgetattr\u001b[39m(\u001b[38;5;28mself\u001b[39m, \u001b[38;5;124m\"\u001b[39m\u001b[38;5;124mn_classes_\u001b[39m\u001b[38;5;124m\"\u001b[39m, \u001b[38;5;241m0\u001b[39m), class_probs, np\u001b[38;5;241m.\u001b[39mvstack)\n",
      "File \u001b[0;32m~/venv/lib/python3.9/site-packages/xgboost/sklearn.py:1044\u001b[0m, in \u001b[0;36mXGBModel.predict\u001b[0;34m(self, X, output_margin, ntree_limit, validate_features, base_margin, iteration_range)\u001b[0m\n\u001b[1;32m   1001\u001b[0m \u001b[38;5;28;01mdef\u001b[39;00m \u001b[38;5;21mpredict\u001b[39m(\n\u001b[1;32m   1002\u001b[0m     \u001b[38;5;28mself\u001b[39m,\n\u001b[1;32m   1003\u001b[0m     X: ArrayLike,\n\u001b[0;32m   (...)\u001b[0m\n\u001b[1;32m   1008\u001b[0m     iteration_range: Optional[Tuple[\u001b[38;5;28mint\u001b[39m, \u001b[38;5;28mint\u001b[39m]] \u001b[38;5;241m=\u001b[39m \u001b[38;5;28;01mNone\u001b[39;00m,\n\u001b[1;32m   1009\u001b[0m ) \u001b[38;5;241m-\u001b[39m\u001b[38;5;241m>\u001b[39m np\u001b[38;5;241m.\u001b[39mndarray:\n\u001b[1;32m   1010\u001b[0m     \u001b[38;5;124;03m\"\"\"Predict with `X`.  If the model is trained with early stopping, then `best_iteration`\u001b[39;00m\n\u001b[1;32m   1011\u001b[0m \u001b[38;5;124;03m    is used automatically.  For tree models, when data is on GPU, like cupy array or\u001b[39;00m\n\u001b[1;32m   1012\u001b[0m \u001b[38;5;124;03m    cuDF dataframe and `predictor` is not specified, the prediction is run on GPU\u001b[39;00m\n\u001b[0;32m   (...)\u001b[0m\n\u001b[1;32m   1041\u001b[0m \n\u001b[1;32m   1042\u001b[0m \u001b[38;5;124;03m    \"\"\"\u001b[39;00m\n\u001b[1;32m   1043\u001b[0m     iteration_range \u001b[38;5;241m=\u001b[39m _convert_ntree_limit(\n\u001b[0;32m-> 1044\u001b[0m         \u001b[38;5;28;43mself\u001b[39;49m\u001b[38;5;241;43m.\u001b[39;49m\u001b[43mget_booster\u001b[49m\u001b[43m(\u001b[49m\u001b[43m)\u001b[49m, ntree_limit, iteration_range\n\u001b[1;32m   1045\u001b[0m     )\n\u001b[1;32m   1046\u001b[0m     iteration_range \u001b[38;5;241m=\u001b[39m \u001b[38;5;28mself\u001b[39m\u001b[38;5;241m.\u001b[39m_get_iteration_range(iteration_range)\n\u001b[1;32m   1047\u001b[0m     \u001b[38;5;28;01mif\u001b[39;00m \u001b[38;5;28mself\u001b[39m\u001b[38;5;241m.\u001b[39m_can_use_inplace_predict():\n",
      "File \u001b[0;32m~/venv/lib/python3.9/site-packages/xgboost/sklearn.py:590\u001b[0m, in \u001b[0;36mXGBModel.get_booster\u001b[0;34m(self)\u001b[0m\n\u001b[1;32m    588\u001b[0m \u001b[38;5;28;01mif\u001b[39;00m \u001b[38;5;129;01mnot\u001b[39;00m \u001b[38;5;28mself\u001b[39m\u001b[38;5;241m.\u001b[39m__sklearn_is_fitted__():\n\u001b[1;32m    589\u001b[0m     \u001b[38;5;28;01mfrom\u001b[39;00m \u001b[38;5;21;01msklearn\u001b[39;00m\u001b[38;5;21;01m.\u001b[39;00m\u001b[38;5;21;01mexceptions\u001b[39;00m \u001b[38;5;28;01mimport\u001b[39;00m NotFittedError\n\u001b[0;32m--> 590\u001b[0m     \u001b[38;5;28;01mraise\u001b[39;00m NotFittedError(\u001b[38;5;124m'\u001b[39m\u001b[38;5;124mneed to call fit or load_model beforehand\u001b[39m\u001b[38;5;124m'\u001b[39m)\n\u001b[1;32m    591\u001b[0m \u001b[38;5;28;01mreturn\u001b[39;00m \u001b[38;5;28mself\u001b[39m\u001b[38;5;241m.\u001b[39m_Booster\n",
      "\u001b[0;31mNotFittedError\u001b[0m: need to call fit or load_model beforehand"
     ]
    }
   ],
   "execution_count": 18
  },
  {
   "cell_type": "markdown",
   "source": "Ahora evaluamos sobre el conjunto de test para observar su prediccion",
   "metadata": {
    "is_collapsed": false,
    "cell_id": "60d34ed18378409792fe5048953ed5e7",
    "tags": [],
    "formattedRanges": [],
    "deepnote_cell_type": "text-cell-p"
   }
  },
  {
   "cell_type": "code",
   "source": "y_pred_proba= xgb_model.predict_proba(x_test)[:, 1]\nprint('AUC:',roc_auc_score(y_test, y_pred_proba))\n\n#Matriz de Confusion\ny_pred=xgb_model.predict(x_test)\n\ncm = confusion_matrix(y_test,y_pred)\nsns.heatmap(cm, cmap='Blues',annot=True,fmt='g')\nplt.xlabel('Predicted')\nplt.ylabel('True')\n\n#Reporte\nprint(classification_report(y_test,y_pred))",
   "metadata": {
    "cell_id": "99c31e542ee642528da669000a266987",
    "tags": [],
    "deepnote_cell_type": "code",
    "deepnote_cell_height": 282
   },
   "outputs": [],
   "execution_count": null
  },
  {
   "cell_type": "markdown",
   "source": "Ahora optimizamos los hiperparametros a traves de KFold cross validation con 5 folds",
   "metadata": {
    "is_collapsed": false,
    "cell_id": "f6a8a1a95ee2444abcdb5433a9c4b435",
    "tags": [],
    "formattedRanges": [],
    "deepnote_cell_type": "text-cell-p"
   }
  },
  {
   "cell_type": "code",
   "source": "#dictionary for collecting results\nresults_dict = {}\n\n#obtaining default parameters by calling .fit() to XGBoost model instance\nxgbc0 = xgb.XGBClassifier(objective='binary:logistic',\n                          booster='gbtree',\n                          eval_metric='auc',\n                          tree_method='hist',\n                          grow_policy='lossguide',\n                          use_label_encoder=False)\nxgbc0.fit(x_train , y_train)\n#extracting default parameters from benchmark model\ndefault_params = {}\ngparams = xgbc0.get_params()\n\n#default parameters have to be wrapped in lists - even single values - so GridSearchCV can take them as inputs\nfor key in gparams.keys():\n    gp = gparams[key]\n    default_params[key] = [gp]\n\n#benchmark model. Grid search is not performed, since only single values are provided as parameter grid.\n#However, cross-validation is still executed\nclf0 = GridSearchCV(estimator=xgbc0, scoring='accuracy', param_grid=default_params, return_train_score=True, verbose=1, cv=3)\nclf0.fit(x_train, y_train.values.ravel())\n\n#results dataframe\ndf = pd.DataFrame(clf0.cv_results_)\n\n#predictions - inputs to confusion matrix\ntrain_predictions = clf0.predict(x_train)\ntest_predictions = clf0.predict(X_test)\n\n#confusion matrices\ncfm_train = confusion_matrix(y_train, train_predictions)\ncfm_test = confusion_matrix(y_test, test_predictions)\n\n#accuracy scores\naccs_train = accuracy_score(y_train, train_predictions)\naccs_test = accuracy_score(y_test, test_predictions)\n\n#F1 scores for each train/test label\nf1s_train_p1 = f1_score(y_train, train_predictions, pos_label=1)\nf1s_train_p0 = f1_score(y_train, train_predictions, pos_label=0)\nf1s_test_p1 = f1_score(y_test, test_predictions, pos_label=1)\nf1s_test_p0 = f1_score(y_test, test_predictions, pos_label=0)\n\n#Area Under the Receiver Operating Characteristic Curve\ntest_ras = roc_auc_score(y_test, clf0.predict_proba(X_test)[:,1])\n\n#best parameters\nbp = clf0.best_params_\n\n#storing computed values in results dictionary\nresults_dict['xgbc0'] = {'iterable_parameter': np.nan,\n                         'classifier': deepcopy(clf0),\n                         'cv_results': df.copy(),\n                         'cfm_train': cfm_train,\n                         'cfm_test': cfm_test,\n                         'train_accuracy': accs_train,\n                         'test_accuracy': accs_test,\n                         'train F1-score label 1': f1s_train_p1,\n                         'train F1-score label 0': f1s_train_p0,\n                         'test F1-score label 1': f1s_test_p1,\n                         'test F1-score label 0': f1s_test_p0,\n                         'test roc auc score': test_ras,\n                         'best_params': bp}\n",
   "metadata": {
    "cell_id": "575887eb577c4620aba96846988ea904",
    "tags": [],
    "deepnote_to_be_reexecuted": false,
    "source_hash": "2bce9265",
    "execution_start": 1667175235901,
    "execution_millis": 590,
    "deepnote_cell_type": "code",
    "deepnote_cell_height": 1370.8125
   },
   "outputs": [
    {
     "output_type": "error",
     "ename": "ValueError",
     "evalue": "DataFrame.dtypes for data must be int, float, bool or category.  When\ncategorical type is supplied, DMatrix parameter `enable_categorical` must\nbe set to `True`. Invalid columns:created_on, provincia, barrio, operation, property_type, property_currency, geometry",
     "traceback": [
      "\u001b[0;31m---------------------------------------------------------------------------\u001b[0m",
      "\u001b[0;31mValueError\u001b[0m                                Traceback (most recent call last)",
      "Cell \u001b[0;32mIn [29], line 11\u001b[0m\n\u001b[1;32m      4\u001b[0m \u001b[38;5;66;03m#obtaining default parameters by calling .fit() to XGBoost model instance\u001b[39;00m\n\u001b[1;32m      5\u001b[0m xgbc0 \u001b[38;5;241m=\u001b[39m xgb\u001b[38;5;241m.\u001b[39mXGBClassifier(objective\u001b[38;5;241m=\u001b[39m\u001b[38;5;124m'\u001b[39m\u001b[38;5;124mbinary:logistic\u001b[39m\u001b[38;5;124m'\u001b[39m,\n\u001b[1;32m      6\u001b[0m                           booster\u001b[38;5;241m=\u001b[39m\u001b[38;5;124m'\u001b[39m\u001b[38;5;124mgbtree\u001b[39m\u001b[38;5;124m'\u001b[39m,\n\u001b[1;32m      7\u001b[0m                           eval_metric\u001b[38;5;241m=\u001b[39m\u001b[38;5;124m'\u001b[39m\u001b[38;5;124mauc\u001b[39m\u001b[38;5;124m'\u001b[39m,\n\u001b[1;32m      8\u001b[0m                           tree_method\u001b[38;5;241m=\u001b[39m\u001b[38;5;124m'\u001b[39m\u001b[38;5;124mhist\u001b[39m\u001b[38;5;124m'\u001b[39m,\n\u001b[1;32m      9\u001b[0m                           grow_policy\u001b[38;5;241m=\u001b[39m\u001b[38;5;124m'\u001b[39m\u001b[38;5;124mlossguide\u001b[39m\u001b[38;5;124m'\u001b[39m,\n\u001b[1;32m     10\u001b[0m                           use_label_encoder\u001b[38;5;241m=\u001b[39m\u001b[38;5;28;01mFalse\u001b[39;00m)\n\u001b[0;32m---> 11\u001b[0m \u001b[43mxgbc0\u001b[49m\u001b[38;5;241;43m.\u001b[39;49m\u001b[43mfit\u001b[49m\u001b[43m(\u001b[49m\u001b[43mx_train\u001b[49m\u001b[43m \u001b[49m\u001b[43m,\u001b[49m\u001b[43m \u001b[49m\u001b[43my_train\u001b[49m\u001b[43m)\u001b[49m\n\u001b[1;32m     12\u001b[0m \u001b[38;5;66;03m#extracting default parameters from benchmark model\u001b[39;00m\n\u001b[1;32m     13\u001b[0m default_params \u001b[38;5;241m=\u001b[39m {}\n",
      "File \u001b[0;32m~/venv/lib/python3.9/site-packages/xgboost/core.py:575\u001b[0m, in \u001b[0;36m_deprecate_positional_args.<locals>.inner_f\u001b[0;34m(*args, **kwargs)\u001b[0m\n\u001b[1;32m    573\u001b[0m \u001b[38;5;28;01mfor\u001b[39;00m k, arg \u001b[38;5;129;01min\u001b[39;00m \u001b[38;5;28mzip\u001b[39m(sig\u001b[38;5;241m.\u001b[39mparameters, args):\n\u001b[1;32m    574\u001b[0m     kwargs[k] \u001b[38;5;241m=\u001b[39m arg\n\u001b[0;32m--> 575\u001b[0m \u001b[38;5;28;01mreturn\u001b[39;00m \u001b[43mf\u001b[49m\u001b[43m(\u001b[49m\u001b[38;5;241;43m*\u001b[39;49m\u001b[38;5;241;43m*\u001b[39;49m\u001b[43mkwargs\u001b[49m\u001b[43m)\u001b[49m\n",
      "File \u001b[0;32m~/venv/lib/python3.9/site-packages/xgboost/sklearn.py:1382\u001b[0m, in \u001b[0;36mXGBClassifier.fit\u001b[0;34m(self, X, y, sample_weight, base_margin, eval_set, eval_metric, early_stopping_rounds, verbose, xgb_model, sample_weight_eval_set, base_margin_eval_set, feature_weights, callbacks)\u001b[0m\n\u001b[1;32m   1377\u001b[0m     params[\u001b[38;5;124m\"\u001b[39m\u001b[38;5;124mnum_class\u001b[39m\u001b[38;5;124m\"\u001b[39m] \u001b[38;5;241m=\u001b[39m \u001b[38;5;28mself\u001b[39m\u001b[38;5;241m.\u001b[39mn_classes_\n\u001b[1;32m   1379\u001b[0m model, metric, params, early_stopping_rounds, callbacks \u001b[38;5;241m=\u001b[39m \u001b[38;5;28mself\u001b[39m\u001b[38;5;241m.\u001b[39m_configure_fit(\n\u001b[1;32m   1380\u001b[0m     xgb_model, eval_metric, params, early_stopping_rounds, callbacks\n\u001b[1;32m   1381\u001b[0m )\n\u001b[0;32m-> 1382\u001b[0m train_dmatrix, evals \u001b[38;5;241m=\u001b[39m \u001b[43m_wrap_evaluation_matrices\u001b[49m\u001b[43m(\u001b[49m\n\u001b[1;32m   1383\u001b[0m \u001b[43m    \u001b[49m\u001b[43mmissing\u001b[49m\u001b[38;5;241;43m=\u001b[39;49m\u001b[38;5;28;43mself\u001b[39;49m\u001b[38;5;241;43m.\u001b[39;49m\u001b[43mmissing\u001b[49m\u001b[43m,\u001b[49m\n\u001b[1;32m   1384\u001b[0m \u001b[43m    \u001b[49m\u001b[43mX\u001b[49m\u001b[38;5;241;43m=\u001b[39;49m\u001b[43mX\u001b[49m\u001b[43m,\u001b[49m\n\u001b[1;32m   1385\u001b[0m \u001b[43m    \u001b[49m\u001b[43my\u001b[49m\u001b[38;5;241;43m=\u001b[39;49m\u001b[43my\u001b[49m\u001b[43m,\u001b[49m\n\u001b[1;32m   1386\u001b[0m \u001b[43m    \u001b[49m\u001b[43mgroup\u001b[49m\u001b[38;5;241;43m=\u001b[39;49m\u001b[38;5;28;43;01mNone\u001b[39;49;00m\u001b[43m,\u001b[49m\n\u001b[1;32m   1387\u001b[0m \u001b[43m    \u001b[49m\u001b[43mqid\u001b[49m\u001b[38;5;241;43m=\u001b[39;49m\u001b[38;5;28;43;01mNone\u001b[39;49;00m\u001b[43m,\u001b[49m\n\u001b[1;32m   1388\u001b[0m \u001b[43m    \u001b[49m\u001b[43msample_weight\u001b[49m\u001b[38;5;241;43m=\u001b[39;49m\u001b[43msample_weight\u001b[49m\u001b[43m,\u001b[49m\n\u001b[1;32m   1389\u001b[0m \u001b[43m    \u001b[49m\u001b[43mbase_margin\u001b[49m\u001b[38;5;241;43m=\u001b[39;49m\u001b[43mbase_margin\u001b[49m\u001b[43m,\u001b[49m\n\u001b[1;32m   1390\u001b[0m \u001b[43m    \u001b[49m\u001b[43mfeature_weights\u001b[49m\u001b[38;5;241;43m=\u001b[39;49m\u001b[43mfeature_weights\u001b[49m\u001b[43m,\u001b[49m\n\u001b[1;32m   1391\u001b[0m \u001b[43m    \u001b[49m\u001b[43meval_set\u001b[49m\u001b[38;5;241;43m=\u001b[39;49m\u001b[43meval_set\u001b[49m\u001b[43m,\u001b[49m\n\u001b[1;32m   1392\u001b[0m \u001b[43m    \u001b[49m\u001b[43msample_weight_eval_set\u001b[49m\u001b[38;5;241;43m=\u001b[39;49m\u001b[43msample_weight_eval_set\u001b[49m\u001b[43m,\u001b[49m\n\u001b[1;32m   1393\u001b[0m \u001b[43m    \u001b[49m\u001b[43mbase_margin_eval_set\u001b[49m\u001b[38;5;241;43m=\u001b[39;49m\u001b[43mbase_margin_eval_set\u001b[49m\u001b[43m,\u001b[49m\n\u001b[1;32m   1394\u001b[0m \u001b[43m    \u001b[49m\u001b[43meval_group\u001b[49m\u001b[38;5;241;43m=\u001b[39;49m\u001b[38;5;28;43;01mNone\u001b[39;49;00m\u001b[43m,\u001b[49m\n\u001b[1;32m   1395\u001b[0m \u001b[43m    \u001b[49m\u001b[43meval_qid\u001b[49m\u001b[38;5;241;43m=\u001b[39;49m\u001b[38;5;28;43;01mNone\u001b[39;49;00m\u001b[43m,\u001b[49m\n\u001b[1;32m   1396\u001b[0m \u001b[43m    \u001b[49m\u001b[43mcreate_dmatrix\u001b[49m\u001b[38;5;241;43m=\u001b[39;49m\u001b[38;5;28;43;01mlambda\u001b[39;49;00m\u001b[43m \u001b[49m\u001b[38;5;241;43m*\u001b[39;49m\u001b[38;5;241;43m*\u001b[39;49m\u001b[43mkwargs\u001b[49m\u001b[43m:\u001b[49m\u001b[43m \u001b[49m\u001b[43mDMatrix\u001b[49m\u001b[43m(\u001b[49m\u001b[43mnthread\u001b[49m\u001b[38;5;241;43m=\u001b[39;49m\u001b[38;5;28;43mself\u001b[39;49m\u001b[38;5;241;43m.\u001b[39;49m\u001b[43mn_jobs\u001b[49m\u001b[43m,\u001b[49m\u001b[43m \u001b[49m\u001b[38;5;241;43m*\u001b[39;49m\u001b[38;5;241;43m*\u001b[39;49m\u001b[43mkwargs\u001b[49m\u001b[43m)\u001b[49m\u001b[43m,\u001b[49m\n\u001b[1;32m   1397\u001b[0m \u001b[43m    \u001b[49m\u001b[43menable_categorical\u001b[49m\u001b[38;5;241;43m=\u001b[39;49m\u001b[38;5;28;43mself\u001b[39;49m\u001b[38;5;241;43m.\u001b[39;49m\u001b[43menable_categorical\u001b[49m\u001b[43m,\u001b[49m\n\u001b[1;32m   1398\u001b[0m \u001b[43m\u001b[49m\u001b[43m)\u001b[49m\n\u001b[1;32m   1400\u001b[0m \u001b[38;5;28mself\u001b[39m\u001b[38;5;241m.\u001b[39m_Booster \u001b[38;5;241m=\u001b[39m train(\n\u001b[1;32m   1401\u001b[0m     params,\n\u001b[1;32m   1402\u001b[0m     train_dmatrix,\n\u001b[0;32m   (...)\u001b[0m\n\u001b[1;32m   1411\u001b[0m     callbacks\u001b[38;5;241m=\u001b[39mcallbacks,\n\u001b[1;32m   1412\u001b[0m )\n\u001b[1;32m   1414\u001b[0m \u001b[38;5;28;01mif\u001b[39;00m \u001b[38;5;129;01mnot\u001b[39;00m callable(\u001b[38;5;28mself\u001b[39m\u001b[38;5;241m.\u001b[39mobjective):\n",
      "File \u001b[0;32m~/venv/lib/python3.9/site-packages/xgboost/sklearn.py:401\u001b[0m, in \u001b[0;36m_wrap_evaluation_matrices\u001b[0;34m(missing, X, y, group, qid, sample_weight, base_margin, feature_weights, eval_set, sample_weight_eval_set, base_margin_eval_set, eval_group, eval_qid, create_dmatrix, enable_categorical)\u001b[0m\n\u001b[1;32m    381\u001b[0m \u001b[38;5;28;01mdef\u001b[39;00m \u001b[38;5;21m_wrap_evaluation_matrices\u001b[39m(\n\u001b[1;32m    382\u001b[0m     missing: \u001b[38;5;28mfloat\u001b[39m,\n\u001b[1;32m    383\u001b[0m     X: Any,\n\u001b[0;32m   (...)\u001b[0m\n\u001b[1;32m    396\u001b[0m     enable_categorical: \u001b[38;5;28mbool\u001b[39m,\n\u001b[1;32m    397\u001b[0m ) \u001b[38;5;241m-\u001b[39m\u001b[38;5;241m>\u001b[39m Tuple[Any, List[Tuple[Any, \u001b[38;5;28mstr\u001b[39m]]]:\n\u001b[1;32m    398\u001b[0m     \u001b[38;5;124;03m\"\"\"Convert array_like evaluation matrices into DMatrix.  Perform validation on the way.\u001b[39;00m\n\u001b[1;32m    399\u001b[0m \n\u001b[1;32m    400\u001b[0m \u001b[38;5;124;03m    \"\"\"\u001b[39;00m\n\u001b[0;32m--> 401\u001b[0m     train_dmatrix \u001b[38;5;241m=\u001b[39m \u001b[43mcreate_dmatrix\u001b[49m\u001b[43m(\u001b[49m\n\u001b[1;32m    402\u001b[0m \u001b[43m        \u001b[49m\u001b[43mdata\u001b[49m\u001b[38;5;241;43m=\u001b[39;49m\u001b[43mX\u001b[49m\u001b[43m,\u001b[49m\n\u001b[1;32m    403\u001b[0m \u001b[43m        \u001b[49m\u001b[43mlabel\u001b[49m\u001b[38;5;241;43m=\u001b[39;49m\u001b[43my\u001b[49m\u001b[43m,\u001b[49m\n\u001b[1;32m    404\u001b[0m \u001b[43m        \u001b[49m\u001b[43mgroup\u001b[49m\u001b[38;5;241;43m=\u001b[39;49m\u001b[43mgroup\u001b[49m\u001b[43m,\u001b[49m\n\u001b[1;32m    405\u001b[0m \u001b[43m        \u001b[49m\u001b[43mqid\u001b[49m\u001b[38;5;241;43m=\u001b[39;49m\u001b[43mqid\u001b[49m\u001b[43m,\u001b[49m\n\u001b[1;32m    406\u001b[0m \u001b[43m        \u001b[49m\u001b[43mweight\u001b[49m\u001b[38;5;241;43m=\u001b[39;49m\u001b[43msample_weight\u001b[49m\u001b[43m,\u001b[49m\n\u001b[1;32m    407\u001b[0m \u001b[43m        \u001b[49m\u001b[43mbase_margin\u001b[49m\u001b[38;5;241;43m=\u001b[39;49m\u001b[43mbase_margin\u001b[49m\u001b[43m,\u001b[49m\n\u001b[1;32m    408\u001b[0m \u001b[43m        \u001b[49m\u001b[43mfeature_weights\u001b[49m\u001b[38;5;241;43m=\u001b[39;49m\u001b[43mfeature_weights\u001b[49m\u001b[43m,\u001b[49m\n\u001b[1;32m    409\u001b[0m \u001b[43m        \u001b[49m\u001b[43mmissing\u001b[49m\u001b[38;5;241;43m=\u001b[39;49m\u001b[43mmissing\u001b[49m\u001b[43m,\u001b[49m\n\u001b[1;32m    410\u001b[0m \u001b[43m        \u001b[49m\u001b[43menable_categorical\u001b[49m\u001b[38;5;241;43m=\u001b[39;49m\u001b[43menable_categorical\u001b[49m\u001b[43m,\u001b[49m\n\u001b[1;32m    411\u001b[0m \u001b[43m    \u001b[49m\u001b[43m)\u001b[49m\n\u001b[1;32m    413\u001b[0m     n_validation \u001b[38;5;241m=\u001b[39m \u001b[38;5;241m0\u001b[39m \u001b[38;5;28;01mif\u001b[39;00m eval_set \u001b[38;5;129;01mis\u001b[39;00m \u001b[38;5;28;01mNone\u001b[39;00m \u001b[38;5;28;01melse\u001b[39;00m \u001b[38;5;28mlen\u001b[39m(eval_set)\n\u001b[1;32m    415\u001b[0m     \u001b[38;5;28;01mdef\u001b[39;00m \u001b[38;5;21mvalidate_or_none\u001b[39m(meta: Optional[Sequence], name: \u001b[38;5;28mstr\u001b[39m) \u001b[38;5;241m-\u001b[39m\u001b[38;5;241m>\u001b[39m Sequence:\n",
      "File \u001b[0;32m~/venv/lib/python3.9/site-packages/xgboost/sklearn.py:1396\u001b[0m, in \u001b[0;36mXGBClassifier.fit.<locals>.<lambda>\u001b[0;34m(**kwargs)\u001b[0m\n\u001b[1;32m   1377\u001b[0m     params[\u001b[38;5;124m\"\u001b[39m\u001b[38;5;124mnum_class\u001b[39m\u001b[38;5;124m\"\u001b[39m] \u001b[38;5;241m=\u001b[39m \u001b[38;5;28mself\u001b[39m\u001b[38;5;241m.\u001b[39mn_classes_\n\u001b[1;32m   1379\u001b[0m model, metric, params, early_stopping_rounds, callbacks \u001b[38;5;241m=\u001b[39m \u001b[38;5;28mself\u001b[39m\u001b[38;5;241m.\u001b[39m_configure_fit(\n\u001b[1;32m   1380\u001b[0m     xgb_model, eval_metric, params, early_stopping_rounds, callbacks\n\u001b[1;32m   1381\u001b[0m )\n\u001b[1;32m   1382\u001b[0m train_dmatrix, evals \u001b[38;5;241m=\u001b[39m _wrap_evaluation_matrices(\n\u001b[1;32m   1383\u001b[0m     missing\u001b[38;5;241m=\u001b[39m\u001b[38;5;28mself\u001b[39m\u001b[38;5;241m.\u001b[39mmissing,\n\u001b[1;32m   1384\u001b[0m     X\u001b[38;5;241m=\u001b[39mX,\n\u001b[1;32m   1385\u001b[0m     y\u001b[38;5;241m=\u001b[39my,\n\u001b[1;32m   1386\u001b[0m     group\u001b[38;5;241m=\u001b[39m\u001b[38;5;28;01mNone\u001b[39;00m,\n\u001b[1;32m   1387\u001b[0m     qid\u001b[38;5;241m=\u001b[39m\u001b[38;5;28;01mNone\u001b[39;00m,\n\u001b[1;32m   1388\u001b[0m     sample_weight\u001b[38;5;241m=\u001b[39msample_weight,\n\u001b[1;32m   1389\u001b[0m     base_margin\u001b[38;5;241m=\u001b[39mbase_margin,\n\u001b[1;32m   1390\u001b[0m     feature_weights\u001b[38;5;241m=\u001b[39mfeature_weights,\n\u001b[1;32m   1391\u001b[0m     eval_set\u001b[38;5;241m=\u001b[39meval_set,\n\u001b[1;32m   1392\u001b[0m     sample_weight_eval_set\u001b[38;5;241m=\u001b[39msample_weight_eval_set,\n\u001b[1;32m   1393\u001b[0m     base_margin_eval_set\u001b[38;5;241m=\u001b[39mbase_margin_eval_set,\n\u001b[1;32m   1394\u001b[0m     eval_group\u001b[38;5;241m=\u001b[39m\u001b[38;5;28;01mNone\u001b[39;00m,\n\u001b[1;32m   1395\u001b[0m     eval_qid\u001b[38;5;241m=\u001b[39m\u001b[38;5;28;01mNone\u001b[39;00m,\n\u001b[0;32m-> 1396\u001b[0m     create_dmatrix\u001b[38;5;241m=\u001b[39m\u001b[38;5;28;01mlambda\u001b[39;00m \u001b[38;5;241m*\u001b[39m\u001b[38;5;241m*\u001b[39mkwargs: \u001b[43mDMatrix\u001b[49m\u001b[43m(\u001b[49m\u001b[43mnthread\u001b[49m\u001b[38;5;241;43m=\u001b[39;49m\u001b[38;5;28;43mself\u001b[39;49m\u001b[38;5;241;43m.\u001b[39;49m\u001b[43mn_jobs\u001b[49m\u001b[43m,\u001b[49m\u001b[43m \u001b[49m\u001b[38;5;241;43m*\u001b[39;49m\u001b[38;5;241;43m*\u001b[39;49m\u001b[43mkwargs\u001b[49m\u001b[43m)\u001b[49m,\n\u001b[1;32m   1397\u001b[0m     enable_categorical\u001b[38;5;241m=\u001b[39m\u001b[38;5;28mself\u001b[39m\u001b[38;5;241m.\u001b[39menable_categorical,\n\u001b[1;32m   1398\u001b[0m )\n\u001b[1;32m   1400\u001b[0m \u001b[38;5;28mself\u001b[39m\u001b[38;5;241m.\u001b[39m_Booster \u001b[38;5;241m=\u001b[39m train(\n\u001b[1;32m   1401\u001b[0m     params,\n\u001b[1;32m   1402\u001b[0m     train_dmatrix,\n\u001b[0;32m   (...)\u001b[0m\n\u001b[1;32m   1411\u001b[0m     callbacks\u001b[38;5;241m=\u001b[39mcallbacks,\n\u001b[1;32m   1412\u001b[0m )\n\u001b[1;32m   1414\u001b[0m \u001b[38;5;28;01mif\u001b[39;00m \u001b[38;5;129;01mnot\u001b[39;00m callable(\u001b[38;5;28mself\u001b[39m\u001b[38;5;241m.\u001b[39mobjective):\n",
      "File \u001b[0;32m~/venv/lib/python3.9/site-packages/xgboost/core.py:575\u001b[0m, in \u001b[0;36m_deprecate_positional_args.<locals>.inner_f\u001b[0;34m(*args, **kwargs)\u001b[0m\n\u001b[1;32m    573\u001b[0m \u001b[38;5;28;01mfor\u001b[39;00m k, arg \u001b[38;5;129;01min\u001b[39;00m \u001b[38;5;28mzip\u001b[39m(sig\u001b[38;5;241m.\u001b[39mparameters, args):\n\u001b[1;32m    574\u001b[0m     kwargs[k] \u001b[38;5;241m=\u001b[39m arg\n\u001b[0;32m--> 575\u001b[0m \u001b[38;5;28;01mreturn\u001b[39;00m \u001b[43mf\u001b[49m\u001b[43m(\u001b[49m\u001b[38;5;241;43m*\u001b[39;49m\u001b[38;5;241;43m*\u001b[39;49m\u001b[43mkwargs\u001b[49m\u001b[43m)\u001b[49m\n",
      "File \u001b[0;32m~/venv/lib/python3.9/site-packages/xgboost/core.py:686\u001b[0m, in \u001b[0;36mDMatrix.__init__\u001b[0;34m(self, data, label, weight, base_margin, missing, silent, feature_names, feature_types, nthread, group, qid, label_lower_bound, label_upper_bound, feature_weights, enable_categorical)\u001b[0m\n\u001b[1;32m    683\u001b[0m     \u001b[38;5;28;01massert\u001b[39;00m \u001b[38;5;28mself\u001b[39m\u001b[38;5;241m.\u001b[39mhandle \u001b[38;5;129;01mis\u001b[39;00m \u001b[38;5;129;01mnot\u001b[39;00m \u001b[38;5;28;01mNone\u001b[39;00m\n\u001b[1;32m    684\u001b[0m     \u001b[38;5;28;01mreturn\u001b[39;00m\n\u001b[0;32m--> 686\u001b[0m handle, feature_names, feature_types \u001b[38;5;241m=\u001b[39m \u001b[43mdispatch_data_backend\u001b[49m\u001b[43m(\u001b[49m\n\u001b[1;32m    687\u001b[0m \u001b[43m    \u001b[49m\u001b[43mdata\u001b[49m\u001b[43m,\u001b[49m\n\u001b[1;32m    688\u001b[0m \u001b[43m    \u001b[49m\u001b[43mmissing\u001b[49m\u001b[38;5;241;43m=\u001b[39;49m\u001b[38;5;28;43mself\u001b[39;49m\u001b[38;5;241;43m.\u001b[39;49m\u001b[43mmissing\u001b[49m\u001b[43m,\u001b[49m\n\u001b[1;32m    689\u001b[0m \u001b[43m    \u001b[49m\u001b[43mthreads\u001b[49m\u001b[38;5;241;43m=\u001b[39;49m\u001b[38;5;28;43mself\u001b[39;49m\u001b[38;5;241;43m.\u001b[39;49m\u001b[43mnthread\u001b[49m\u001b[43m,\u001b[49m\n\u001b[1;32m    690\u001b[0m \u001b[43m    \u001b[49m\u001b[43mfeature_names\u001b[49m\u001b[38;5;241;43m=\u001b[39;49m\u001b[43mfeature_names\u001b[49m\u001b[43m,\u001b[49m\n\u001b[1;32m    691\u001b[0m \u001b[43m    \u001b[49m\u001b[43mfeature_types\u001b[49m\u001b[38;5;241;43m=\u001b[39;49m\u001b[43mfeature_types\u001b[49m\u001b[43m,\u001b[49m\n\u001b[1;32m    692\u001b[0m \u001b[43m    \u001b[49m\u001b[43menable_categorical\u001b[49m\u001b[38;5;241;43m=\u001b[39;49m\u001b[43menable_categorical\u001b[49m\u001b[43m,\u001b[49m\n\u001b[1;32m    693\u001b[0m \u001b[43m\u001b[49m\u001b[43m)\u001b[49m\n\u001b[1;32m    694\u001b[0m \u001b[38;5;28;01massert\u001b[39;00m handle \u001b[38;5;129;01mis\u001b[39;00m \u001b[38;5;129;01mnot\u001b[39;00m \u001b[38;5;28;01mNone\u001b[39;00m\n\u001b[1;32m    695\u001b[0m \u001b[38;5;28mself\u001b[39m\u001b[38;5;241m.\u001b[39mhandle \u001b[38;5;241m=\u001b[39m handle\n",
      "File \u001b[0;32m~/venv/lib/python3.9/site-packages/xgboost/data.py:889\u001b[0m, in \u001b[0;36mdispatch_data_backend\u001b[0;34m(data, missing, threads, feature_names, feature_types, enable_categorical)\u001b[0m\n\u001b[1;32m    887\u001b[0m     \u001b[38;5;28;01mreturn\u001b[39;00m _from_tuple(data, missing, threads, feature_names, feature_types)\n\u001b[1;32m    888\u001b[0m \u001b[38;5;28;01mif\u001b[39;00m _is_pandas_df(data):\n\u001b[0;32m--> 889\u001b[0m     \u001b[38;5;28;01mreturn\u001b[39;00m \u001b[43m_from_pandas_df\u001b[49m\u001b[43m(\u001b[49m\u001b[43mdata\u001b[49m\u001b[43m,\u001b[49m\u001b[43m \u001b[49m\u001b[43menable_categorical\u001b[49m\u001b[43m,\u001b[49m\u001b[43m \u001b[49m\u001b[43mmissing\u001b[49m\u001b[43m,\u001b[49m\u001b[43m \u001b[49m\u001b[43mthreads\u001b[49m\u001b[43m,\u001b[49m\n\u001b[1;32m    890\u001b[0m \u001b[43m                           \u001b[49m\u001b[43mfeature_names\u001b[49m\u001b[43m,\u001b[49m\u001b[43m \u001b[49m\u001b[43mfeature_types\u001b[49m\u001b[43m)\u001b[49m\n\u001b[1;32m    891\u001b[0m \u001b[38;5;28;01mif\u001b[39;00m _is_pandas_series(data):\n\u001b[1;32m    892\u001b[0m     \u001b[38;5;28;01mreturn\u001b[39;00m _from_pandas_series(\n\u001b[1;32m    893\u001b[0m         data, missing, threads, enable_categorical, feature_names, feature_types\n\u001b[1;32m    894\u001b[0m     )\n",
      "File \u001b[0;32m~/venv/lib/python3.9/site-packages/xgboost/data.py:344\u001b[0m, in \u001b[0;36m_from_pandas_df\u001b[0;34m(data, enable_categorical, missing, nthread, feature_names, feature_types)\u001b[0m\n\u001b[1;32m    336\u001b[0m \u001b[38;5;28;01mdef\u001b[39;00m \u001b[38;5;21m_from_pandas_df\u001b[39m(\n\u001b[1;32m    337\u001b[0m     data: DataFrame,\n\u001b[1;32m    338\u001b[0m     enable_categorical: \u001b[38;5;28mbool\u001b[39m,\n\u001b[0;32m   (...)\u001b[0m\n\u001b[1;32m    342\u001b[0m     feature_types: Optional[List[\u001b[38;5;28mstr\u001b[39m]],\n\u001b[1;32m    343\u001b[0m ) \u001b[38;5;241m-\u001b[39m\u001b[38;5;241m>\u001b[39m Tuple[ctypes\u001b[38;5;241m.\u001b[39mc_void_p, FeatureNames, Optional[List[\u001b[38;5;28mstr\u001b[39m]]]:\n\u001b[0;32m--> 344\u001b[0m     data, feature_names, feature_types \u001b[38;5;241m=\u001b[39m \u001b[43m_transform_pandas_df\u001b[49m\u001b[43m(\u001b[49m\n\u001b[1;32m    345\u001b[0m \u001b[43m        \u001b[49m\u001b[43mdata\u001b[49m\u001b[43m,\u001b[49m\u001b[43m \u001b[49m\u001b[43menable_categorical\u001b[49m\u001b[43m,\u001b[49m\u001b[43m \u001b[49m\u001b[43mfeature_names\u001b[49m\u001b[43m,\u001b[49m\u001b[43m \u001b[49m\u001b[43mfeature_types\u001b[49m\n\u001b[1;32m    346\u001b[0m \u001b[43m    \u001b[49m\u001b[43m)\u001b[49m\n\u001b[1;32m    347\u001b[0m     \u001b[38;5;28;01mreturn\u001b[39;00m _from_numpy_array(data, missing, nthread, feature_names, feature_types)\n",
      "File \u001b[0;32m~/venv/lib/python3.9/site-packages/xgboost/data.py:282\u001b[0m, in \u001b[0;36m_transform_pandas_df\u001b[0;34m(data, enable_categorical, feature_names, feature_types, meta, meta_type)\u001b[0m\n\u001b[1;32m    273\u001b[0m     \u001b[38;5;28;01mreturn\u001b[39;00m is_int \u001b[38;5;129;01mor\u001b[39;00m is_bool\n\u001b[1;32m    275\u001b[0m \u001b[38;5;28;01mif\u001b[39;00m \u001b[38;5;129;01mnot\u001b[39;00m \u001b[38;5;28mall\u001b[39m(\n\u001b[1;32m    276\u001b[0m     dtype\u001b[38;5;241m.\u001b[39mname \u001b[38;5;129;01min\u001b[39;00m _pandas_dtype_mapper\n\u001b[1;32m    277\u001b[0m     \u001b[38;5;129;01mor\u001b[39;00m is_sparse(dtype)\n\u001b[0;32m   (...)\u001b[0m\n\u001b[1;32m    280\u001b[0m     \u001b[38;5;28;01mfor\u001b[39;00m dtype \u001b[38;5;129;01min\u001b[39;00m data\u001b[38;5;241m.\u001b[39mdtypes\n\u001b[1;32m    281\u001b[0m ):\n\u001b[0;32m--> 282\u001b[0m     \u001b[43m_invalid_dataframe_dtype\u001b[49m\u001b[43m(\u001b[49m\u001b[43mdata\u001b[49m\u001b[43m)\u001b[49m\n\u001b[1;32m    284\u001b[0m \u001b[38;5;66;03m# handle feature names\u001b[39;00m\n\u001b[1;32m    285\u001b[0m \u001b[38;5;28;01mif\u001b[39;00m feature_names \u001b[38;5;129;01mis\u001b[39;00m \u001b[38;5;28;01mNone\u001b[39;00m \u001b[38;5;129;01mand\u001b[39;00m meta \u001b[38;5;129;01mis\u001b[39;00m \u001b[38;5;28;01mNone\u001b[39;00m:\n",
      "File \u001b[0;32m~/venv/lib/python3.9/site-packages/xgboost/data.py:246\u001b[0m, in \u001b[0;36m_invalid_dataframe_dtype\u001b[0;34m(data)\u001b[0m\n\u001b[1;32m    241\u001b[0m         err \u001b[38;5;241m=\u001b[39m \u001b[38;5;124m\"\u001b[39m\u001b[38;5;124m\"\u001b[39m\n\u001b[1;32m    243\u001b[0m     msg \u001b[38;5;241m=\u001b[39m \u001b[38;5;124m\"\"\"\u001b[39m\u001b[38;5;124mDataFrame.dtypes for data must be int, float, bool or category.  When\u001b[39m\n\u001b[1;32m    244\u001b[0m \u001b[38;5;124mcategorical type is supplied, DMatrix parameter `enable_categorical` must\u001b[39m\n\u001b[1;32m    245\u001b[0m \u001b[38;5;124mbe set to `True`.\u001b[39m\u001b[38;5;124m\"\"\"\u001b[39m \u001b[38;5;241m+\u001b[39m err\n\u001b[0;32m--> 246\u001b[0m     \u001b[38;5;28;01mraise\u001b[39;00m \u001b[38;5;167;01mValueError\u001b[39;00m(msg)\n",
      "\u001b[0;31mValueError\u001b[0m: DataFrame.dtypes for data must be int, float, bool or category.  When\ncategorical type is supplied, DMatrix parameter `enable_categorical` must\nbe set to `True`. Invalid columns:created_on, provincia, barrio, operation, property_type, property_currency, geometry"
     ]
    }
   ],
   "execution_count": 29
  },
  {
   "cell_type": "markdown",
   "source": "Arriba tenemos una metrica no explicada anteriormente:",
   "metadata": {
    "is_collapsed": false,
    "cell_id": "c6b2121df1f54e63b07c597d59d6ee99",
    "tags": [],
    "formattedRanges": [],
    "deepnote_cell_type": "text-cell-p"
   }
  },
  {
   "cell_type": "markdown",
   "source": "- Curva Roc: es un grafico mostrando la performance del modelo, con dos parametros, True Positive Rate y False Positive Rate.",
   "metadata": {
    "is_collapsed": false,
    "cell_id": "3700b66bbfc243bb9e963a34fdd4fd12",
    "tags": [],
    "formattedRanges": [],
    "deepnote_cell_type": "text-cell-bullet"
   }
  },
  {
   "cell_type": "markdown",
   "source": "",
   "metadata": {
    "is_collapsed": false,
    "cell_id": "021c1322-5308-4b1e-b2ca-a18789f0c04d",
    "tags": [],
    "formattedRanges": [],
    "deepnote_cell_type": "text-cell-p"
   }
  },
  {
   "cell_type": "markdown",
   "source": "",
   "metadata": {
    "is_collapsed": false,
    "cell_id": "1e48f659-3e10-4735-897d-b447e3b7078f",
    "tags": [],
    "formattedRanges": [],
    "deepnote_cell_type": "text-cell-p"
   }
  },
  {
   "cell_type": "markdown",
   "source": "<a style='text-decoration:none;line-height:16px;display:flex;color:#5B5B62;padding:10px;justify-content:end;' href='https://deepnote.com?utm_source=created-in-deepnote-cell&projectId=fcb02109-3268-4805-81b4-1fba96795907' target=\"_blank\">\n<img alt='Created in deepnote.com' style='display:inline;max-height:16px;margin:0px;margin-right:7.5px;' src='data:image/svg+xml;base64,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' > </img>\nCreated in <span style='font-weight:600;margin-left:4px;'>Deepnote</span></a>",
   "metadata": {
    "tags": [],
    "created_in_deepnote_cell": true,
    "deepnote_cell_type": "markdown"
   }
  }
 ],
 "nbformat": 4,
 "nbformat_minor": 2,
 "metadata": {
  "kernelspec": {
   "display_name": "Python 3.8.3 ('base')",
   "language": "python",
   "name": "python3"
  },
  "language_info": {
   "codemirror_mode": {
    "name": "ipython",
    "version": 3
   },
   "file_extension": ".py",
   "mimetype": "text/x-python",
   "name": "python",
   "nbconvert_exporter": "python",
   "pygments_lexer": "ipython3",
   "version": "3.8.3"
  },
  "orig_nbformat": 4,
  "vscode": {
   "interpreter": {
    "hash": "14611386fa2cd4265c4f0b62a048cd6d8d2bc09cf37ba48879354d3817581274"
   }
  },
  "deepnote_notebook_id": "024db3be-c9f5-491d-81f9-16afbd19a910",
  "deepnote": {},
  "deepnote_execution_queue": []
 }
}