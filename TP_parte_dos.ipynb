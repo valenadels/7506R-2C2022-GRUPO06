{
 "cells": [
  {
   "cell_type": "markdown",
   "metadata": {},
   "source": [
    "## Agrupamiento"
   ]
  },
  {
   "cell_type": "markdown",
   "metadata": {},
   "source": [
    "hopkins(ds_properaty, 100)##### Clustering"
   ]
  },
  {
   "cell_type": "code",
   "execution_count": 10,
   "metadata": {},
   "outputs": [
    {
     "name": "stdout",
     "output_type": "stream",
     "text": [
      "Requirement already satisfied: sklearn in /home/tomas/anaconda3/lib/python3.8/site-packages (0.0)\n",
      "Requirement already satisfied: scikit-learn in /home/tomas/anaconda3/lib/python3.8/site-packages (from sklearn) (0.23.1)\n",
      "Requirement already satisfied: scipy>=0.19.1 in /home/tomas/anaconda3/lib/python3.8/site-packages (from scikit-learn->sklearn) (1.5.0)\n",
      "Requirement already satisfied: numpy>=1.13.3 in /home/tomas/anaconda3/lib/python3.8/site-packages (from scikit-learn->sklearn) (1.20.3)\n",
      "Requirement already satisfied: joblib>=0.11 in /home/tomas/anaconda3/lib/python3.8/site-packages (from scikit-learn->sklearn) (0.16.0)\n",
      "Requirement already satisfied: threadpoolctl>=2.0.0 in /home/tomas/anaconda3/lib/python3.8/site-packages (from scikit-learn->sklearn) (2.1.0)\n",
      "\n",
      "Usage:   \n",
      "  pip install [options] <requirement specifier> [package-index-options] ...\n",
      "  pip install [options] -r <requirements file> [package-index-options] ...\n",
      "  pip install [options] [-e] <vcs project url> ...\n",
      "  pip install [options] [-e] <local project path> ...\n",
      "  pip install [options] <archive url/path> ...\n",
      "\n",
      "ambiguous option: --ignore (--ignore-installed, --ignore-requires-python?)\n",
      "\u001b[31mERROR: Could not find a version that satisfies the requirement llvmlite==0.39.1.0rc2 (from versions: 0.2.0, 0.2.1, 0.2.2, 0.4.0, 0.5.0, 0.6.0, 0.7.0, 0.8.0, 0.9.0, 0.10.0, 0.11.0, 0.12.0.1, 0.12.1, 0.13.0, 0.14.0, 0.15.0, 0.16.0, 0.17.0, 0.17.1, 0.18.0, 0.19.0, 0.20.0, 0.21.0, 0.22.0, 0.23.0, 0.23.2, 0.24.0, 0.25.0, 0.26.0, 0.27.0, 0.27.1, 0.28.0, 0.29.0, 0.30.0, 0.31.0, 0.32.0, 0.32.1, 0.33.0, 0.34.0, 0.35.0, 0.36.0, 0.37.0, 0.38.0, 0.38.1, 0.39.0, 0.39.1)\u001b[0m\u001b[31m\n",
      "\u001b[0m\u001b[31mERROR: No matching distribution found for llvmlite==0.39.1.0rc2\u001b[0m\u001b[31m\n",
      "\u001b[0mCollecting numba==0.53\n",
      "  Using cached numba-0.53.0-cp38-cp38-manylinux2014_x86_64.whl (3.4 MB)\n",
      "Collecting llvmlite<0.37,>=0.36.0rc1\n",
      "  Using cached llvmlite-0.36.0-cp38-cp38-manylinux2010_x86_64.whl (25.3 MB)\n",
      "Requirement already satisfied: setuptools in /home/tomas/anaconda3/lib/python3.8/site-packages (from numba==0.53) (49.2.0.post20200714)\n",
      "Requirement already satisfied: numpy>=1.15 in /home/tomas/anaconda3/lib/python3.8/site-packages (from numba==0.53) (1.20.3)\n",
      "Installing collected packages: llvmlite, numba\n",
      "  Attempting uninstall: llvmlite\n",
      "    Found existing installation: llvmlite 0.33.0+1.g022ab0f\n",
      "\u001b[31mERROR: Cannot uninstall 'llvmlite'. It is a distutils installed project and thus we cannot accurately determine which files belong to it which would lead to only a partial uninstall.\u001b[0m\u001b[31m\n",
      "\u001b[0mCollecting pyclustertend\n",
      "  Using cached pyclustertend-1.8.0-py3-none-any.whl (7.2 kB)\n",
      "Collecting numba<0.55.0,>=0.54.1\n",
      "  Using cached numba-0.54.1-cp38-cp38-manylinux2014_x86_64.manylinux_2_17_x86_64.whl (3.3 MB)\n",
      "Requirement already satisfied: pandas<2.0.0,>=1.2.0 in /home/tomas/anaconda3/lib/python3.8/site-packages (from pyclustertend) (1.5.0)\n",
      "Collecting matplotlib<4.0.0,>=3.3.3\n",
      "  Using cached matplotlib-3.6.0-cp38-cp38-manylinux_2_12_x86_64.manylinux2010_x86_64.whl (9.4 MB)\n",
      "Requirement already satisfied: numpy==1.20.3 in /home/tomas/anaconda3/lib/python3.8/site-packages (from pyclustertend) (1.20.3)\n",
      "Collecting scikit-learn<2.0.0,>=1.1.2\n",
      "  Using cached scikit_learn-1.1.2-cp38-cp38-manylinux_2_17_x86_64.manylinux2014_x86_64.whl (31.2 MB)\n",
      "Requirement already satisfied: python-dateutil>=2.7 in /home/tomas/.local/lib/python3.8/site-packages (from matplotlib<4.0.0,>=3.3.3->pyclustertend) (2.8.2)\n",
      "Requirement already satisfied: pyparsing>=2.2.1 in /home/tomas/anaconda3/lib/python3.8/site-packages (from matplotlib<4.0.0,>=3.3.3->pyclustertend) (2.4.7)\n",
      "Collecting contourpy>=1.0.1\n",
      "  Using cached contourpy-1.0.5-cp38-cp38-manylinux_2_17_x86_64.manylinux2014_x86_64.whl (295 kB)\n",
      "Requirement already satisfied: packaging>=20.0 in /home/tomas/.local/lib/python3.8/site-packages (from matplotlib<4.0.0,>=3.3.3->pyclustertend) (21.3)\n",
      "Requirement already satisfied: kiwisolver>=1.0.1 in /home/tomas/anaconda3/lib/python3.8/site-packages (from matplotlib<4.0.0,>=3.3.3->pyclustertend) (1.2.0)\n",
      "Collecting fonttools>=4.22.0\n",
      "  Using cached fonttools-4.37.4-py3-none-any.whl (960 kB)\n",
      "Requirement already satisfied: cycler>=0.10 in /home/tomas/anaconda3/lib/python3.8/site-packages (from matplotlib<4.0.0,>=3.3.3->pyclustertend) (0.10.0)\n",
      "Requirement already satisfied: pillow>=6.2.0 in /home/tomas/anaconda3/lib/python3.8/site-packages (from matplotlib<4.0.0,>=3.3.3->pyclustertend) (7.2.0)\n",
      "Collecting llvmlite<0.38,>=0.37.0rc1\n",
      "  Using cached llvmlite-0.37.0-cp38-cp38-manylinux2014_x86_64.whl (26.3 MB)\n",
      "Requirement already satisfied: setuptools in /home/tomas/anaconda3/lib/python3.8/site-packages (from numba<0.55.0,>=0.54.1->pyclustertend) (49.2.0.post20200714)\n",
      "Requirement already satisfied: pytz>=2020.1 in /home/tomas/anaconda3/lib/python3.8/site-packages (from pandas<2.0.0,>=1.2.0->pyclustertend) (2020.1)\n",
      "Requirement already satisfied: threadpoolctl>=2.0.0 in /home/tomas/anaconda3/lib/python3.8/site-packages (from scikit-learn<2.0.0,>=1.1.2->pyclustertend) (2.1.0)\n",
      "Requirement already satisfied: scipy>=1.3.2 in /home/tomas/anaconda3/lib/python3.8/site-packages (from scikit-learn<2.0.0,>=1.1.2->pyclustertend) (1.5.0)\n",
      "Collecting joblib>=1.0.0\n",
      "  Using cached joblib-1.2.0-py3-none-any.whl (297 kB)\n",
      "Requirement already satisfied: six in /home/tomas/anaconda3/lib/python3.8/site-packages (from cycler>=0.10->matplotlib<4.0.0,>=3.3.3->pyclustertend) (1.15.0)\n",
      "Installing collected packages: llvmlite, joblib, fonttools, contourpy, scikit-learn, numba, matplotlib, pyclustertend\n",
      "  Attempting uninstall: llvmlite\n",
      "    Found existing installation: llvmlite 0.33.0+1.g022ab0f\n",
      "\u001b[31mERROR: Cannot uninstall 'llvmlite'. It is a distutils installed project and thus we cannot accurately determine which files belong to it which would lead to only a partial uninstall.\u001b[0m\u001b[31m\n",
      "\u001b[0mRequirement already satisfied: pyclustering in /home/tomas/anaconda3/lib/python3.8/site-packages (0.10.1.2)\n",
      "Requirement already satisfied: scipy>=1.1.0 in /home/tomas/anaconda3/lib/python3.8/site-packages (from pyclustering) (1.5.0)\n",
      "Requirement already satisfied: Pillow>=5.2.0 in /home/tomas/anaconda3/lib/python3.8/site-packages (from pyclustering) (7.2.0)\n",
      "Requirement already satisfied: matplotlib>=3.0.0 in /home/tomas/anaconda3/lib/python3.8/site-packages (from pyclustering) (3.2.2)\n",
      "Requirement already satisfied: numpy>=1.15.2 in /home/tomas/anaconda3/lib/python3.8/site-packages (from pyclustering) (1.20.3)\n",
      "Requirement already satisfied: python-dateutil>=2.1 in /home/tomas/.local/lib/python3.8/site-packages (from matplotlib>=3.0.0->pyclustering) (2.8.2)\n",
      "Requirement already satisfied: cycler>=0.10 in /home/tomas/anaconda3/lib/python3.8/site-packages (from matplotlib>=3.0.0->pyclustering) (0.10.0)\n",
      "Requirement already satisfied: kiwisolver>=1.0.1 in /home/tomas/anaconda3/lib/python3.8/site-packages (from matplotlib>=3.0.0->pyclustering) (1.2.0)\n",
      "Requirement already satisfied: pyparsing!=2.0.4,!=2.1.2,!=2.1.6,>=2.0.1 in /home/tomas/anaconda3/lib/python3.8/site-packages (from matplotlib>=3.0.0->pyclustering) (2.4.7)\n",
      "Requirement already satisfied: six in /home/tomas/anaconda3/lib/python3.8/site-packages (from cycler>=0.10->matplotlib>=3.0.0->pyclustering) (1.15.0)\n"
     ]
    }
   ],
   "source": [
    "!pip install sklearn\n",
    "!pip install llvmlite --ignore installe\n",
    "!pip install llvmlite==0.39.1.0rc2 --ignore-installed\n",
    "!pip install numba==0.53\n",
    "!pip install pyclustertend\n",
    "\n",
    "!pip install pyclustering\n"
   ]
  },
  {
   "cell_type": "markdown",
   "metadata": {},
   "source": [
    "Importamos las librerias a utilizar en la segunda parte del tp "
   ]
  },
  {
   "cell_type": "code",
   "execution_count": 13,
   "metadata": {},
   "outputs": [],
   "source": [
    "import pandas as pd\n",
    "import numpy as np\n",
    "import matplotlib.pyplot as plt\n",
    "import seaborn as sns\n",
    "\n",
    "#Otras librerías\n",
    "import os\n",
    "import warnings\n",
    "warnings.simplefilter(action='ignore', category=FutureWarning)\n",
    "warnings.simplefilter(action='ignore', category=UserWarning)\n",
    "\n",
    "from sklearn.model_selection import train_test_split, cross_val_score\n",
    "from sklearn.cluster import KMeans\n",
    "# from pyclustertend import hopkins"
   ]
  },
  {
   "cell_type": "markdown",
   "metadata": {},
   "source": [
    "Importamos de vuelta la database"
   ]
  },
  {
   "cell_type": "code",
   "execution_count": 16,
   "metadata": {},
   "outputs": [],
   "source": [
    "ds_properati = pd.read_csv('nueva_database_properati.csv')    "
   ]
  },
  {
   "cell_type": "markdown",
   "metadata": {},
   "source": [
    "Como primer paso vamos a analizar la tendencia al clustering del dataset."
   ]
  },
  {
   "cell_type": "code",
   "execution_count": 11,
   "metadata": {},
   "outputs": [
    {
     "ename": "NameError",
     "evalue": "name 'hopkins' is not defined",
     "output_type": "error",
     "traceback": [
      "\u001b[0;31m---------------------------------------------------------------------------\u001b[0m",
      "\u001b[0;31mNameError\u001b[0m                                 Traceback (most recent call last)",
      "\u001b[1;32m/home/tomas/Escritorio/Facultad/Orga_De_Datos/TP1/TP_parte_dos.ipynb Celda 9\u001b[0m in \u001b[0;36m<cell line: 1>\u001b[0;34m()\u001b[0m\n\u001b[0;32m----> <a href='vscode-notebook-cell:/home/tomas/Escritorio/Facultad/Orga_De_Datos/TP1/TP_parte_dos.ipynb#X11sZmlsZQ%3D%3D?line=0'>1</a>\u001b[0m hopkins(ds_properaty, \u001b[39m100\u001b[39m)\n",
      "\u001b[0;31mNameError\u001b[0m: name 'hopkins' is not defined"
     ]
    }
   ],
   "source": [
    "hopkins(ds_properaty, 100)"
   ]
  },
  {
   "cell_type": "markdown",
   "metadata": {},
   "source": [
    "Entrenamos el argumento"
   ]
  },
  {
   "cell_type": "code",
   "execution_count": 22,
   "metadata": {},
   "outputs": [
    {
     "ename": "ValueError",
     "evalue": "Input contains NaN, infinity or a value too large for dtype('float64').",
     "output_type": "error",
     "traceback": [
      "\u001b[0;31m---------------------------------------------------------------------------\u001b[0m",
      "\u001b[0;31mValueError\u001b[0m                                Traceback (most recent call last)",
      "\u001b[1;32m/home/tomas/Escritorio/Facultad/Orga_De_Datos/TP1/TP_parte_dos.ipynb Celda 11\u001b[0m in \u001b[0;36m<cell line: 2>\u001b[0;34m()\u001b[0m\n\u001b[1;32m      <a href='vscode-notebook-cell:/home/tomas/Escritorio/Facultad/Orga_De_Datos/TP1/TP_parte_dos.ipynb#X13sZmlsZQ%3D%3D?line=0'>1</a>\u001b[0m kmeans \u001b[39m=\u001b[39m KMeans(n_clusters\u001b[39m=\u001b[39m\u001b[39m4\u001b[39m)\n\u001b[0;32m----> <a href='vscode-notebook-cell:/home/tomas/Escritorio/Facultad/Orga_De_Datos/TP1/TP_parte_dos.ipynb#X13sZmlsZQ%3D%3D?line=1'>2</a>\u001b[0m kmeans\u001b[39m.\u001b[39;49mfit(pd\u001b[39m.\u001b[39;49mDataFrame(ds_properati[\u001b[39m\"\u001b[39;49m\u001b[39mproperty_price\u001b[39;49m\u001b[39m\"\u001b[39;49m],ds_properati[\u001b[39m\"\u001b[39;49m\u001b[39mproperty_surface_covered\u001b[39;49m\u001b[39m\"\u001b[39;49m]))\n",
      "File \u001b[0;32m~/anaconda3/lib/python3.8/site-packages/sklearn/cluster/_kmeans.py:991\u001b[0m, in \u001b[0;36mKMeans.fit\u001b[0;34m(self, X, y, sample_weight)\u001b[0m\n\u001b[1;32m    985\u001b[0m \u001b[39mif\u001b[39;00m \u001b[39mself\u001b[39m\u001b[39m.\u001b[39mmax_iter \u001b[39m<\u001b[39m\u001b[39m=\u001b[39m \u001b[39m0\u001b[39m:\n\u001b[1;32m    986\u001b[0m     \u001b[39mraise\u001b[39;00m \u001b[39mValueError\u001b[39;00m(\n\u001b[1;32m    987\u001b[0m         \u001b[39m'\u001b[39m\u001b[39mNumber of iterations should be a positive number,\u001b[39m\u001b[39m'\u001b[39m\n\u001b[1;32m    988\u001b[0m         \u001b[39m'\u001b[39m\u001b[39m got \u001b[39m\u001b[39m%d\u001b[39;00m\u001b[39m instead\u001b[39m\u001b[39m'\u001b[39m \u001b[39m%\u001b[39m \u001b[39mself\u001b[39m\u001b[39m.\u001b[39mmax_iter\n\u001b[1;32m    989\u001b[0m     )\n\u001b[0;32m--> 991\u001b[0m X \u001b[39m=\u001b[39m \u001b[39mself\u001b[39;49m\u001b[39m.\u001b[39;49m_validate_data(X, accept_sparse\u001b[39m=\u001b[39;49m\u001b[39m'\u001b[39;49m\u001b[39mcsr\u001b[39;49m\u001b[39m'\u001b[39;49m,\n\u001b[1;32m    992\u001b[0m                         dtype\u001b[39m=\u001b[39;49m[np\u001b[39m.\u001b[39;49mfloat64, np\u001b[39m.\u001b[39;49mfloat32],\n\u001b[1;32m    993\u001b[0m                         order\u001b[39m=\u001b[39;49m\u001b[39m'\u001b[39;49m\u001b[39mC\u001b[39;49m\u001b[39m'\u001b[39;49m, copy\u001b[39m=\u001b[39;49m\u001b[39mself\u001b[39;49m\u001b[39m.\u001b[39;49mcopy_x,\n\u001b[1;32m    994\u001b[0m                         accept_large_sparse\u001b[39m=\u001b[39;49m\u001b[39mFalse\u001b[39;49;00m)\n\u001b[1;32m    995\u001b[0m \u001b[39m# verify that the number of samples given is larger than k\u001b[39;00m\n\u001b[1;32m    996\u001b[0m \u001b[39mif\u001b[39;00m _num_samples(X) \u001b[39m<\u001b[39m \u001b[39mself\u001b[39m\u001b[39m.\u001b[39mn_clusters:\n",
      "File \u001b[0;32m~/anaconda3/lib/python3.8/site-packages/sklearn/base.py:420\u001b[0m, in \u001b[0;36mBaseEstimator._validate_data\u001b[0;34m(self, X, y, reset, validate_separately, **check_params)\u001b[0m\n\u001b[1;32m    415\u001b[0m     \u001b[39mif\u001b[39;00m \u001b[39mself\u001b[39m\u001b[39m.\u001b[39m_get_tags()[\u001b[39m'\u001b[39m\u001b[39mrequires_y\u001b[39m\u001b[39m'\u001b[39m]:\n\u001b[1;32m    416\u001b[0m         \u001b[39mraise\u001b[39;00m \u001b[39mValueError\u001b[39;00m(\n\u001b[1;32m    417\u001b[0m             \u001b[39mf\u001b[39m\u001b[39m\"\u001b[39m\u001b[39mThis \u001b[39m\u001b[39m{\u001b[39;00m\u001b[39mself\u001b[39m\u001b[39m.\u001b[39m\u001b[39m__class__\u001b[39m\u001b[39m.\u001b[39m\u001b[39m__name__\u001b[39m\u001b[39m}\u001b[39;00m\u001b[39m estimator \u001b[39m\u001b[39m\"\u001b[39m\n\u001b[1;32m    418\u001b[0m             \u001b[39mf\u001b[39m\u001b[39m\"\u001b[39m\u001b[39mrequires y to be passed, but the target y is None.\u001b[39m\u001b[39m\"\u001b[39m\n\u001b[1;32m    419\u001b[0m         )\n\u001b[0;32m--> 420\u001b[0m     X \u001b[39m=\u001b[39m check_array(X, \u001b[39m*\u001b[39;49m\u001b[39m*\u001b[39;49mcheck_params)\n\u001b[1;32m    421\u001b[0m     out \u001b[39m=\u001b[39m X\n\u001b[1;32m    422\u001b[0m \u001b[39melse\u001b[39;00m:\n",
      "File \u001b[0;32m~/anaconda3/lib/python3.8/site-packages/sklearn/utils/validation.py:73\u001b[0m, in \u001b[0;36m_deprecate_positional_args.<locals>.inner_f\u001b[0;34m(*args, **kwargs)\u001b[0m\n\u001b[1;32m     68\u001b[0m     warnings\u001b[39m.\u001b[39mwarn(\u001b[39m\"\u001b[39m\u001b[39mPass \u001b[39m\u001b[39m{}\u001b[39;00m\u001b[39m as keyword args. From version 0.25 \u001b[39m\u001b[39m\"\u001b[39m\n\u001b[1;32m     69\u001b[0m                   \u001b[39m\"\u001b[39m\u001b[39mpassing these as positional arguments will \u001b[39m\u001b[39m\"\u001b[39m\n\u001b[1;32m     70\u001b[0m                   \u001b[39m\"\u001b[39m\u001b[39mresult in an error\u001b[39m\u001b[39m\"\u001b[39m\u001b[39m.\u001b[39mformat(\u001b[39m\"\u001b[39m\u001b[39m, \u001b[39m\u001b[39m\"\u001b[39m\u001b[39m.\u001b[39mjoin(args_msg)),\n\u001b[1;32m     71\u001b[0m                   \u001b[39mFutureWarning\u001b[39;00m)\n\u001b[1;32m     72\u001b[0m kwargs\u001b[39m.\u001b[39mupdate({k: arg \u001b[39mfor\u001b[39;00m k, arg \u001b[39min\u001b[39;00m \u001b[39mzip\u001b[39m(sig\u001b[39m.\u001b[39mparameters, args)})\n\u001b[0;32m---> 73\u001b[0m \u001b[39mreturn\u001b[39;00m f(\u001b[39m*\u001b[39;49m\u001b[39m*\u001b[39;49mkwargs)\n",
      "File \u001b[0;32m~/anaconda3/lib/python3.8/site-packages/sklearn/utils/validation.py:645\u001b[0m, in \u001b[0;36mcheck_array\u001b[0;34m(array, accept_sparse, accept_large_sparse, dtype, order, copy, force_all_finite, ensure_2d, allow_nd, ensure_min_samples, ensure_min_features, estimator)\u001b[0m\n\u001b[1;32m    641\u001b[0m         \u001b[39mraise\u001b[39;00m \u001b[39mValueError\u001b[39;00m(\u001b[39m\"\u001b[39m\u001b[39mFound array with dim \u001b[39m\u001b[39m%d\u001b[39;00m\u001b[39m. \u001b[39m\u001b[39m%s\u001b[39;00m\u001b[39m expected <= 2.\u001b[39m\u001b[39m\"\u001b[39m\n\u001b[1;32m    642\u001b[0m                          \u001b[39m%\u001b[39m (array\u001b[39m.\u001b[39mndim, estimator_name))\n\u001b[1;32m    644\u001b[0m     \u001b[39mif\u001b[39;00m force_all_finite:\n\u001b[0;32m--> 645\u001b[0m         _assert_all_finite(array,\n\u001b[1;32m    646\u001b[0m                            allow_nan\u001b[39m=\u001b[39;49mforce_all_finite \u001b[39m==\u001b[39;49m \u001b[39m'\u001b[39;49m\u001b[39mallow-nan\u001b[39;49m\u001b[39m'\u001b[39;49m)\n\u001b[1;32m    648\u001b[0m \u001b[39mif\u001b[39;00m ensure_min_samples \u001b[39m>\u001b[39m \u001b[39m0\u001b[39m:\n\u001b[1;32m    649\u001b[0m     n_samples \u001b[39m=\u001b[39m _num_samples(array)\n",
      "File \u001b[0;32m~/anaconda3/lib/python3.8/site-packages/sklearn/utils/validation.py:97\u001b[0m, in \u001b[0;36m_assert_all_finite\u001b[0;34m(X, allow_nan, msg_dtype)\u001b[0m\n\u001b[1;32m     94\u001b[0m     \u001b[39mif\u001b[39;00m (allow_nan \u001b[39mand\u001b[39;00m np\u001b[39m.\u001b[39misinf(X)\u001b[39m.\u001b[39many() \u001b[39mor\u001b[39;00m\n\u001b[1;32m     95\u001b[0m             \u001b[39mnot\u001b[39;00m allow_nan \u001b[39mand\u001b[39;00m \u001b[39mnot\u001b[39;00m np\u001b[39m.\u001b[39misfinite(X)\u001b[39m.\u001b[39mall()):\n\u001b[1;32m     96\u001b[0m         type_err \u001b[39m=\u001b[39m \u001b[39m'\u001b[39m\u001b[39minfinity\u001b[39m\u001b[39m'\u001b[39m \u001b[39mif\u001b[39;00m allow_nan \u001b[39melse\u001b[39;00m \u001b[39m'\u001b[39m\u001b[39mNaN, infinity\u001b[39m\u001b[39m'\u001b[39m\n\u001b[0;32m---> 97\u001b[0m         \u001b[39mraise\u001b[39;00m \u001b[39mValueError\u001b[39;00m(\n\u001b[1;32m     98\u001b[0m                 msg_err\u001b[39m.\u001b[39mformat\n\u001b[1;32m     99\u001b[0m                 (type_err,\n\u001b[1;32m    100\u001b[0m                  msg_dtype \u001b[39mif\u001b[39;00m msg_dtype \u001b[39mis\u001b[39;00m \u001b[39mnot\u001b[39;00m \u001b[39mNone\u001b[39;00m \u001b[39melse\u001b[39;00m X\u001b[39m.\u001b[39mdtype)\n\u001b[1;32m    101\u001b[0m         )\n\u001b[1;32m    102\u001b[0m \u001b[39m# for object dtype data, we only check for NaNs (GH-13254)\u001b[39;00m\n\u001b[1;32m    103\u001b[0m \u001b[39melif\u001b[39;00m X\u001b[39m.\u001b[39mdtype \u001b[39m==\u001b[39m np\u001b[39m.\u001b[39mdtype(\u001b[39m'\u001b[39m\u001b[39mobject\u001b[39m\u001b[39m'\u001b[39m) \u001b[39mand\u001b[39;00m \u001b[39mnot\u001b[39;00m allow_nan:\n",
      "\u001b[0;31mValueError\u001b[0m: Input contains NaN, infinity or a value too large for dtype('float64')."
     ]
    }
   ],
   "source": [
    "kmeans = KMeans(n_clusters=4)\n",
    "kmeans.fit(pd.DataFrame(ds_properati[\"property_price\"],ds_properati[\"property_surface_covered\"]))"
   ]
  }
 ],
 "metadata": {
  "kernelspec": {
   "display_name": "Python 3.8.3 ('base')",
   "language": "python",
   "name": "python3"
  },
  "language_info": {
   "codemirror_mode": {
    "name": "ipython",
    "version": 3
   },
   "file_extension": ".py",
   "mimetype": "text/x-python",
   "name": "python",
   "nbconvert_exporter": "python",
   "pygments_lexer": "ipython3",
   "version": "3.8.3"
  },
  "orig_nbformat": 4,
  "vscode": {
   "interpreter": {
    "hash": "14611386fa2cd4265c4f0b62a048cd6d8d2bc09cf37ba48879354d3817581274"
   }
  }
 },
 "nbformat": 4,
 "nbformat_minor": 2
}
